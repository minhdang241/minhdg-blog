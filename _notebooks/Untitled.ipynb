{
 "cells": [
  {
   "cell_type": "markdown",
   "id": "de54a69c-6447-4c03-91d6-5e149d4b6b41",
   "metadata": {},
   "source": [
    "# Dependencies\n",
    "\n",
    "Reason:\n",
    "- Demonstrate the relationships between words in a straightforward way\n",
    "- Particularly good for multilinguality. "
   ]
  },
  {
   "cell_type": "markdown",
   "id": "5846aa5f-a167-49d2-9494-28246e4dc216",
   "metadata": {},
   "source": [
    "# Semantic and syntactic Dependencies\n",
    "# Use cases of Dependencies\n",
    "- Previously, used for feature engineering in systems\n",
    "- Now: more useful for human-facing applications"
   ]
  },
  {
   "cell_type": "code",
   "execution_count": null,
   "id": "ea2e4a40-c86d-429f-8129-21f55182b462",
   "metadata": {},
   "outputs": [],
   "source": []
  }
 ],
 "metadata": {
  "kernelspec": {
   "display_name": "Python 3",
   "language": "python",
   "name": "python3"
  },
  "language_info": {
   "codemirror_mode": {
    "name": "ipython",
    "version": 3
   },
   "file_extension": ".py",
   "mimetype": "text/x-python",
   "name": "python",
   "nbconvert_exporter": "python",
   "pygments_lexer": "ipython3",
   "version": "3.9.5"
  }
 },
 "nbformat": 4,
 "nbformat_minor": 5
}
