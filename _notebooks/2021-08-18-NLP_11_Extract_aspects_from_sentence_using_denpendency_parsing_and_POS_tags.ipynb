{
 "cells": [
  {
   "cell_type": "markdown",
   "metadata": {},
   "source": [
    "# Extract aspects from sentence using denpendency parsing and POS tags\n",
    "> Extract aspects in the sentences for aspect sentiment analysis uisng dependency parsing and pos tags.\n",
    "\n",
    "- toc: true \n",
    "- badges: false\n",
    "- comments: true\n",
    "- categories: [implementation]\n",
    "- image: images/DP.jpg"
   ]
  },
  {
   "cell_type": "code",
   "execution_count": null,
   "metadata": {
    "colab": {
     "base_uri": "https://localhost:8080/"
    },
    "id": "SKcdjksMaMud",
    "outputId": "8543500e-7093-4747-b3e0-8818524c9e77"
   },
   "outputs": [
    {
     "name": "stdout",
     "output_type": "stream",
     "text": [
      "Mounted at /content/drive\n"
     ]
    }
   ],
   "source": [
    "from google.colab import drive\n",
    "drive.mount('/content/drive')"
   ]
  },
  {
   "cell_type": "markdown",
   "metadata": {
    "id": "geHzW3tcT0Nr"
   },
   "source": [
    "# Install required modules"
   ]
  },
  {
   "cell_type": "code",
   "execution_count": null,
   "metadata": {
    "id": "uuusneI2LOJC"
   },
   "outputs": [],
   "source": [
    "%%capture\n",
    "!pip install pyvi\n",
    "!pip install https://github.com/trungtv/vi_spacy/raw/master/packages/vi_spacy_model-0.2.1/dist/vi_spacy_model-0.2.1.tar.gz\n",
    "!pip install spacy==2.1.4"
   ]
  },
  {
   "cell_type": "markdown",
   "metadata": {
    "id": "l-RdmUZzUCcR"
   },
   "source": [
    "**Note:** In this post, we will use spacy version 2 since in version it changes the way to load model, and I don't know how to make it work for the `vi_spacy_model` :)."
   ]
  },
  {
   "cell_type": "code",
   "execution_count": null,
   "metadata": {
    "id": "V-EsCy5CYvpj"
   },
   "outputs": [],
   "source": [
    "import pandas as pd\n",
    "import numpy as np\n",
    "import spacy\n",
    "from string import punctuation"
   ]
  },
  {
   "cell_type": "code",
   "execution_count": null,
   "metadata": {
    "id": "8hOnF0eSZYfu"
   },
   "outputs": [],
   "source": [
    "# Not limit the column width of dataframe\n",
    "pd.set_option(\"display.max_colwidth\", None)"
   ]
  },
  {
   "cell_type": "markdown",
   "metadata": {
    "id": "CKfMCu0umj4e"
   },
   "source": [
    "# Load dataset"
   ]
  },
  {
   "cell_type": "code",
   "execution_count": null,
   "metadata": {
    "id": "p3UICA9JotYg"
   },
   "outputs": [],
   "source": [
    "df = pd.read_csv(\"/content/drive/MyDrive/SLSOPS/dataset/vietnamese/spacy.csv\")"
   ]
  },
  {
   "cell_type": "code",
   "execution_count": null,
   "metadata": {
    "colab": {
     "base_uri": "https://localhost:8080/",
     "height": 223
    },
    "id": "evYUJaWKo0ne",
    "outputId": "de44d770-a540-444d-f6a5-e20aa2e27461"
   },
   "outputs": [
    {
     "data": {
      "text/html": [
       "<div>\n",
       "<style scoped>\n",
       "    .dataframe tbody tr th:only-of-type {\n",
       "        vertical-align: middle;\n",
       "    }\n",
       "\n",
       "    .dataframe tbody tr th {\n",
       "        vertical-align: top;\n",
       "    }\n",
       "\n",
       "    .dataframe thead th {\n",
       "        text-align: right;\n",
       "    }\n",
       "</style>\n",
       "<table border=\"1\" class=\"dataframe\">\n",
       "  <thead>\n",
       "    <tr style=\"text-align: right;\">\n",
       "      <th></th>\n",
       "      <th>db_id</th>\n",
       "      <th>raw</th>\n",
       "      <th>tokenized_spacy</th>\n",
       "      <th>spacy_no_sw</th>\n",
       "      <th>star_rating</th>\n",
       "    </tr>\n",
       "  </thead>\n",
       "  <tbody>\n",
       "    <tr>\n",
       "      <th>0</th>\n",
       "      <td>1</td>\n",
       "      <td>Shipper giao đúng hẹn, tận tình mang vào đến cửa căn hộ chung cư.</td>\n",
       "      <td>shipper giao đúng hẹn tận_tình mang vào đến cửa căn_hộ chung_cư</td>\n",
       "      <td>shipper giao hẹn tận_tình cửa căn_hộ chung_cư</td>\n",
       "      <td>5</td>\n",
       "    </tr>\n",
       "    <tr>\n",
       "      <th>1</th>\n",
       "      <td>1</td>\n",
       "      <td>Nhân viên lắp đặt thân thiện, làm việc tốt, tuy nhiên hơi làm dơ tường và đồ đạc trong nhà.</td>\n",
       "      <td>nhân_viên lắp_đặt thân_thiện làm_việc tốt tuy_nhiên hơi làm dơ tường và đồ_đạc trong nhà</td>\n",
       "      <td>nhân_viên lắp_đặt thân_thiện làm_việc tốt hơi dơ tường đồ_đạc</td>\n",
       "      <td>5</td>\n",
       "    </tr>\n",
       "    <tr>\n",
       "      <th>2</th>\n",
       "      <td>1</td>\n",
       "      <td>Sản phẩm đẹp, giá cạnh tranh.</td>\n",
       "      <td>sản_phẩm đẹp giá cạnh_tranh</td>\n",
       "      <td>sản_phẩm đẹp giá cạnh_tranh</td>\n",
       "      <td>5</td>\n",
       "    </tr>\n",
       "    <tr>\n",
       "      <th>3</th>\n",
       "      <td>1</td>\n",
       "      <td>Nhưng giá Tiki bán là ko tặng vật tư giống ở ngoài bán.</td>\n",
       "      <td>nhưng giá tiki bán là không tặng_vật_tư giống ở ngoài bán</td>\n",
       "      <td>giá tiki tặng_vật_tư</td>\n",
       "      <td>5</td>\n",
       "    </tr>\n",
       "    <tr>\n",
       "      <th>4</th>\n",
       "      <td>1</td>\n",
       "      <td>Lúc máy mình lắp xong thì giá vật tư là khoảng hơn 1 triệu.</td>\n",
       "      <td>lúc máy mình lắp xong thì giá vật_tư là khoảng hơn 1 triệu</td>\n",
       "      <td>máy lắp xong giá vật_tư 1 triệu</td>\n",
       "      <td>5</td>\n",
       "    </tr>\n",
       "  </tbody>\n",
       "</table>\n",
       "</div>"
      ],
      "text/plain": [
       "   db_id  ... star_rating\n",
       "0      1  ...           5\n",
       "1      1  ...           5\n",
       "2      1  ...           5\n",
       "3      1  ...           5\n",
       "4      1  ...           5\n",
       "\n",
       "[5 rows x 5 columns]"
      ]
     },
     "execution_count": 45,
     "metadata": {
      "tags": []
     },
     "output_type": "execute_result"
    }
   ],
   "source": [
    "df.head()"
   ]
  },
  {
   "cell_type": "markdown",
   "metadata": {
    "id": "2B06qm6WLVib"
   },
   "source": [
    "# Extract Aspects using NER and POS"
   ]
  },
  {
   "cell_type": "code",
   "execution_count": null,
   "metadata": {
    "id": "9qN73_bRo2JF"
   },
   "outputs": [],
   "source": [
    "from dataclasses import dataclass\n",
    "@dataclass\n",
    "class AsOp:\n",
    "    aspect: Any = None\n",
    "    opinion: Any = None\n",
    "    adv: Any = None \n",
    "    verb: Any = None\n",
    "    negative: bool = False\n",
    "    aspect_compound: Any = None\n",
    "\n",
    "@dataclass\n",
    "class Aspect_Opinion:\n",
    "    aspect: str = None\n",
    "    opinion: str = None\n",
    "    verb: str = None\n",
    "    negative: bool = False\n",
    "\n"
   ]
  },
  {
   "cell_type": "code",
   "execution_count": null,
   "metadata": {
    "colab": {
     "base_uri": "https://localhost:8080/"
    },
    "id": "frN28mU4IqGP",
    "outputId": "73c0d4e8-8876-47c0-e1e8-7ec5a52aa764"
   },
   "outputs": [
    {
     "name": "stdout",
     "output_type": "stream",
     "text": [
      "Cộng_đồng N nsubj\n",
      "xử_lý V ROOT\n",
      "ngôn_ngữ N obj\n",
      "tự_nhiên A compound\n"
     ]
    }
   ],
   "source": [
    "# Test the libary\n",
    "import spacy\n",
    "nlp = spacy.load('vi_spacy_model')\n",
    "doc = nlp('Cộng đồng xử lý ngôn ngữ tự nhiên')\n",
    "for token in doc:\n",
    "    print(token.text, token.tag_, token.dep_)"
   ]
  },
  {
   "cell_type": "code",
   "execution_count": null,
   "metadata": {
    "colab": {
     "base_uri": "https://localhost:8080/",
     "height": 36
    },
    "id": "H9ObefawMzQZ",
    "outputId": "d50a52b4-a25c-4e62-9e7a-b8855c1b0ca1"
   },
   "outputs": [
    {
     "data": {
      "application/vnd.google.colaboratory.intrinsic+json": {
       "type": "string"
      },
      "text/plain": [
       "'shipper giao hẹn tận_tình cửa căn_hộ chung_cư'"
      ]
     },
     "execution_count": 12,
     "metadata": {
      "tags": []
     },
     "output_type": "execute_result"
    }
   ],
   "source": [
    "# Load the preprocess data\n",
    "data = list(df['spacy_no_sw'])\n",
    "data[0]"
   ]
  },
  {
   "cell_type": "code",
   "execution_count": null,
   "metadata": {
    "colab": {
     "base_uri": "https://localhost:8080/",
     "height": 422
    },
    "id": "luCK7AGAMbC-",
    "outputId": "9f27bbf5-53aa-4718-e418-c92b03c6a01b"
   },
   "outputs": [
    {
     "data": {
      "text/html": [
       "<svg xmlns=\"http://www.w3.org/2000/svg\" xmlns:xlink=\"http://www.w3.org/1999/xlink\" xml:lang=\"vi\" id=\"8b1745ebcf974b558d33061789e51dac-0\" class=\"displacy\" width=\"750\" height=\"399.5\" direction=\"ltr\" style=\"max-width: none; height: 399.5px; color: #000000; background: #ffffff; font-family: Arial; direction: ltr\">\n",
       "<text class=\"displacy-token\" fill=\"currentColor\" text-anchor=\"middle\" y=\"309.5\">\n",
       "    <tspan class=\"displacy-word\" fill=\"currentColor\" x=\"50\">sản_phẩm</tspan>\n",
       "    <tspan class=\"displacy-tag\" dy=\"2em\" fill=\"currentColor\" x=\"50\">X</tspan>\n",
       "</text>\n",
       "\n",
       "<text class=\"displacy-token\" fill=\"currentColor\" text-anchor=\"middle\" y=\"309.5\">\n",
       "    <tspan class=\"displacy-word\" fill=\"currentColor\" x=\"225\">đẹp</tspan>\n",
       "    <tspan class=\"displacy-tag\" dy=\"2em\" fill=\"currentColor\" x=\"225\">X</tspan>\n",
       "</text>\n",
       "\n",
       "<text class=\"displacy-token\" fill=\"currentColor\" text-anchor=\"middle\" y=\"309.5\">\n",
       "    <tspan class=\"displacy-word\" fill=\"currentColor\" x=\"400\">giá</tspan>\n",
       "    <tspan class=\"displacy-tag\" dy=\"2em\" fill=\"currentColor\" x=\"400\">X</tspan>\n",
       "</text>\n",
       "\n",
       "<text class=\"displacy-token\" fill=\"currentColor\" text-anchor=\"middle\" y=\"309.5\">\n",
       "    <tspan class=\"displacy-word\" fill=\"currentColor\" x=\"575\">cạnh_tranh</tspan>\n",
       "    <tspan class=\"displacy-tag\" dy=\"2em\" fill=\"currentColor\" x=\"575\">X</tspan>\n",
       "</text>\n",
       "\n",
       "<g class=\"displacy-arrow\">\n",
       "    <path class=\"displacy-arc\" id=\"arrow-8b1745ebcf974b558d33061789e51dac-0-0\" stroke-width=\"2px\" d=\"M70,264.5 C70,177.0 215.0,177.0 215.0,264.5\" fill=\"none\" stroke=\"currentColor\"/>\n",
       "    <text dy=\"1.25em\" style=\"font-size: 0.8em; letter-spacing: 1px\">\n",
       "        <textPath xlink:href=\"#arrow-8b1745ebcf974b558d33061789e51dac-0-0\" class=\"displacy-label\" startOffset=\"50%\" side=\"left\" fill=\"currentColor\" text-anchor=\"middle\">amod</textPath>\n",
       "    </text>\n",
       "    <path class=\"displacy-arrowhead\" d=\"M215.0,266.5 L223.0,254.5 207.0,254.5\" fill=\"currentColor\"/>\n",
       "</g>\n",
       "\n",
       "<g class=\"displacy-arrow\">\n",
       "    <path class=\"displacy-arc\" id=\"arrow-8b1745ebcf974b558d33061789e51dac-0-1\" stroke-width=\"2px\" d=\"M70,264.5 C70,89.5 395.0,89.5 395.0,264.5\" fill=\"none\" stroke=\"currentColor\"/>\n",
       "    <text dy=\"1.25em\" style=\"font-size: 0.8em; letter-spacing: 1px\">\n",
       "        <textPath xlink:href=\"#arrow-8b1745ebcf974b558d33061789e51dac-0-1\" class=\"displacy-label\" startOffset=\"50%\" side=\"left\" fill=\"currentColor\" text-anchor=\"middle\">compound</textPath>\n",
       "    </text>\n",
       "    <path class=\"displacy-arrowhead\" d=\"M395.0,266.5 L403.0,254.5 387.0,254.5\" fill=\"currentColor\"/>\n",
       "</g>\n",
       "\n",
       "<g class=\"displacy-arrow\">\n",
       "    <path class=\"displacy-arc\" id=\"arrow-8b1745ebcf974b558d33061789e51dac-0-2\" stroke-width=\"2px\" d=\"M70,264.5 C70,2.0 575.0,2.0 575.0,264.5\" fill=\"none\" stroke=\"currentColor\"/>\n",
       "    <text dy=\"1.25em\" style=\"font-size: 0.8em; letter-spacing: 1px\">\n",
       "        <textPath xlink:href=\"#arrow-8b1745ebcf974b558d33061789e51dac-0-2\" class=\"displacy-label\" startOffset=\"50%\" side=\"left\" fill=\"currentColor\" text-anchor=\"middle\">xcomp</textPath>\n",
       "    </text>\n",
       "    <path class=\"displacy-arrowhead\" d=\"M575.0,266.5 L583.0,254.5 567.0,254.5\" fill=\"currentColor\"/>\n",
       "</g>\n",
       "</svg>"
      ],
      "text/plain": [
       "<IPython.core.display.HTML object>"
      ]
     },
     "metadata": {
      "tags": []
     },
     "output_type": "display_data"
    }
   ],
   "source": [
    "from spacy import displacy # module for visualize the denpendency parsing\n",
    "displacy.render(nlp(df['tokenized_spacy'][2]), style=\"dep\", jupyter=True)"
   ]
  },
  {
   "cell_type": "code",
   "execution_count": null,
   "metadata": {
    "colab": {
     "base_uri": "https://localhost:8080/",
     "height": 617
    },
    "id": "toTZUEtGM4Zj",
    "outputId": "b87bd66d-8087-4d52-cee0-d1c8d6b9cd89"
   },
   "outputs": [
    {
     "data": {
      "text/html": [
       "<svg xmlns=\"http://www.w3.org/2000/svg\" xmlns:xlink=\"http://www.w3.org/1999/xlink\" xml:lang=\"vi\" id=\"73398a62cf9346a59f15c322fb9f9806-0\" class=\"displacy\" width=\"2850\" height=\"574.5\" direction=\"ltr\" style=\"max-width: none; height: 574.5px; color: #000000; background: #ffffff; font-family: Arial; direction: ltr\">\n",
       "<text class=\"displacy-token\" fill=\"currentColor\" text-anchor=\"middle\" y=\"484.5\">\n",
       "    <tspan class=\"displacy-word\" fill=\"currentColor\" x=\"50\">tiền</tspan>\n",
       "    <tspan class=\"displacy-tag\" dy=\"2em\" fill=\"currentColor\" x=\"50\">X</tspan>\n",
       "</text>\n",
       "\n",
       "<text class=\"displacy-token\" fill=\"currentColor\" text-anchor=\"middle\" y=\"484.5\">\n",
       "    <tspan class=\"displacy-word\" fill=\"currentColor\" x=\"225\">nào</tspan>\n",
       "    <tspan class=\"displacy-tag\" dy=\"2em\" fill=\"currentColor\" x=\"225\">X</tspan>\n",
       "</text>\n",
       "\n",
       "<text class=\"displacy-token\" fill=\"currentColor\" text-anchor=\"middle\" y=\"484.5\">\n",
       "    <tspan class=\"displacy-word\" fill=\"currentColor\" x=\"400\">của</tspan>\n",
       "    <tspan class=\"displacy-tag\" dy=\"2em\" fill=\"currentColor\" x=\"400\">X</tspan>\n",
       "</text>\n",
       "\n",
       "<text class=\"displacy-token\" fill=\"currentColor\" text-anchor=\"middle\" y=\"484.5\">\n",
       "    <tspan class=\"displacy-word\" fill=\"currentColor\" x=\"575\">nấy</tspan>\n",
       "    <tspan class=\"displacy-tag\" dy=\"2em\" fill=\"currentColor\" x=\"575\">X</tspan>\n",
       "</text>\n",
       "\n",
       "<text class=\"displacy-token\" fill=\"currentColor\" text-anchor=\"middle\" y=\"484.5\">\n",
       "    <tspan class=\"displacy-word\" fill=\"currentColor\" x=\"750\">nhưng</tspan>\n",
       "    <tspan class=\"displacy-tag\" dy=\"2em\" fill=\"currentColor\" x=\"750\">X</tspan>\n",
       "</text>\n",
       "\n",
       "<text class=\"displacy-token\" fill=\"currentColor\" text-anchor=\"middle\" y=\"484.5\">\n",
       "    <tspan class=\"displacy-word\" fill=\"currentColor\" x=\"925\">âm_thanh</tspan>\n",
       "    <tspan class=\"displacy-tag\" dy=\"2em\" fill=\"currentColor\" x=\"925\">X</tspan>\n",
       "</text>\n",
       "\n",
       "<text class=\"displacy-token\" fill=\"currentColor\" text-anchor=\"middle\" y=\"484.5\">\n",
       "    <tspan class=\"displacy-word\" fill=\"currentColor\" x=\"1100\">ồn_ào</tspan>\n",
       "    <tspan class=\"displacy-tag\" dy=\"2em\" fill=\"currentColor\" x=\"1100\">X</tspan>\n",
       "</text>\n",
       "\n",
       "<text class=\"displacy-token\" fill=\"currentColor\" text-anchor=\"middle\" y=\"484.5\">\n",
       "    <tspan class=\"displacy-word\" fill=\"currentColor\" x=\"1275\">như</tspan>\n",
       "    <tspan class=\"displacy-tag\" dy=\"2em\" fill=\"currentColor\" x=\"1275\">X</tspan>\n",
       "</text>\n",
       "\n",
       "<text class=\"displacy-token\" fill=\"currentColor\" text-anchor=\"middle\" y=\"484.5\">\n",
       "    <tspan class=\"displacy-word\" fill=\"currentColor\" x=\"1450\">động_cơ</tspan>\n",
       "    <tspan class=\"displacy-tag\" dy=\"2em\" fill=\"currentColor\" x=\"1450\">X</tspan>\n",
       "</text>\n",
       "\n",
       "<text class=\"displacy-token\" fill=\"currentColor\" text-anchor=\"middle\" y=\"484.5\">\n",
       "    <tspan class=\"displacy-word\" fill=\"currentColor\" x=\"1625\">bezen</tspan>\n",
       "    <tspan class=\"displacy-tag\" dy=\"2em\" fill=\"currentColor\" x=\"1625\">X</tspan>\n",
       "</text>\n",
       "\n",
       "<text class=\"displacy-token\" fill=\"currentColor\" text-anchor=\"middle\" y=\"484.5\">\n",
       "    <tspan class=\"displacy-word\" fill=\"currentColor\" x=\"1800\">ầm_ầm</tspan>\n",
       "    <tspan class=\"displacy-tag\" dy=\"2em\" fill=\"currentColor\" x=\"1800\">X</tspan>\n",
       "</text>\n",
       "\n",
       "<text class=\"displacy-token\" fill=\"currentColor\" text-anchor=\"middle\" y=\"484.5\">\n",
       "    <tspan class=\"displacy-word\" fill=\"currentColor\" x=\"1975\">thế</tspan>\n",
       "    <tspan class=\"displacy-tag\" dy=\"2em\" fill=\"currentColor\" x=\"1975\">X</tspan>\n",
       "</text>\n",
       "\n",
       "<text class=\"displacy-token\" fill=\"currentColor\" text-anchor=\"middle\" y=\"484.5\">\n",
       "    <tspan class=\"displacy-word\" fill=\"currentColor\" x=\"2150\">này</tspan>\n",
       "    <tspan class=\"displacy-tag\" dy=\"2em\" fill=\"currentColor\" x=\"2150\">X</tspan>\n",
       "</text>\n",
       "\n",
       "<text class=\"displacy-token\" fill=\"currentColor\" text-anchor=\"middle\" y=\"484.5\">\n",
       "    <tspan class=\"displacy-word\" fill=\"currentColor\" x=\"2325\">thì</tspan>\n",
       "    <tspan class=\"displacy-tag\" dy=\"2em\" fill=\"currentColor\" x=\"2325\">X</tspan>\n",
       "</text>\n",
       "\n",
       "<text class=\"displacy-token\" fill=\"currentColor\" text-anchor=\"middle\" y=\"484.5\">\n",
       "    <tspan class=\"displacy-word\" fill=\"currentColor\" x=\"2500\">chịu</tspan>\n",
       "    <tspan class=\"displacy-tag\" dy=\"2em\" fill=\"currentColor\" x=\"2500\">X</tspan>\n",
       "</text>\n",
       "\n",
       "<text class=\"displacy-token\" fill=\"currentColor\" text-anchor=\"middle\" y=\"484.5\">\n",
       "    <tspan class=\"displacy-word\" fill=\"currentColor\" x=\"2675\">rồi</tspan>\n",
       "    <tspan class=\"displacy-tag\" dy=\"2em\" fill=\"currentColor\" x=\"2675\">X</tspan>\n",
       "</text>\n",
       "\n",
       "<g class=\"displacy-arrow\">\n",
       "    <path class=\"displacy-arc\" id=\"arrow-73398a62cf9346a59f15c322fb9f9806-0-0\" stroke-width=\"2px\" d=\"M70,439.5 C70,89.5 920.0,89.5 920.0,439.5\" fill=\"none\" stroke=\"currentColor\"/>\n",
       "    <text dy=\"1.25em\" style=\"font-size: 0.8em; letter-spacing: 1px\">\n",
       "        <textPath xlink:href=\"#arrow-73398a62cf9346a59f15c322fb9f9806-0-0\" class=\"displacy-label\" startOffset=\"50%\" side=\"left\" fill=\"currentColor\" text-anchor=\"middle\">nsubj</textPath>\n",
       "    </text>\n",
       "    <path class=\"displacy-arrowhead\" d=\"M70,441.5 L62,429.5 78,429.5\" fill=\"currentColor\"/>\n",
       "</g>\n",
       "\n",
       "<g class=\"displacy-arrow\">\n",
       "    <path class=\"displacy-arc\" id=\"arrow-73398a62cf9346a59f15c322fb9f9806-0-1\" stroke-width=\"2px\" d=\"M70,439.5 C70,352.0 205.0,352.0 205.0,439.5\" fill=\"none\" stroke=\"currentColor\"/>\n",
       "    <text dy=\"1.25em\" style=\"font-size: 0.8em; letter-spacing: 1px\">\n",
       "        <textPath xlink:href=\"#arrow-73398a62cf9346a59f15c322fb9f9806-0-1\" class=\"displacy-label\" startOffset=\"50%\" side=\"left\" fill=\"currentColor\" text-anchor=\"middle\">det</textPath>\n",
       "    </text>\n",
       "    <path class=\"displacy-arrowhead\" d=\"M205.0,441.5 L213.0,429.5 197.0,429.5\" fill=\"currentColor\"/>\n",
       "</g>\n",
       "\n",
       "<g class=\"displacy-arrow\">\n",
       "    <path class=\"displacy-arc\" id=\"arrow-73398a62cf9346a59f15c322fb9f9806-0-2\" stroke-width=\"2px\" d=\"M420,439.5 C420,352.0 555.0,352.0 555.0,439.5\" fill=\"none\" stroke=\"currentColor\"/>\n",
       "    <text dy=\"1.25em\" style=\"font-size: 0.8em; letter-spacing: 1px\">\n",
       "        <textPath xlink:href=\"#arrow-73398a62cf9346a59f15c322fb9f9806-0-2\" class=\"displacy-label\" startOffset=\"50%\" side=\"left\" fill=\"currentColor\" text-anchor=\"middle\">case</textPath>\n",
       "    </text>\n",
       "    <path class=\"displacy-arrowhead\" d=\"M420,441.5 L412,429.5 428,429.5\" fill=\"currentColor\"/>\n",
       "</g>\n",
       "\n",
       "<g class=\"displacy-arrow\">\n",
       "    <path class=\"displacy-arc\" id=\"arrow-73398a62cf9346a59f15c322fb9f9806-0-3\" stroke-width=\"2px\" d=\"M70,439.5 C70,177.0 565.0,177.0 565.0,439.5\" fill=\"none\" stroke=\"currentColor\"/>\n",
       "    <text dy=\"1.25em\" style=\"font-size: 0.8em; letter-spacing: 1px\">\n",
       "        <textPath xlink:href=\"#arrow-73398a62cf9346a59f15c322fb9f9806-0-3\" class=\"displacy-label\" startOffset=\"50%\" side=\"left\" fill=\"currentColor\" text-anchor=\"middle\">nmod</textPath>\n",
       "    </text>\n",
       "    <path class=\"displacy-arrowhead\" d=\"M565.0,441.5 L573.0,429.5 557.0,429.5\" fill=\"currentColor\"/>\n",
       "</g>\n",
       "\n",
       "<g class=\"displacy-arrow\">\n",
       "    <path class=\"displacy-arc\" id=\"arrow-73398a62cf9346a59f15c322fb9f9806-0-4\" stroke-width=\"2px\" d=\"M770,439.5 C770,352.0 905.0,352.0 905.0,439.5\" fill=\"none\" stroke=\"currentColor\"/>\n",
       "    <text dy=\"1.25em\" style=\"font-size: 0.8em; letter-spacing: 1px\">\n",
       "        <textPath xlink:href=\"#arrow-73398a62cf9346a59f15c322fb9f9806-0-4\" class=\"displacy-label\" startOffset=\"50%\" side=\"left\" fill=\"currentColor\" text-anchor=\"middle\">cc</textPath>\n",
       "    </text>\n",
       "    <path class=\"displacy-arrowhead\" d=\"M770,441.5 L762,429.5 778,429.5\" fill=\"currentColor\"/>\n",
       "</g>\n",
       "\n",
       "<g class=\"displacy-arrow\">\n",
       "    <path class=\"displacy-arc\" id=\"arrow-73398a62cf9346a59f15c322fb9f9806-0-5\" stroke-width=\"2px\" d=\"M945,439.5 C945,352.0 1080.0,352.0 1080.0,439.5\" fill=\"none\" stroke=\"currentColor\"/>\n",
       "    <text dy=\"1.25em\" style=\"font-size: 0.8em; letter-spacing: 1px\">\n",
       "        <textPath xlink:href=\"#arrow-73398a62cf9346a59f15c322fb9f9806-0-5\" class=\"displacy-label\" startOffset=\"50%\" side=\"left\" fill=\"currentColor\" text-anchor=\"middle\">amod</textPath>\n",
       "    </text>\n",
       "    <path class=\"displacy-arrowhead\" d=\"M1080.0,441.5 L1088.0,429.5 1072.0,429.5\" fill=\"currentColor\"/>\n",
       "</g>\n",
       "\n",
       "<g class=\"displacy-arrow\">\n",
       "    <path class=\"displacy-arc\" id=\"arrow-73398a62cf9346a59f15c322fb9f9806-0-6\" stroke-width=\"2px\" d=\"M1295,439.5 C1295,352.0 1430.0,352.0 1430.0,439.5\" fill=\"none\" stroke=\"currentColor\"/>\n",
       "    <text dy=\"1.25em\" style=\"font-size: 0.8em; letter-spacing: 1px\">\n",
       "        <textPath xlink:href=\"#arrow-73398a62cf9346a59f15c322fb9f9806-0-6\" class=\"displacy-label\" startOffset=\"50%\" side=\"left\" fill=\"currentColor\" text-anchor=\"middle\">cc</textPath>\n",
       "    </text>\n",
       "    <path class=\"displacy-arrowhead\" d=\"M1295,441.5 L1287,429.5 1303,429.5\" fill=\"currentColor\"/>\n",
       "</g>\n",
       "\n",
       "<g class=\"displacy-arrow\">\n",
       "    <path class=\"displacy-arc\" id=\"arrow-73398a62cf9346a59f15c322fb9f9806-0-7\" stroke-width=\"2px\" d=\"M1470,439.5 C1470,264.5 1785.0,264.5 1785.0,439.5\" fill=\"none\" stroke=\"currentColor\"/>\n",
       "    <text dy=\"1.25em\" style=\"font-size: 0.8em; letter-spacing: 1px\">\n",
       "        <textPath xlink:href=\"#arrow-73398a62cf9346a59f15c322fb9f9806-0-7\" class=\"displacy-label\" startOffset=\"50%\" side=\"left\" fill=\"currentColor\" text-anchor=\"middle\">nsubj</textPath>\n",
       "    </text>\n",
       "    <path class=\"displacy-arrowhead\" d=\"M1470,441.5 L1462,429.5 1478,429.5\" fill=\"currentColor\"/>\n",
       "</g>\n",
       "\n",
       "<g class=\"displacy-arrow\">\n",
       "    <path class=\"displacy-arc\" id=\"arrow-73398a62cf9346a59f15c322fb9f9806-0-8\" stroke-width=\"2px\" d=\"M1470,439.5 C1470,352.0 1605.0,352.0 1605.0,439.5\" fill=\"none\" stroke=\"currentColor\"/>\n",
       "    <text dy=\"1.25em\" style=\"font-size: 0.8em; letter-spacing: 1px\">\n",
       "        <textPath xlink:href=\"#arrow-73398a62cf9346a59f15c322fb9f9806-0-8\" class=\"displacy-label\" startOffset=\"50%\" side=\"left\" fill=\"currentColor\" text-anchor=\"middle\">compound</textPath>\n",
       "    </text>\n",
       "    <path class=\"displacy-arrowhead\" d=\"M1605.0,441.5 L1613.0,429.5 1597.0,429.5\" fill=\"currentColor\"/>\n",
       "</g>\n",
       "\n",
       "<g class=\"displacy-arrow\">\n",
       "    <path class=\"displacy-arc\" id=\"arrow-73398a62cf9346a59f15c322fb9f9806-0-9\" stroke-width=\"2px\" d=\"M945,439.5 C945,89.5 1795.0,89.5 1795.0,439.5\" fill=\"none\" stroke=\"currentColor\"/>\n",
       "    <text dy=\"1.25em\" style=\"font-size: 0.8em; letter-spacing: 1px\">\n",
       "        <textPath xlink:href=\"#arrow-73398a62cf9346a59f15c322fb9f9806-0-9\" class=\"displacy-label\" startOffset=\"50%\" side=\"left\" fill=\"currentColor\" text-anchor=\"middle\">ccomp</textPath>\n",
       "    </text>\n",
       "    <path class=\"displacy-arrowhead\" d=\"M1795.0,441.5 L1803.0,429.5 1787.0,429.5\" fill=\"currentColor\"/>\n",
       "</g>\n",
       "\n",
       "<g class=\"displacy-arrow\">\n",
       "    <path class=\"displacy-arc\" id=\"arrow-73398a62cf9346a59f15c322fb9f9806-0-10\" stroke-width=\"2px\" d=\"M1820,439.5 C1820,352.0 1955.0,352.0 1955.0,439.5\" fill=\"none\" stroke=\"currentColor\"/>\n",
       "    <text dy=\"1.25em\" style=\"font-size: 0.8em; letter-spacing: 1px\">\n",
       "        <textPath xlink:href=\"#arrow-73398a62cf9346a59f15c322fb9f9806-0-10\" class=\"displacy-label\" startOffset=\"50%\" side=\"left\" fill=\"currentColor\" text-anchor=\"middle\">obj</textPath>\n",
       "    </text>\n",
       "    <path class=\"displacy-arrowhead\" d=\"M1955.0,441.5 L1963.0,429.5 1947.0,429.5\" fill=\"currentColor\"/>\n",
       "</g>\n",
       "\n",
       "<g class=\"displacy-arrow\">\n",
       "    <path class=\"displacy-arc\" id=\"arrow-73398a62cf9346a59f15c322fb9f9806-0-11\" stroke-width=\"2px\" d=\"M1995,439.5 C1995,352.0 2130.0,352.0 2130.0,439.5\" fill=\"none\" stroke=\"currentColor\"/>\n",
       "    <text dy=\"1.25em\" style=\"font-size: 0.8em; letter-spacing: 1px\">\n",
       "        <textPath xlink:href=\"#arrow-73398a62cf9346a59f15c322fb9f9806-0-11\" class=\"displacy-label\" startOffset=\"50%\" side=\"left\" fill=\"currentColor\" text-anchor=\"middle\">det</textPath>\n",
       "    </text>\n",
       "    <path class=\"displacy-arrowhead\" d=\"M2130.0,441.5 L2138.0,429.5 2122.0,429.5\" fill=\"currentColor\"/>\n",
       "</g>\n",
       "\n",
       "<g class=\"displacy-arrow\">\n",
       "    <path class=\"displacy-arc\" id=\"arrow-73398a62cf9346a59f15c322fb9f9806-0-12\" stroke-width=\"2px\" d=\"M2345,439.5 C2345,352.0 2480.0,352.0 2480.0,439.5\" fill=\"none\" stroke=\"currentColor\"/>\n",
       "    <text dy=\"1.25em\" style=\"font-size: 0.8em; letter-spacing: 1px\">\n",
       "        <textPath xlink:href=\"#arrow-73398a62cf9346a59f15c322fb9f9806-0-12\" class=\"displacy-label\" startOffset=\"50%\" side=\"left\" fill=\"currentColor\" text-anchor=\"middle\">cc</textPath>\n",
       "    </text>\n",
       "    <path class=\"displacy-arrowhead\" d=\"M2345,441.5 L2337,429.5 2353,429.5\" fill=\"currentColor\"/>\n",
       "</g>\n",
       "\n",
       "<g class=\"displacy-arrow\">\n",
       "    <path class=\"displacy-arc\" id=\"arrow-73398a62cf9346a59f15c322fb9f9806-0-13\" stroke-width=\"2px\" d=\"M945,439.5 C945,2.0 2500.0,2.0 2500.0,439.5\" fill=\"none\" stroke=\"currentColor\"/>\n",
       "    <text dy=\"1.25em\" style=\"font-size: 0.8em; letter-spacing: 1px\">\n",
       "        <textPath xlink:href=\"#arrow-73398a62cf9346a59f15c322fb9f9806-0-13\" class=\"displacy-label\" startOffset=\"50%\" side=\"left\" fill=\"currentColor\" text-anchor=\"middle\">conj</textPath>\n",
       "    </text>\n",
       "    <path class=\"displacy-arrowhead\" d=\"M2500.0,441.5 L2508.0,429.5 2492.0,429.5\" fill=\"currentColor\"/>\n",
       "</g>\n",
       "\n",
       "<g class=\"displacy-arrow\">\n",
       "    <path class=\"displacy-arc\" id=\"arrow-73398a62cf9346a59f15c322fb9f9806-0-14\" stroke-width=\"2px\" d=\"M2520,439.5 C2520,352.0 2655.0,352.0 2655.0,439.5\" fill=\"none\" stroke=\"currentColor\"/>\n",
       "    <text dy=\"1.25em\" style=\"font-size: 0.8em; letter-spacing: 1px\">\n",
       "        <textPath xlink:href=\"#arrow-73398a62cf9346a59f15c322fb9f9806-0-14\" class=\"displacy-label\" startOffset=\"50%\" side=\"left\" fill=\"currentColor\" text-anchor=\"middle\">advmod</textPath>\n",
       "    </text>\n",
       "    <path class=\"displacy-arrowhead\" d=\"M2655.0,441.5 L2663.0,429.5 2647.0,429.5\" fill=\"currentColor\"/>\n",
       "</g>\n",
       "</svg>"
      ],
      "text/plain": [
       "<IPython.core.display.HTML object>"
      ]
     },
     "metadata": {
      "tags": []
     },
     "output_type": "display_data"
    }
   ],
   "source": [
    "displacy.render(nlp(sentences[20]), style=\"dep\", jupyter=True)"
   ]
  },
  {
   "cell_type": "markdown",
   "metadata": {
    "id": "jZMXfq36U6xl"
   },
   "source": [
    "## Rules\n",
    "\n",
    "We check 2 cases:\n",
    "1. The token POS is `N` (Noun) and the Dependency tag is not `nsubj`.\n",
    "1. The token POS is `N` (Noun) and the Dependency tag is `nsubj`.\n",
    "\n",
    "**Note:** I come up with these rules by trying with many samples =)) No magic behind it."
   ]
  },
  {
   "cell_type": "code",
   "execution_count": null,
   "metadata": {
    "colab": {
     "base_uri": "https://localhost:8080/"
    },
    "id": "qXNhkHksJ3HB",
    "outputId": "d7f60ca6-f0d2-4583-c3cf-96efe1e977db"
   },
   "outputs": [
    {
     "name": "stdout",
     "output_type": "stream",
     "text": [
      "đến chán giờ cứ sử_dụng là bị cúp nguồn điện thì ai dám bật\n",
      "[]\n"
     ]
    }
   ],
   "source": [
    "aspects = []\n",
    "doc = nlp(sentences[25])\n",
    "print(doc)\n",
    "for i, token in enumerate(doc):\n",
    "    # Case 1: \n",
    "    if token.tag_ == \"N\" and token.dep_ != \"nsubj\":\n",
    "        aspect = token.text\n",
    "        for child in token.children:\n",
    "            if child.dep_ == \"compound\":\n",
    "                if child in token.lefts:\n",
    "                    aspect = f\"{child.text} {aspect}\"\n",
    "                elif child in token.rights:\n",
    "                    aspect = f\"{aspect} {child.text}\"\n",
    "            elif child.dep_ == \"amod\":\n",
    "                opinion = child.text\n",
    "                for gchild in child.children:\n",
    "                    if gchild.dep_ == \"advmod\":\n",
    "                        if gchild in child.lefts:\n",
    "                            opinion = f\"{gchild.text} {opinion}\"\n",
    "                        elif gchild in child.rights:\n",
    "                            opinion = f\"{opinion} {gchild.text}\"\n",
    "                asp_obj = AsOp(aspect=aspect, opinion=opinion)\n",
    "                aspects.append(asp_obj)\n",
    "            elif child.dep_ == \"conj\":\n",
    "                asp_obj = None\n",
    "                if child.tag_ == \"N\":\n",
    "                    aspect = child.text\n",
    "                    opinion = \"\"\n",
    "                    for gchild in child.rights:\n",
    "                        if gchild.dep_ == \"xcomp\" and gchild.tag_ == \"A\":\n",
    "                            opinion = gchild.text\n",
    "                    if opinion:\n",
    "                        asp_obj = AsOp(aspect=aspect, opinion=opinion)\n",
    "                elif child.tag_ == \"A\":\n",
    "                    asp_obj = AsOp(aspect=aspect, opinion=child.text)\n",
    "                if asp_obj: \n",
    "                    aspects.append(asp_obj)\n",
    "            \n",
    "    # Case 2:\n",
    "    elif token.tag_ == \"N\" and token.dep_ == \"nsubj\":\n",
    "        opinion = \"\"\n",
    "        if token.head.tag_ == \"A\":\n",
    "            opinion = token.head.text\n",
    "            \n",
    "        for child in token.head.children:\n",
    "            if child.text == token.text:\n",
    "                continue\n",
    "            elif child.tag_ == \"A\" or child.tag_ == \"R\":\n",
    "                if opinion:\n",
    "                    if child in token.head.lefts: \n",
    "                        opinion = f\"{child.text} {opinion}\"\n",
    "                    else:\n",
    "                        opinion = f\"{opinion} {child.text}\"\n",
    "                else:\n",
    "                    opinion = child.text\n",
    "                    for gchild in child.children:\n",
    "                        if gchild.dep_ == \"advmod\":\n",
    "                            if gchild in child.lefts:\n",
    "                                opinion = f\"{gchild.text} {opinion}\"\n",
    "                            elif gchild in child.rights:\n",
    "                                opinion = f\"{opinion} {gchild.text}\"\n",
    "                asp_obj = AsOp(aspect=token.text, opinion=opinion)\n",
    "                aspects.append(asp_obj)\n",
    "print(aspects)"
   ]
  },
  {
   "cell_type": "code",
   "execution_count": null,
   "metadata": {
    "id": "_rVwq9Z7gMe2"
   },
   "outputs": [],
   "source": [
    "from dataclasses import dataclass\n",
    "from typing import Any\n",
    "@dataclass\n",
    "class AsOp:\n",
    "    aspect: Any = None\n",
    "    opinion: Any = None"
   ]
  },
  {
   "cell_type": "code",
   "execution_count": null,
   "metadata": {
    "id": "7sWW3D2YgV9b"
   },
   "outputs": [],
   "source": [
    "from pyvi import ViTokenizer, ViPosTagger\n",
    "sentence = df['tokenized_spacy'][6]\n",
    "# print(sentence)\n",
    "sentences = list(df['tokenized_spacy'])[:100]\n",
    "aspects = []\n",
    "cnt = 0\n",
    "for sentence in sentences:\n",
    "    try:\n",
    "        doc = nlp(sentence)\n",
    "        for i, token in enumerate(doc):\n",
    "            if token.tag_ == \"N\" and token.dep_ != \"nsubj\":\n",
    "                aspect = token.text\n",
    "                for child in token.children:\n",
    "                    if child.dep_ == \"compound\":\n",
    "                        if child in token.lefts:\n",
    "                            aspect = f\"{child.text} {aspect}\"\n",
    "                        elif child in token.rights:\n",
    "                            aspect = f\"{aspect} {child.text}\"\n",
    "                    elif child.dep_ == \"amod\":\n",
    "                        opinion = child.text\n",
    "                        for gchild in child.children:\n",
    "                            if gchild.dep_ == \"advmod\":\n",
    "                                if gchild in child.lefts:\n",
    "                                    opinion = f\"{gchild.text} {opinion}\"\n",
    "                                elif gchild in child.rights:\n",
    "                                    opinion = f\"{opinion} {gchild.text}\"\n",
    "                        asp_obj = AsOp(aspect=aspect, opinion=opinion)\n",
    "                        aspects.append(asp_obj)\n",
    "                    elif child.dep_ == \"conj\":\n",
    "                        asp_obj = None\n",
    "                        if child.tag_ == \"N\":\n",
    "                            aspect = child.text\n",
    "                            opinion = \"\"\n",
    "                            for gchild in child.rights:\n",
    "                                if gchild.dep_ == \"xcomp\" and gchild.tag_ == \"A\":\n",
    "                                    opinion = gchild.text\n",
    "                            if opinion:\n",
    "                                asp_obj = AsOp(aspect=aspect, opinion=opinion)\n",
    "                        elif child.tag_ == \"A\":\n",
    "                            asp_obj = AsOp(aspect=aspect, opinion=child.text)\n",
    "                        if asp_obj: \n",
    "                            aspects.append(asp_obj)\n",
    "                    \n",
    "            elif token.tag_ == \"N\" and token.dep_ == \"nsubj\":\n",
    "                opinion = \"\"\n",
    "                if token.head.tag_ == \"A\":\n",
    "                    opinion = token.head.text\n",
    "                    \n",
    "                for child in token.head.children:\n",
    "                    if child.text == token.text:\n",
    "                        continue\n",
    "                    elif child.tag_ == \"A\" or child.tag_ == \"R\":\n",
    "                        if opinion:\n",
    "                            if child in token.head.lefts: \n",
    "                                opinion = f\"{child.text} {opinion}\"\n",
    "                            else:\n",
    "                                opinion = f\"{opinion} {child.text}\"\n",
    "                        else:\n",
    "                            opinion = child.text\n",
    "                            for gchild in child.children:\n",
    "                                if gchild.dep_ == \"advmod\":\n",
    "                                    if gchild in child.lefts:\n",
    "                                        opinion = f\"{gchild.text} {opinion}\"\n",
    "                                    elif gchild in child.rights:\n",
    "                                        opinion = f\"{opinion} {gchild.text}\"\n",
    "                        asp_obj = AsOp(aspect=token.text, opinion=opinion)\n",
    "                        aspects.append(asp_obj)\n",
    "    except:\n",
    "        print(sentence)\n",
    "        cnt += 1"
   ]
  },
  {
   "cell_type": "code",
   "execution_count": null,
   "metadata": {
    "colab": {
     "base_uri": "https://localhost:8080/"
    },
    "id": "6kpx9xQTHrQp",
    "outputId": "24f35e91-c454-4331-89fa-61863f32a030"
   },
   "outputs": [
    {
     "data": {
      "text/plain": [
       "[AsOp(aspect='shipper', opinion='vào'),\n",
       " AsOp(aspect='nhân_viên', opinion='tốt'),\n",
       " AsOp(aspect='sản_phẩm', opinion='đẹp'),\n",
       " AsOp(aspect='giá', opinion='không tặng_vật_tư'),\n",
       " AsOp(aspect='giá', opinion='không tặng_vật_tư giống'),\n",
       " AsOp(aspect='giá', opinion='khoảng'),\n",
       " AsOp(aspect='giá', opinion='hơn khoảng'),\n",
       " AsOp(aspect='giá', opinion='hơn'),\n",
       " AsOp(aspect='tiền', opinion='hơn'),\n",
       " AsOp(aspect='tiền', opinion='không hơn'),\n",
       " AsOp(aspect='hàng', opinion='đúng'),\n",
       " AsOp(aspect='tiki giao_nhận', opinion='tốt'),\n",
       " AsOp(aspect='máy', opinion='tốt'),\n",
       " AsOp(aspect='máy', opinion='rất êm'),\n",
       " AsOp(aspect='hàng', opinion='nhanh'),\n",
       " AsOp(aspect='hàng', opinion='nhanh ổn'),\n",
       " AsOp(aspect='sản_phẩm', opinion='tạm'),\n",
       " AsOp(aspect='hàng', opinion='nhanh'),\n",
       " AsOp(aspect='máy_lạnh', opinion='chưa'),\n",
       " AsOp(aspect='máy_lạnh', opinion='chưa được'),\n",
       " AsOp(aspect='máy', opinion='chỉ'),\n",
       " AsOp(aspect='tiền', opinion='ồn_ào'),\n",
       " AsOp(aspect='âm_thanh', opinion='ồn_ào'),\n",
       " AsOp(aspect='hàng', opinion='mới'),\n",
       " AsOp(aspect='hàng', opinion='cũ'),\n",
       " AsOp(aspect='điện', opinion='cực_kỳ tốt'),\n",
       " AsOp(aspect='điện', opinion='cực_kỳ tốt liên_tục'),\n",
       " AsOp(aspect='sản_phẩm', opinion='cùng'),\n",
       " AsOp(aspect='thực_tế', opinion='gần'),\n",
       " AsOp(aspect='tiếng', opinion='to'),\n",
       " AsOp(aspect='tiếng', opinion='không êm'),\n",
       " AsOp(aspect='pin', opinion='không'),\n",
       " AsOp(aspect='đội_ngũ', opinion='rất'),\n",
       " AsOp(aspect='giá', opinion='thêm'),\n",
       " AsOp(aspect='người', opinion='xanh'),\n",
       " AsOp(aspect='tiki', opinion='rẻ'),\n",
       " AsOp(aspect='máy', opinion='đúng đúng'),\n",
       " AsOp(aspect='máy', opinion='khá to'),\n",
       " AsOp(aspect='máy', opinion='khá to êm'),\n",
       " AsOp(aspect='máy', opinion='khá to êm lại'),\n",
       " AsOp(aspect='khi', opinion='sẽ êm'),\n",
       " AsOp(aspect='máy', opinion='quá ồn'),\n",
       " AsOp(aspect='bạn', opinion='dễ_thương'),\n",
       " AsOp(aspect='bạn', opinion='dễ_thương lắm'),\n",
       " AsOp(aspect='hàng', opinion='nhanh'),\n",
       " AsOp(aspect='độ', opinion='nhiều'),\n",
       " AsOp(aspect='độ', opinion='bền'),\n",
       " AsOp(aspect='ngày', opinion='hợp_lý'),\n",
       " AsOp(aspect='đội', opinion='nhiều'),\n",
       " AsOp(aspect='điều', opinion='hòa'),\n",
       " AsOp(aspect='sản_phẩm', opinion='không'),\n",
       " AsOp(aspect='sản_phẩm', opinion='mới không'),\n",
       " AsOp(aspect='sản_phẩm', opinion='mới không ra'),\n",
       " AsOp(aspect='sản_phẩm', opinion='mới không ra rồi'),\n",
       " AsOp(aspect='điểm', opinion='vô_cùng'),\n",
       " AsOp(aspect='điều', opinion='hòa'),\n",
       " AsOp(aspect='điều', opinion='hòa'),\n",
       " AsOp(aspect='điều', opinion='cũ'),\n",
       " AsOp(aspect='phí', opinion='không'),\n",
       " AsOp(aspect='lần', opinion='cuối_cùng'),\n",
       " AsOp(aspect='chiều', opinion='dài'),\n",
       " AsOp(aspect='cái màng', opinion='lọc'),\n",
       " AsOp(aspect='biên_độ', opinion='nóng'),\n",
       " AsOp(aspect='biên_độ', opinion='lạnh'),\n",
       " AsOp(aspect='biên_độ', opinion='cao'),\n",
       " AsOp(aspect='tổng_chi_phí', opinion='hết'),\n",
       " AsOp(aspect='bao', opinion='gôm'),\n",
       " AsOp(aspect='lòng', opinion='thật buồn'),\n",
       " AsOp(aspect='giá', opinion='rẻ'),\n",
       " AsOp(aspect='giá', opinion='rât'),\n",
       " AsOp(aspect='giá', opinion='hợp_lý'),\n",
       " AsOp(aspect='7tr', opinion='tròn'),\n",
       " AsOp(aspect='cục', opinion='không'),\n",
       " AsOp(aspect='cục', opinion='không có'),\n",
       " AsOp(aspect='máy', opinion='hơi lạnh'),\n",
       " AsOp(aspect='cảm_giác', opinion='rất dễ_chịu'),\n",
       " AsOp(aspect='cục', opinion='lạnh'),\n",
       " AsOp(aspect='cục', opinion='nóng khoảng'),\n",
       " AsOp(aspect='cánh_quạt', opinion='không'),\n",
       " AsOp(aspect='cánh_quạt', opinion='không được'),\n",
       " AsOp(aspect='cục', opinion='nóng'),\n",
       " AsOp(aspect='máy_lạnh', opinion='rất tận_tình'),\n",
       " AsOp(aspect='máy_lạnh', opinion='rất tận_tình kém'),\n",
       " AsOp(aspect='nhân_viên', opinion='rất tận_tình'),\n",
       " AsOp(aspect='nhân_viên', opinion='rất tận_tình kém'),\n",
       " AsOp(aspect='dịch_vụ', opinion='rất kém'),\n",
       " AsOp(aspect='máy_lạnh', opinion='tạm ổn'),\n",
       " AsOp(aspect='máy_lạnh', opinion='tạm ổn êm'),\n",
       " AsOp(aspect='cục', opinion='nóng rất'),\n",
       " AsOp(aspect='dịch_vụ', opinion='khá ổn'),\n",
       " AsOp(aspect='máy', opinion='lạnh'),\n",
       " AsOp(aspect='mát', opinion='lạnh'),\n",
       " AsOp(aspect='sản_phẩm', opinion='mới'),\n",
       " AsOp(aspect='hàng', opinion='nhanh'),\n",
       " AsOp(aspect='máy', opinion='êm'),\n",
       " AsOp(aspect='máy', opinion='êm ít'),\n",
       " AsOp(aspect='máy', opinion='đẹp'),\n",
       " AsOp(aspect='máy', opinion='tốt'),\n",
       " AsOp(aspect='cục', opinion='dễ'),\n",
       " AsOp(aspect='thiết_kế', opinion='trang_nhã'),\n",
       " AsOp(aspect='cục', opinion='mạnh_mẽ'),\n",
       " AsOp(aspect='cục', opinion='cứng_cáp'),\n",
       " AsOp(aspect='tính_năng', opinion='nhiều'),\n",
       " AsOp(aspect='máy', opinion='không'),\n",
       " AsOp(aspect='tốc_độ gió', opinion='phù_hợp'),\n",
       " AsOp(aspect='kích_thước', opinion='khác'),\n",
       " AsOp(aspect='chức_năng', opinion='đầy_đủ')]"
      ]
     },
     "execution_count": 93,
     "metadata": {
      "tags": []
     },
     "output_type": "execute_result"
    }
   ],
   "source": [
    "aspects"
   ]
  },
  {
   "cell_type": "markdown",
   "metadata": {
    "id": "yY_VZPn2VkYS"
   },
   "source": [
    "# Discussion\n",
    "\n",
    "The quality of this approach depends on the accuracy of the dependecy parsing and POS model. "
   ]
  },
  {
   "cell_type": "markdown",
   "metadata": {
    "id": "LgiymPapUuuL"
   },
   "source": [
    "# Tags"
   ]
  },
  {
   "cell_type": "markdown",
   "metadata": {
    "id": "kDQy-hTAwWJ3"
   },
   "source": [
    "\n",
    "    A - Adjective\n",
    "    C - Coordinating conjunction\n",
    "    E - Preposition\n",
    "    I - Interjection\n",
    "    L - Determiner\n",
    "    M - Numeral\n",
    "    N - Common noun\n",
    "    Nc - Noun Classifier\n",
    "    Ny - Noun abbreviation\n",
    "    Np - Proper noun\n",
    "    Nu - Unit noun\n",
    "    P - Pronoun\n",
    "    R - Adverb\n",
    "    S - Subordinating conjunction\n",
    "    T - Auxiliary, modal words\n",
    "    V - Verb\n",
    "    X - Unknown\n",
    "    F - Filtered out (punctuation)\n",
    "\n"
   ]
  },
  {
   "cell_type": "markdown",
   "metadata": {
    "id": "lFIDoxb9dSKZ"
   },
   "source": [
    "**ccomp**: functions like an object of the verb, or adjective.\n",
    "\n",
    "**xcomp**: if the subject of the clausal complement is controlled (that is, must be the same as the higher subject or object, with no other possible interpretation)\n",
    "\n",
    "**predicative**: a part of a sentence containing a verb that makes a statement about the subject of the verb, such as went home in John went home."
   ]
  }
 ],
 "metadata": {
  "colab": {
   "collapsed_sections": [],
   "name": "Aspect Sentiment Analysis using Denpendency Parsing and POS.ipynb",
   "provenance": [],
   "toc_visible": true
  },
  "kernelspec": {
   "display_name": "Python 3",
   "language": "python",
   "name": "python3"
  },
  "language_info": {
   "name": "python"
  }
 },
 "nbformat": 4,
 "nbformat_minor": 1
}
