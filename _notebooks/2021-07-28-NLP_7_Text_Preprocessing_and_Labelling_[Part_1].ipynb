{
 "cells": [
  {
   "cell_type": "markdown",
   "metadata": {},
   "source": [
    "# Text Processing & Labelling [Part1]\n",
    "> Sample of text preprocessing.\n",
    "\n",
    "- toc: true \n",
    "- badges: false\n",
    "- comments: true\n",
    "- categories: [implementation]\n",
    "- image: images/text_processing.png"
   ]
  },
  {
   "cell_type": "markdown",
   "metadata": {},
   "source": [
    "The full notebook is availabel [here](https://github.com/minhdang241/minhdg-blog/blob/master/_notebooks/2021-07-27-NLP_7_Text_Preprocessing_and_Labelling_%5BPart_1%5D.ipynb)."
   ]
  },
  {
   "cell_type": "code",
   "execution_count": 64,
   "metadata": {
    "colab": {
     "base_uri": "https://localhost:8080/"
    },
    "id": "r8q-Pam66X7E",
    "outputId": "8d0ca918-25fc-4657-a481-973eff76a162"
   },
   "outputs": [
    {
     "name": "stdout",
     "output_type": "stream",
     "text": [
      "Drive already mounted at /content/drive; to attempt to forcibly remount, call drive.mount(\"/content/drive\", force_remount=True).\n"
     ]
    }
   ],
   "source": [
    "from google.colab import drive\n",
    "drive.mount('/content/drive')"
   ]
  },
  {
   "cell_type": "code",
   "execution_count": 65,
   "metadata": {
    "id": "z-eTGVrBJ_uG"
   },
   "outputs": [],
   "source": [
    "%%capture\n",
    "!pip install transformers\n",
    "!pip install emoji\n",
    "!pip install Unidecode\n",
    "!pip install contractions\n",
    "!pip install word2number\n",
    "!python -m spacy download en_core_web_md\n",
    "!pip install spacy-langdetect"
   ]
  },
  {
   "cell_type": "markdown",
   "metadata": {},
   "source": [
    "# Load Dataset"
   ]
  },
  {
   "cell_type": "code",
   "execution_count": 195,
   "metadata": {
    "id": "xSJCtApcDY5A"
   },
   "outputs": [],
   "source": [
    "df = pd.read_csv(\"/content/drive/MyDrive/Colab Notebooks/Text Classification/Pipeline/datasets.csv\")"
   ]
  },
  {
   "cell_type": "code",
   "execution_count": 75,
   "metadata": {
    "id": "8RyXd7ncBoS8"
   },
   "outputs": [],
   "source": [
    "df.dropna(inplace=True) # drop row(s) containing \"nan\" value"
   ]
  },
  {
   "cell_type": "markdown",
   "metadata": {},
   "source": [
    "For those who want to reproduce the note book, you can get the data from [here](https://drive.google.com/file/d/1PZWX6P5bD5_sCIKKPN9dldYy64eW7MGE/view?usp=sharing)."
   ]
  },
  {
   "cell_type": "code",
   "execution_count": 187,
   "metadata": {
    "id": "cfFd_-2eChCK"
   },
   "outputs": [],
   "source": [
    "import re\n",
    "import string\n",
    "from itertools import groupby\n",
    "\n",
    "import contractions\n",
    "import emoji\n",
    "import unidecode\n",
    "from bs4 import BeautifulSoup\n",
    "from spacy_langdetect import LanguageDetector\n",
    "from word2number import w2n"
   ]
  },
  {
   "cell_type": "code",
   "execution_count": 250,
   "metadata": {
    "id": "N1f8V2zkOJMk"
   },
   "outputs": [],
   "source": [
    "import spacy\n",
    "nlp = spacy.load('en_core_web_md')"
   ]
  },
  {
   "cell_type": "code",
   "execution_count": null,
   "metadata": {},
   "outputs": [],
   "source": [
    "import pandas as pd\n",
    "pd.set_option('display.max_colwidth', None) # Set to display full-width dataframe "
   ]
  },
  {
   "cell_type": "markdown",
   "metadata": {
    "id": "KvcyzSIpH_Mz"
   },
   "source": [
    "# Preprocess data"
   ]
  },
  {
   "cell_type": "markdown",
   "metadata": {
    "id": "wQ2UZEAXCO6z"
   },
   "source": [
    "## Step 1: Remove HTML Tags\n",
    "\n",
    "HTLM tags does not add any useful information for understanding and analyzing text, so we remove it."
   ]
  },
  {
   "cell_type": "code",
   "execution_count": 77,
   "metadata": {
    "id": "orsUvZrCCOOO"
   },
   "outputs": [],
   "source": [
    "def remove_html_tags(text):\n",
    "    soup = BeautifulSoup(text, \"html.parser\")\n",
    "    stripped_text = soup.get_text()\n",
    "    return stripped_text\n"
   ]
  },
  {
   "cell_type": "code",
   "execution_count": 84,
   "metadata": {
    "id": "z-NyEA72FLXH"
   },
   "outputs": [],
   "source": [
    "df[\"no_html\"] = df[\"review\"].apply(remove_html_tags)"
   ]
  },
  {
   "cell_type": "code",
   "execution_count": 91,
   "metadata": {
    "colab": {
     "base_uri": "https://localhost:8080/",
     "height": 1000
    },
    "id": "WIMFNNEuFoEx",
    "outputId": "9cc3ebd8-34e4-493e-f7de-06bb3d8f51e9"
   },
   "outputs": [
    {
     "data": {
      "text/html": [
       "<div>\n",
       "<style scoped>\n",
       "    .dataframe tbody tr th:only-of-type {\n",
       "        vertical-align: middle;\n",
       "    }\n",
       "\n",
       "    .dataframe tbody tr th {\n",
       "        vertical-align: top;\n",
       "    }\n",
       "\n",
       "    .dataframe thead th {\n",
       "        text-align: right;\n",
       "    }\n",
       "</style>\n",
       "<table border=\"1\" class=\"dataframe\">\n",
       "  <thead>\n",
       "    <tr style=\"text-align: right;\">\n",
       "      <th></th>\n",
       "      <th>comment_id</th>\n",
       "      <th>review</th>\n",
       "      <th>star_rating</th>\n",
       "      <th>no_html</th>\n",
       "    </tr>\n",
       "  </thead>\n",
       "  <tbody>\n",
       "    <tr>\n",
       "      <th>8897</th>\n",
       "      <td>255542</td>\n",
       "      <td>The colors are super vibrant &amp;amp; unique. I was unable to find colors like this in multiple stores I visited, let alone find both a left &amp;amp; right controller together so this was definitely a win-win.</td>\n",
       "      <td>5</td>\n",
       "      <td>The colors are super vibrant &amp; unique. I was unable to find colors like this in multiple stores I visited, let alone find both a left &amp; right controller together so this was definitely a win-win.</td>\n",
       "    </tr>\n",
       "    <tr>\n",
       "      <th>8955</th>\n",
       "      <td>255550</td>\n",
       "      <td>I received my Neon Pink &amp;amp; Neon Green Joy Cons yesterday and I'm amazed at how vibrant and colorful this particular set is! These 2 colors compliment each other perfectly, too! 5/5 Stars! Good packaging, prompt next-day delivery as a Prime Member.</td>\n",
       "      <td>5</td>\n",
       "      <td>I received my Neon Pink &amp; Neon Green Joy Cons yesterday and I'm amazed at how vibrant and colorful this particular set is! These 2 colors compliment each other perfectly, too! 5/5 Stars! Good packaging, prompt next-day delivery as a Prime Member.</td>\n",
       "    </tr>\n",
       "    <tr>\n",
       "      <th>9216</th>\n",
       "      <td>255962</td>\n",
       "      <td>Love my Switch &amp;amp; these are fun colors</td>\n",
       "      <td>5</td>\n",
       "      <td>Love my Switch &amp; these are fun colors</td>\n",
       "    </tr>\n",
       "    <tr>\n",
       "      <th>9293</th>\n",
       "      <td>256306</td>\n",
       "      <td>&amp;lt;3</td>\n",
       "      <td>5</td>\n",
       "      <td>&lt;3</td>\n",
       "    </tr>\n",
       "    <tr>\n",
       "      <th>9466</th>\n",
       "      <td>255331</td>\n",
       "      <td>Perfect pair of new joycons I'm using for a shell &amp;amp; button mod swap.</td>\n",
       "      <td>5</td>\n",
       "      <td>Perfect pair of new joycons I'm using for a shell &amp; button mod swap.</td>\n",
       "    </tr>\n",
       "    <tr>\n",
       "      <th>10566</th>\n",
       "      <td>257919</td>\n",
       "      <td>Works &amp;amp; bright colors!</td>\n",
       "      <td>5</td>\n",
       "      <td>Works &amp; bright colors!</td>\n",
       "    </tr>\n",
       "    <tr>\n",
       "      <th>10717</th>\n",
       "      <td>258185</td>\n",
       "      <td>Although we do enjoy the new features that Switch have over Wii:* Does not require sensor bar* Portable - able to play on-the-go with build-in console batteryThere are few limitations that we were not aware prior to purchase:* Joy Con battery not removable. (Since rechargeable batteries have limited life, customers will need to purchase new controllers every 1-2 years depending on amount of use)* Joy Con controller size are small for adults including the joystick &amp;amp; buttons* Gel-Con Guards need to be removed when switching to Wheel adopter* Hand Strap need to removed in order to place on charger</td>\n",
       "      <td>3</td>\n",
       "      <td>Although we do enjoy the new features that Switch have over Wii:* Does not require sensor bar* Portable - able to play on-the-go with build-in console batteryThere are few limitations that we were not aware prior to purchase:* Joy Con battery not removable. (Since rechargeable batteries have limited life, customers will need to purchase new controllers every 1-2 years depending on amount of use)* Joy Con controller size are small for adults including the joystick &amp; buttons* Gel-Con Guards need to be removed when switching to Wheel adopter* Hand Strap need to removed in order to place on charger</td>\n",
       "    </tr>\n",
       "    <tr>\n",
       "      <th>10737</th>\n",
       "      <td>258240</td>\n",
       "      <td>After a few months of use, without dropping them, nothing smeared on them, and just playing Smash Bros Ultimate, one of the sticks on a Joy-con is starting to wear down. I can't make it respond to sudden movements or flicking. My left stick, in particular, is now drifting. I tried calibrating the controls, and it's fine, but it did nothing to fix the issue.I looked up on means to fix this, and it requires the risk of ruining your controller further by taking it apart to replace the stick with a new one (or at least adjust the current one). Even then, it does not take long for the drifting to come back.It's entirely possible I got unlucky and received a bad pair with my Switch, but it doesn't change the fact that something like this occurred so soon for something so expensive. I really want to enjoy my games on-the-go more often than at home, but it's not going to happen the way the design is flawed.Even the Pro-Controller is having the same issue... so now I'm hesitant to buy any Nintendo-licensed controller... and it doesn't help that the warranty for these controllers are so short. Terrific. Thanks for nothing, Nintendo.&amp;gt;.&amp;gt;</td>\n",
       "      <td>2</td>\n",
       "      <td>After a few months of use, without dropping them, nothing smeared on them, and just playing Smash Bros Ultimate, one of the sticks on a Joy-con is starting to wear down. I can't make it respond to sudden movements or flicking. My left stick, in particular, is now drifting. I tried calibrating the controls, and it's fine, but it did nothing to fix the issue.I looked up on means to fix this, and it requires the risk of ruining your controller further by taking it apart to replace the stick with a new one (or at least adjust the current one). Even then, it does not take long for the drifting to come back.It's entirely possible I got unlucky and received a bad pair with my Switch, but it doesn't change the fact that something like this occurred so soon for something so expensive. I really want to enjoy my games on-the-go more often than at home, but it's not going to happen the way the design is flawed.Even the Pro-Controller is having the same issue... so now I'm hesitant to buy any Nintendo-licensed controller... and it doesn't help that the warranty for these controllers are so short. Terrific. Thanks for nothing, Nintendo.&gt;.&gt;</td>\n",
       "    </tr>\n",
       "    <tr>\n",
       "      <th>10748</th>\n",
       "      <td>258269</td>\n",
       "      <td>I for one actually really like Joy Cons, they’re a very unique controller &amp;amp; can work together as one or just use a single joy con as one controller, these purple &amp;amp; neon orange combo is extraordinary! The Purple would sometimes look more like a Hot pink (depending when light hits it) and the neon orange would look more like a summer yellow (same reason; lighting) but they actually are a great combo and if you have other types of color joy cons, you can mixed them up &amp;amp; create your own colorful creation!</td>\n",
       "      <td>5</td>\n",
       "      <td>I for one actually really like Joy Cons, they’re a very unique controller &amp; can work together as one or just use a single joy con as one controller, these purple &amp; neon orange combo is extraordinary! The Purple would sometimes look more like a Hot pink (depending when light hits it) and the neon orange would look more like a summer yellow (same reason; lighting) but they actually are a great combo and if you have other types of color joy cons, you can mixed them up &amp; create your own colorful creation!</td>\n",
       "    </tr>\n",
       "    <tr>\n",
       "      <th>10866</th>\n",
       "      <td>258366</td>\n",
       "      <td>I bought this for my daughter for Christmas. She had several people over &amp;amp; they all enjoyed using the new controllers.</td>\n",
       "      <td>5</td>\n",
       "      <td>I bought this for my daughter for Christmas. She had several people over &amp; they all enjoyed using the new controllers.</td>\n",
       "    </tr>\n",
       "    <tr>\n",
       "      <th>10892</th>\n",
       "      <td>258431</td>\n",
       "      <td>Colors are vibrant &amp;amp; they work great (as expected lol)! Very fun purchase! We accidentally yeeted one of them across the living room playing a Mario party mini game and it actually still works LOL The stick is a little wonky but overall impressed that it even survived! 10/10 will buy more colors!</td>\n",
       "      <td>5</td>\n",
       "      <td>Colors are vibrant &amp; they work great (as expected lol)! Very fun purchase! We accidentally yeeted one of them across the living room playing a Mario party mini game and it actually still works LOL The stick is a little wonky but overall impressed that it even survived! 10/10 will buy more colors!</td>\n",
       "    </tr>\n",
       "    <tr>\n",
       "      <th>11561</th>\n",
       "      <td>257944</td>\n",
       "      <td>They hold a super long charge and the pink &amp;amp; green fill me with nostalgia for the fairly odd parents (my SHOW as a kid).</td>\n",
       "      <td>5</td>\n",
       "      <td>They hold a super long charge and the pink &amp; green fill me with nostalgia for the fairly odd parents (my SHOW as a kid).</td>\n",
       "    </tr>\n",
       "    <tr>\n",
       "      <th>11667</th>\n",
       "      <td>258509</td>\n",
       "      <td>They are cute &amp;amp; i love the colors 💜</td>\n",
       "      <td>5</td>\n",
       "      <td>They are cute &amp; i love the colors 💜</td>\n",
       "    </tr>\n",
       "    <tr>\n",
       "      <th>11720</th>\n",
       "      <td>258580</td>\n",
       "      <td>My child is soooo happy to have new working controllers! The shipping was quick &amp;amp; on time for his birthday last month.</td>\n",
       "      <td>5</td>\n",
       "      <td>My child is soooo happy to have new working controllers! The shipping was quick &amp; on time for his birthday last month.</td>\n",
       "    </tr>\n",
       "    <tr>\n",
       "      <th>11825</th>\n",
       "      <td>258629</td>\n",
       "      <td>Perfect finial addition to me now owning every single pair of joycons (- grey colour as to bland for me) from the UK, Japan &amp;amp; Also the US 😀 very speedy international delivery &amp;amp; arrived perfect so thank you 5*</td>\n",
       "      <td>0</td>\n",
       "      <td>Perfect finial addition to me now owning every single pair of joycons (- grey colour as to bland for me) from the UK, Japan &amp; Also the US 😀 very speedy international delivery &amp; arrived perfect so thank you 5*</td>\n",
       "    </tr>\n",
       "    <tr>\n",
       "      <th>11842</th>\n",
       "      <td>258645</td>\n",
       "      <td>Estoy en mi trabajo, y resulta que ya me entregaron el paquete y para colmo tienen el descaro de poner que la persona que recogió el paquete fui yo. TIENEN MI NUMERO DE TELÉFONO, MI DIRECCIÓN &amp;amp; SE ATREVEN A ENTREGARLE EL PRODUCTO A ALGUIEN QUE EN PRIMER LUGAR SE ENCUENTRA FUERA DE LA PROPIEDAD, YA QUE EN LA MISMA HAY REJAS A LO CUAL NADIE PUEDE ENTRAR, QUE ASCO CON EL SERVICIO DE PAQUETERIA. Sigo a la espera de llamada.....</td>\n",
       "      <td>0</td>\n",
       "      <td>Estoy en mi trabajo, y resulta que ya me entregaron el paquete y para colmo tienen el descaro de poner que la persona que recogió el paquete fui yo. TIENEN MI NUMERO DE TELÉFONO, MI DIRECCIÓN &amp; SE ATREVEN A ENTREGARLE EL PRODUCTO A ALGUIEN QUE EN PRIMER LUGAR SE ENCUENTRA FUERA DE LA PROPIEDAD, YA QUE EN LA MISMA HAY REJAS A LO CUAL NADIE PUEDE ENTRAR, QUE ASCO CON EL SERVICIO DE PAQUETERIA. Sigo a la espera de llamada.....</td>\n",
       "    </tr>\n",
       "    <tr>\n",
       "      <th>11879</th>\n",
       "      <td>253884</td>\n",
       "      <td>I bought these used for a custom mod, so I only needed the internals. Before taking them apart they seemed to work normally. Post mod they still work normally. It is worth noting however that the shells had scuffs &amp;amp; a few distinct scratches. I recommend just buying new ones if you are using them as is. If you are looking to save a few bucks on a custom controller mod &amp;amp; only need the internal parts then these work. It is worth noting that the sticks did not seem to have any drifting issues either.</td>\n",
       "      <td>4</td>\n",
       "      <td>I bought these used for a custom mod, so I only needed the internals. Before taking them apart they seemed to work normally. Post mod they still work normally. It is worth noting however that the shells had scuffs &amp; a few distinct scratches. I recommend just buying new ones if you are using them as is. If you are looking to save a few bucks on a custom controller mod &amp; only need the internal parts then these work. It is worth noting that the sticks did not seem to have any drifting issues either.</td>\n",
       "    </tr>\n",
       "    <tr>\n",
       "      <th>11961</th>\n",
       "      <td>254562</td>\n",
       "      <td>When I bought this product used, all of the buttons worked on both joycons minus the L &amp;amp; R button. I opened them up and saw that the button on the motherboard was not attached but next to where it should have been. Also, the left joycon joystick looks like a toddler chewed on it. I guess that’s what I get for trying to buy used joycons?</td>\n",
       "      <td>3</td>\n",
       "      <td>When I bought this product used, all of the buttons worked on both joycons minus the L &amp; R button. I opened them up and saw that the button on the motherboard was not attached but next to where it should have been. Also, the left joycon joystick looks like a toddler chewed on it. I guess that’s what I get for trying to buy used joycons?</td>\n",
       "    </tr>\n",
       "    <tr>\n",
       "      <th>11968</th>\n",
       "      <td>254892</td>\n",
       "      <td>This is our 4th set of Nintendo Switch Joy-Cons. They’re great fun &amp;amp; just as expected, BUT the left one wears out so quickly. And we don’t play video games all the time like some people. For such a high price, Nintendo really should do better.</td>\n",
       "      <td>3</td>\n",
       "      <td>This is our 4th set of Nintendo Switch Joy-Cons. They’re great fun &amp; just as expected, BUT the left one wears out so quickly. And we don’t play video games all the time like some people. For such a high price, Nintendo really should do better.</td>\n",
       "    </tr>\n",
       "    <tr>\n",
       "      <th>12031</th>\n",
       "      <td>256532</td>\n",
       "      <td>The left one gets stuck &amp;amp; drifts! Just bought a few months ago this shouldn’t happen!! So disappointed</td>\n",
       "      <td>1</td>\n",
       "      <td>The left one gets stuck &amp; drifts! Just bought a few months ago this shouldn’t happen!! So disappointed</td>\n",
       "    </tr>\n",
       "  </tbody>\n",
       "</table>\n",
       "</div>"
      ],
      "text/plain": [
       "       comment_id  ...                                                                                                                                                                                                                                                                                                                                                                                                                                                                                                                                                                                                                                                                                                                                                                                                                                                                                                                                                                                                                                                                                                                                                                                  no_html\n",
       "8897       255542  ...                                                                                                                                                                                                                                                                                                                                                                                                                                                                                                                                                                                                                                                                                                                                                                                                                                                                                                                                                                                      The colors are super vibrant & unique. I was unable to find colors like this in multiple stores I visited, let alone find both a left & right controller together so this was definitely a win-win.\n",
       "8955       255550  ...                                                                                                                                                                                                                                                                                                                                                                                                                                                                                                                                                                                                                                                                                                                                                                                                                                                                                                                                   I received my Neon Pink & Neon Green Joy Cons yesterday and I'm amazed at how vibrant and colorful this particular set is! These 2 colors compliment each other perfectly, too! 5/5 Stars! Good packaging, prompt next-day delivery as a Prime Member.\n",
       "9216       255962  ...                                                                                                                                                                                                                                                                                                                                                                                                                                                                                                                                                                                                                                                                                                                                                                                                                                                                                                                                                                                                                                                                                                                                                    Love my Switch & these are fun colors\n",
       "9293       256306  ...                                                                                                                                                                                                                                                                                                                                                                                                                                                                                                                                                                                                                                                                                                                                                                                                                                                                                                                                                                                                                                                                                                                                                                                       <3\n",
       "9466       255331  ...                                                                                                                                                                                                                                                                                                                                                                                                                                                                                                                                                                                                                                                                                                                                                                                                                                                                                                                                                                                                                                                                                                                     Perfect pair of new joycons I'm using for a shell & button mod swap.\n",
       "10566      257919  ...                                                                                                                                                                                                                                                                                                                                                                                                                                                                                                                                                                                                                                                                                                                                                                                                                                                                                                                                                                                                                                                                                                                                                                   Works & bright colors!\n",
       "10717      258185  ...                                                                                                                                                                                                                                                                                                                                                                                                                                                                                                                                                                Although we do enjoy the new features that Switch have over Wii:* Does not require sensor bar* Portable - able to play on-the-go with build-in console batteryThere are few limitations that we were not aware prior to purchase:* Joy Con battery not removable. (Since rechargeable batteries have limited life, customers will need to purchase new controllers every 1-2 years depending on amount of use)* Joy Con controller size are small for adults including the joystick & buttons* Gel-Con Guards need to be removed when switching to Wheel adopter* Hand Strap need to removed in order to place on charger\n",
       "10737      258240  ...  After a few months of use, without dropping them, nothing smeared on them, and just playing Smash Bros Ultimate, one of the sticks on a Joy-con is starting to wear down. I can't make it respond to sudden movements or flicking. My left stick, in particular, is now drifting. I tried calibrating the controls, and it's fine, but it did nothing to fix the issue.I looked up on means to fix this, and it requires the risk of ruining your controller further by taking it apart to replace the stick with a new one (or at least adjust the current one). Even then, it does not take long for the drifting to come back.It's entirely possible I got unlucky and received a bad pair with my Switch, but it doesn't change the fact that something like this occurred so soon for something so expensive. I really want to enjoy my games on-the-go more often than at home, but it's not going to happen the way the design is flawed.Even the Pro-Controller is having the same issue... so now I'm hesitant to buy any Nintendo-licensed controller... and it doesn't help that the warranty for these controllers are so short. Terrific. Thanks for nothing, Nintendo.>.>\n",
       "10748      258269  ...                                                                                                                                                                                                                                                                                                                                                                                                                                                                                                                                                                                                                                                               I for one actually really like Joy Cons, they’re a very unique controller & can work together as one or just use a single joy con as one controller, these purple & neon orange combo is extraordinary! The Purple would sometimes look more like a Hot pink (depending when light hits it) and the neon orange would look more like a summer yellow (same reason; lighting) but they actually are a great combo and if you have other types of color joy cons, you can mixed them up & create your own colorful creation!\n",
       "10866      258366  ...                                                                                                                                                                                                                                                                                                                                                                                                                                                                                                                                                                                                                                                                                                                                                                                                                                                                                                                                                                                                                                                                   I bought this for my daughter for Christmas. She had several people over & they all enjoyed using the new controllers.\n",
       "10892      258431  ...                                                                                                                                                                                                                                                                                                                                                                                                                                                                                                                                                                                                                                                                                                                                                                                                                                                                                Colors are vibrant & they work great (as expected lol)! Very fun purchase! We accidentally yeeted one of them across the living room playing a Mario party mini game and it actually still works LOL The stick is a little wonky but overall impressed that it even survived! 10/10 will buy more colors!\n",
       "11561      257944  ...                                                                                                                                                                                                                                                                                                                                                                                                                                                                                                                                                                                                                                                                                                                                                                                                                                                                                                                                                                                                                                                                 They hold a super long charge and the pink & green fill me with nostalgia for the fairly odd parents (my SHOW as a kid).\n",
       "11667      258509  ...                                                                                                                                                                                                                                                                                                                                                                                                                                                                                                                                                                                                                                                                                                                                                                                                                                                                                                                                                                                                                                                                                                                                                      They are cute & i love the colors 💜\n",
       "11720      258580  ...                                                                                                                                                                                                                                                                                                                                                                                                                                                                                                                                                                                                                                                                                                                                                                                                                                                                                                                                                                                                                                                                   My child is soooo happy to have new working controllers! The shipping was quick & on time for his birthday last month.\n",
       "11825      258629  ...                                                                                                                                                                                                                                                                                                                                                                                                                                                                                                                                                                                                                                                                                                                                                                                                                                                                                                                                                                         Perfect finial addition to me now owning every single pair of joycons (- grey colour as to bland for me) from the UK, Japan & Also the US 😀 very speedy international delivery & arrived perfect so thank you 5*\n",
       "11842      258645  ...                                                                                                                                                                                                                                                                                                                                                                                                                                                                                                                                                                                                                                                                                                                                              Estoy en mi trabajo, y resulta que ya me entregaron el paquete y para colmo tienen el descaro de poner que la persona que recogió el paquete fui yo. TIENEN MI NUMERO DE TELÉFONO, MI DIRECCIÓN & SE ATREVEN A ENTREGARLE EL PRODUCTO A ALGUIEN QUE EN PRIMER LUGAR SE ENCUENTRA FUERA DE LA PROPIEDAD, YA QUE EN LA MISMA HAY REJAS A LO CUAL NADIE PUEDE ENTRAR, QUE ASCO CON EL SERVICIO DE PAQUETERIA. Sigo a la espera de llamada.....\n",
       "11879      253884  ...                                                                                                                                                                                                                                                                                                                                                                                                                                                                                                                                                                                                                                                                    I bought these used for a custom mod, so I only needed the internals. Before taking them apart they seemed to work normally. Post mod they still work normally. It is worth noting however that the shells had scuffs & a few distinct scratches. I recommend just buying new ones if you are using them as is. If you are looking to save a few bucks on a custom controller mod & only need the internal parts then these work. It is worth noting that the sticks did not seem to have any drifting issues either.\n",
       "11961      254562  ...                                                                                                                                                                                                                                                                                                                                                                                                                                                                                                                                                                                                                                                                                                                                                                                                                                       When I bought this product used, all of the buttons worked on both joycons minus the L & R button. I opened them up and saw that the button on the motherboard was not attached but next to where it should have been. Also, the left joycon joystick looks like a toddler chewed on it. I guess that’s what I get for trying to buy used joycons?\n",
       "11968      254892  ...                                                                                                                                                                                                                                                                                                                                                                                                                                                                                                                                                                                                                                                                                                                                                                                                                                                                                                                                      This is our 4th set of Nintendo Switch Joy-Cons. They’re great fun & just as expected, BUT the left one wears out so quickly. And we don’t play video games all the time like some people. For such a high price, Nintendo really should do better.\n",
       "12031      256532  ...                                                                                                                                                                                                                                                                                                                                                                                                                                                                                                                                                                                                                                                                                                                                                                                                                                                                                                                                                                                                                                                                                   The left one gets stuck & drifts! Just bought a few months ago this shouldn’t happen!! So disappointed\n",
       "\n",
       "[20 rows x 4 columns]"
      ]
     },
     "execution_count": 91,
     "metadata": {
      "tags": []
     },
     "output_type": "execute_result"
    }
   ],
   "source": [
    "df[df[\"no_html\"] != df[\"review\"]][100:120]"
   ]
  },
  {
   "cell_type": "markdown",
   "metadata": {
    "id": "u7j-uCfGG51g"
   },
   "source": [
    "One notice from the example above is that the BeautifulSoup function convert  `&amp;` to `$`. In general, the function tries to convert decode the **HTML Character Entities**."
   ]
  },
  {
   "cell_type": "markdown",
   "metadata": {
    "id": "G4sJXl07HrpS"
   },
   "source": [
    "## Step 2: Remove redundant elements"
   ]
  },
  {
   "cell_type": "code",
   "execution_count": 115,
   "metadata": {
    "id": "IAlSfCdwH63g"
   },
   "outputs": [],
   "source": [
    "# Remove and replace by empty space\n",
    "def remove_redundant_elements(text):\n",
    "    # remove urls\n",
    "    text = re.sub(r\"http\\S+\", \" \", text)\n",
    "    # remove phone\n",
    "    text = re.sub(r\"[\\+]?[(]?[0-9]{3}[)]?[-\\s\\.]?[0-9]{3}[-\\s\\.]?[0-9]{4,6}\", \" \", text)\n",
    "    # remove email\n",
    "    text = re.sub(r\"[\\w.+-]+@[\\w-]+\\.[\\w.-]+\", \" \", text)\n",
    "    # remove newline\n",
    "    table = str.maketrans(\"\\n\\t\\r\", \"   \")\n",
    "    text = text.translate(table)\n",
    "    # remove redundant whitespaces\n",
    "    text = \" \".join(text.split())\n",
    "#     # remove punctuations\n",
    "#     table_ = str.maketrans(string.punctuation, \" \" * len(string.punctuation))\n",
    "#     comment = \" \".join(comment.translate(table_).split())\n",
    "    return text"
   ]
  },
  {
   "cell_type": "code",
   "execution_count": 122,
   "metadata": {
    "id": "uCuUE5OvH9UG"
   },
   "outputs": [],
   "source": [
    "df[\"no_redundant\"] = df[\"no_html\"].apply(remove_redundant_elements)"
   ]
  },
  {
   "cell_type": "code",
   "execution_count": 123,
   "metadata": {
    "colab": {
     "base_uri": "https://localhost:8080/",
     "height": 1000
    },
    "id": "CZ5ZvP4RK5s8",
    "outputId": "e6c3864e-3e61-4a4f-b1bf-292f55bbbc4e"
   },
   "outputs": [
    {
     "data": {
      "text/html": [
       "<div>\n",
       "<style scoped>\n",
       "    .dataframe tbody tr th:only-of-type {\n",
       "        vertical-align: middle;\n",
       "    }\n",
       "\n",
       "    .dataframe tbody tr th {\n",
       "        vertical-align: top;\n",
       "    }\n",
       "\n",
       "    .dataframe thead th {\n",
       "        text-align: right;\n",
       "    }\n",
       "</style>\n",
       "<table border=\"1\" class=\"dataframe\">\n",
       "  <thead>\n",
       "    <tr style=\"text-align: right;\">\n",
       "      <th></th>\n",
       "      <th>no_html</th>\n",
       "      <th>no_redundant</th>\n",
       "    </tr>\n",
       "  </thead>\n",
       "  <tbody>\n",
       "    <tr>\n",
       "      <th>1950</th>\n",
       "      <td>I am overall satisfied with the laptop. It's fast, works great, and didn't have any trouble setting up. I've got to admit, it was hard switching from Windows to IOS, but that was on my part. I was loving it until I really started seeing some changes...It was only, what? Two days in? I unplugged my laptop because I left my room to do assignments in my sister's room, and less than an hour later my laptop went from 100 to 89. I wasn't even using any \"THIS NEEDS POWER\" apps. I had all the energy saver settings on, and my brightness was low as well. Also, (please read the whole thing because I'm not sure if it's me or the laptop) I had problems with the temperature. It was overheating. I would always hear the fan on at times that were so unnecessary.I'll admit, high-graphic games were played, but after I stopped playing those games, the fan was still moving like someone trying to find a bathroom in Taco Bell. And, it was LOUD, like enough to wake up a 'tarantula' loud (of course not THAT loud, but it sounded like I was using a 2010 desktop Windows 7 Vista CPU). I have a laptop stand, but it has holes. Could that still factor in my circulation issues? I mean, there aren't any ventilation holes on the bottom, right? RIGHT?That's the laptop stand. It says it has heat vents, and in the picture, it shows a Macbook:https://www.amazon.com/Adjustable-Aluminum-Multi-Angle-Heat-Vent-Compatible/dp/B088DB45HG/ref=pd_ybh_a_219?_encoding=UTF8&amp;psc=1&amp;refRID=R8VBZ111SHQCQCPPHJSX</td>\n",
       "      <td>I am overall satisfied with the laptop. It's fast, works great, and didn't have any trouble setting up. I've got to admit, it was hard switching from Windows to IOS, but that was on my part. I was loving it until I really started seeing some changes...It was only, what? Two days in? I unplugged my laptop because I left my room to do assignments in my sister's room, and less than an hour later my laptop went from 100 to 89. I wasn't even using any \"THIS NEEDS POWER\" apps. I had all the energy saver settings on, and my brightness was low as well. Also, (please read the whole thing because I'm not sure if it's me or the laptop) I had problems with the temperature. It was overheating. I would always hear the fan on at times that were so unnecessary.I'll admit, high-graphic games were played, but after I stopped playing those games, the fan was still moving like someone trying to find a bathroom in Taco Bell. And, it was LOUD, like enough to wake up a 'tarantula' loud (of course not THAT loud, but it sounded like I was using a 2010 desktop Windows 7 Vista CPU). I have a laptop stand, but it has holes. Could that still factor in my circulation issues? I mean, there aren't any ventilation holes on the bottom, right? RIGHT?That's the laptop stand. It says it has heat vents, and in the picture, it shows a Macbook:</td>\n",
       "    </tr>\n",
       "    <tr>\n",
       "      <th>4248</th>\n",
       "      <td>Essa review do Switch Lite está fragmentada em duas partes, software e hardware.Começando pelo aspecto de hardware, é seguro dizer que a Nvidia fez um trabalho muito melhor do que a Nintendo: O SoC Tegra é capaz de entregar jogos antigos de PC (2013 em diante) para o handheld sem screen tearing, sem frame drops, e com uma boa duração de bateria (no máximo 3 horas, dependendo do jogo).Porém, a Nintendo me desapontou: embora os face buttons (X, Y, A B) sejam macios de apertar, a pressa da empresa em lançar logo o Switch Lite afim de aproveitar o hype que o tradicional Switch gerou culminou em sticks com qualidade duvidosa sendo implementados na versão final do produto. Uma vez que o seu stick esteja \"funcionando sozinho\", isso vai sempre te perseguir até que você resolva o problema: ou envie para um representante da Nintendo no exterior para consertar, o que pode levar até semanas, ou você resolve o problema sozinho - e é aí que você se depara com uma outra limitação imposta pela Nintendo, as tri-wing screws (parafusos de três pontas) que a empresa implementou propositalmente para evitar que seus clientes sejam capazes de fazer a manutenção do Switch Lite. Lamentável.Em termos de software: até a geração passada da Nintendo (WiiU) o senso comum ditava que a audiência da empresa sempre foram os pequenos até os adolescentes. Com o Switch, a Nintendo quer mudar essa idéia e abraçar todos os públicos. Mas os desenvolvedores ainda não engoliram essa, principalmente porque lançaram seus jogos nas plataformas anteriores da Nintendo e se arrependeram amargamente, devido às míseras vendas de seus jogos. É por isso que desenvolvedores como Rockstar, Activision, EA, dentre outros não lançam jogos considerados 'Mature' na plataforma. Depois de quase três anos de mercado, o Switch ainda vive o momento em que essas desenvolvedoras ficam esperando ver quem dá o primeiro passo. Se for feito com sucesso e a lucratividade compensar, as outras seguem. Nesse período de indecisão, a comunidade Switch ainda debate \"onde está GTA V para o Switch?\", \"Cadê o port de Red Dead Redemption?\", \"por quê ainda não temos Tomb Raider ou Deus EX no Switch?\", entre outras reivindicações. Os jogos \"first-party\" nada mais são do que ports do WiiU cujos preços são absurdamente caros. Para se ter uma idéia, Donkey Kong Tropical Freeze, um jogo do WiiU com mais de cinco anos de existência, é cobrado por 60 Dólares. Tudo bem, o jogo é bonito, porém velho demais e caro demais. E essa tem sido a filosofia da empresa, se for first-party, cobre o máximo. Diferente da competidora Sony, onde até mesmo jogos first-party como God of War é descontado mais da metade em promoções na PS Store, a Nintendo quer sempre cobrar o máximo, descontando seus jogos em 33% de vez em nunca na Nintendo eShop. Esse desconto é seletivo (não valem para todos os jogos da empresa). Além disso, falando na eShop, você sempre compra um jogo 'no escuro': sem uma demo, sem review para você ter uma idéia se o jogo é bom ou não antes de comprar. Então supomos que você compre o jogo mesmo assim. Se arrependeu? Azar o seu, a Nintendo não permite refunds (retorno do software e o seu dinheiro de volta). Um absurdo. E como as leis vigentes brasileiras são mais feitas pra te ferrar do que pra te ajudar, é melhor você procurar um vídeo de um gameplay no Youtube antes de efetuar a sua compra. Você foi avisado.Por fim, eu tenho mais de 340 horas com o meu Switch Lite. Me arrependo de ter comprado o handheld com um preço tão salgado, confesso que deveria ter esperado mais um ano, quem sabe até lá o Switch Lite teria um preço menos abusivo e jogos mais atrativos. Não sou fã de Mario e toda aquela corja \"fofinha demais e caro demais\" da Nintendo. Admitidamente, se o projeto Smach Z (Kickstarter) tivesse entregado um produto digno da espera, não teria sequer passado perto do Nintendo Switch. E tem mais: se você curte apenas jogos em 2D ou então no estilo dos da Gameloft, teu celular vai ter dar uma experiência melhor do que o Nintendo Switch Lite, supondo que você tenha um controle Bluetooth e um celular com uma configuração respeitável e com mais de 2000mAh de bateria. O único quesito que o Switch Lite ganha é que é apenas uma única configuração de hardware, portanto os desenvolvedores oferecem o suporte aos seus jogos de maneira que rodem de forma suave e compatível, coisa que não se vê muito em jogos Android em 2020.Adicionalmente, se o seu Switch Lite for teu hardware principal para jogos, ele vai ficar bastante judiado.Você vai precisar de um case, uma skin e um grip. Eu recomendo essa solução três-em-um da Skull &amp; Co:https://www.amazon.com/gp/product/B082B56D2H/ref=ppx_yo_dt_b_asin_title_o00_s00?ie=UTF8&amp;psc=1Um screen protector para evitar arranhões na tela:https://www.amazon.com/gp/product/B07QNRB34L/ref=ppx_yo_dt_b_asin_title_o03_s01?ie=UTF8&amp;psc=1E por fim, um cartão de memória. Dependendo se você for um colecionador, a memória interna talvez seja o suficiente. Caso contrário, um cartão de 200GB da SanDisk deve bastar para o seu primeiro ano com o Switch Lite:https://www.amazon.com/gp/product/B073JY5T7T/ref=ppx_yo_dt_b_asin_title_o03_s00?ie=UTF8&amp;psc=1</td>\n",
       "      <td>Essa review do Switch Lite está fragmentada em duas partes, software e hardware.Começando pelo aspecto de hardware, é seguro dizer que a Nvidia fez um trabalho muito melhor do que a Nintendo: O SoC Tegra é capaz de entregar jogos antigos de PC (2013 em diante) para o handheld sem screen tearing, sem frame drops, e com uma boa duração de bateria (no máximo 3 horas, dependendo do jogo).Porém, a Nintendo me desapontou: embora os face buttons (X, Y, A B) sejam macios de apertar, a pressa da empresa em lançar logo o Switch Lite afim de aproveitar o hype que o tradicional Switch gerou culminou em sticks com qualidade duvidosa sendo implementados na versão final do produto. Uma vez que o seu stick esteja \"funcionando sozinho\", isso vai sempre te perseguir até que você resolva o problema: ou envie para um representante da Nintendo no exterior para consertar, o que pode levar até semanas, ou você resolve o problema sozinho - e é aí que você se depara com uma outra limitação imposta pela Nintendo, as tri-wing screws (parafusos de três pontas) que a empresa implementou propositalmente para evitar que seus clientes sejam capazes de fazer a manutenção do Switch Lite. Lamentável.Em termos de software: até a geração passada da Nintendo (WiiU) o senso comum ditava que a audiência da empresa sempre foram os pequenos até os adolescentes. Com o Switch, a Nintendo quer mudar essa idéia e abraçar todos os públicos. Mas os desenvolvedores ainda não engoliram essa, principalmente porque lançaram seus jogos nas plataformas anteriores da Nintendo e se arrependeram amargamente, devido às míseras vendas de seus jogos. É por isso que desenvolvedores como Rockstar, Activision, EA, dentre outros não lançam jogos considerados 'Mature' na plataforma. Depois de quase três anos de mercado, o Switch ainda vive o momento em que essas desenvolvedoras ficam esperando ver quem dá o primeiro passo. Se for feito com sucesso e a lucratividade compensar, as outras seguem. Nesse período de indecisão, a comunidade Switch ainda debate \"onde está GTA V para o Switch?\", \"Cadê o port de Red Dead Redemption?\", \"por quê ainda não temos Tomb Raider ou Deus EX no Switch?\", entre outras reivindicações. Os jogos \"first-party\" nada mais são do que ports do WiiU cujos preços são absurdamente caros. Para se ter uma idéia, Donkey Kong Tropical Freeze, um jogo do WiiU com mais de cinco anos de existência, é cobrado por 60 Dólares. Tudo bem, o jogo é bonito, porém velho demais e caro demais. E essa tem sido a filosofia da empresa, se for first-party, cobre o máximo. Diferente da competidora Sony, onde até mesmo jogos first-party como God of War é descontado mais da metade em promoções na PS Store, a Nintendo quer sempre cobrar o máximo, descontando seus jogos em 33% de vez em nunca na Nintendo eShop. Esse desconto é seletivo (não valem para todos os jogos da empresa). Além disso, falando na eShop, você sempre compra um jogo 'no escuro': sem uma demo, sem review para você ter uma idéia se o jogo é bom ou não antes de comprar. Então supomos que você compre o jogo mesmo assim. Se arrependeu? Azar o seu, a Nintendo não permite refunds (retorno do software e o seu dinheiro de volta). Um absurdo. E como as leis vigentes brasileiras são mais feitas pra te ferrar do que pra te ajudar, é melhor você procurar um vídeo de um gameplay no Youtube antes de efetuar a sua compra. Você foi avisado.Por fim, eu tenho mais de 340 horas com o meu Switch Lite. Me arrependo de ter comprado o handheld com um preço tão salgado, confesso que deveria ter esperado mais um ano, quem sabe até lá o Switch Lite teria um preço menos abusivo e jogos mais atrativos. Não sou fã de Mario e toda aquela corja \"fofinha demais e caro demais\" da Nintendo. Admitidamente, se o projeto Smach Z (Kickstarter) tivesse entregado um produto digno da espera, não teria sequer passado perto do Nintendo Switch. E tem mais: se você curte apenas jogos em 2D ou então no estilo dos da Gameloft, teu celular vai ter dar uma experiência melhor do que o Nintendo Switch Lite, supondo que você tenha um controle Bluetooth e um celular com uma configuração respeitável e com mais de 2000mAh de bateria. O único quesito que o Switch Lite ganha é que é apenas uma única configuração de hardware, portanto os desenvolvedores oferecem o suporte aos seus jogos de maneira que rodem de forma suave e compatível, coisa que não se vê muito em jogos Android em 2020.Adicionalmente, se o seu Switch Lite for teu hardware principal para jogos, ele vai ficar bastante judiado.Você vai precisar de um case, uma skin e um grip. Eu recomendo essa solução três-em-um da Skull &amp; Co: screen protector para evitar arranhões na tela: por fim, um cartão de memória. Dependendo se você for um colecionador, a memória interna talvez seja o suficiente. Caso contrário, um cartão de 200GB da SanDisk deve bastar para o seu primeiro ano com o Switch Lite:</td>\n",
       "    </tr>\n",
       "    <tr>\n",
       "      <th>5503</th>\n",
       "      <td>Button on left as in picture broke too easily please send new one to my niece. Jennifer Canady We spent $200 for this in June.... and we will send old one back (include return shipping label) please call Deborah 512-809-5934 or Sandra niece (512) 944-2592thank you</td>\n",
       "      <td>Button on left as in picture broke too easily please send new one to my niece. Jennifer Canady We spent $200 for this in June.... and we will send old one back (include return shipping label) please call Deborah or Sandra niece thank you</td>\n",
       "    </tr>\n",
       "    <tr>\n",
       "      <th>12295</th>\n",
       "      <td>Please warranty my joy-con Left-side doesn’t charge! New email is huitang2009@hotmail.com. I bought it 2/12 2018!! Only use couple times! Sent me warranty one so I can sent you back the broken one!!!!!</td>\n",
       "      <td>Please warranty my joy-con Left-side doesn’t charge! New email is I bought it 2/12 2018!! Only use couple times! Sent me warranty one so I can sent you back the broken one!!!!!</td>\n",
       "    </tr>\n",
       "  </tbody>\n",
       "</table>\n",
       "</div>"
      ],
      "text/plain": [
       "                                                                                                                                                                                                                                                                                                                                                                                                                                                                                                                                                                                                                                                                                                                                                                                                                                                                                                                                                                                                                                                                                                                                                                                                                                                                                                                                                                                                                                                                                                                                                                                                                                                                                                                                                                                                                                                                                                                                                                                                                                                                                                                                                                                                                                                                                                                                                                                                                                                                                                                                                                                                                                                                                                                                                                                                                                                                                                                                                                                                                                                                                                                                                                                                                                                                                                                                                                                                                                                                                                                                                                                                                                                                                                                                                                                                                                                                                                                                                                                                                                                                                                                                                                                                                                                                                                                                                                                                                                                                                                                                                                                                                                                                                                                                                                                                                                                                                                                                                                                                                                                                                                                                                                                                                                                                                                                                                                          no_html                                                                                                                                                                                                                                                                                                                                                                                                                                                                                                                                                                                                                                                                                                                                                                                                                                                                                                                                                                                                                                                                                                                                                                                                                                                                                                                                                                                                                                                                                                                                                                                                                                                                                                                                                                                                                                                                                                                                                                                                                                                                                                                                                                                                                                                                                                                                                                                                                                                                                                                                                                                                                                                                                                                                                                                                                                                                                                                                                                                                                                                                                                                                                                                                                                                                                                                                                                                                                                                                                                                                                                                                                                                                                                                                                                                                                                                                                                                                                                                                                                                                                                                                                                                                                                                                                                                                                                                                                                                                                                                                                                                                                                                                                                                                                                                                                                                                                                                                                                                                                                                                      no_redundant\n",
       "1950                                                                                                                                                                                                                                                                                                                                                                                                                                                                                                                                                                                                                                                                                                                                                                                                                                                                                                                                                                                                                                                                                                                                                                                                                                                                                                                                                                                                                                                                                                                                                                                                                                                                                                                                                                                                                                                                                                                                                                                                                                                                                                                                                                                                                                                                                                                                                                                                                                                                                                                                                                                                                                                                                                                                                                                                                                                                                                                                                                                                                                                                                                                                                                                                                                                                                                                                                                                                                                                                                                                                                                                                                                                                                                                                                                                                                                    I am overall satisfied with the laptop. It's fast, works great, and didn't have any trouble setting up. I've got to admit, it was hard switching from Windows to IOS, but that was on my part. I was loving it until I really started seeing some changes...It was only, what? Two days in? I unplugged my laptop because I left my room to do assignments in my sister's room, and less than an hour later my laptop went from 100 to 89. I wasn't even using any \"THIS NEEDS POWER\" apps. I had all the energy saver settings on, and my brightness was low as well. Also, (please read the whole thing because I'm not sure if it's me or the laptop) I had problems with the temperature. It was overheating. I would always hear the fan on at times that were so unnecessary.I'll admit, high-graphic games were played, but after I stopped playing those games, the fan was still moving like someone trying to find a bathroom in Taco Bell. And, it was LOUD, like enough to wake up a 'tarantula' loud (of course not THAT loud, but it sounded like I was using a 2010 desktop Windows 7 Vista CPU). I have a laptop stand, but it has holes. Could that still factor in my circulation issues? I mean, there aren't any ventilation holes on the bottom, right? RIGHT?That's the laptop stand. It says it has heat vents, and in the picture, it shows a Macbook:https://www.amazon.com/Adjustable-Aluminum-Multi-Angle-Heat-Vent-Compatible/dp/B088DB45HG/ref=pd_ybh_a_219?_encoding=UTF8&psc=1&refRID=R8VBZ111SHQCQCPPHJSX                                                                                                                                                                                                                                                                                                                                                                                                                                                                                                                                                                                                                                                                                                                                                                                                                                                                                                                                                                                                                                                                                                                                                                                                                                                                                                                                                                                                                                                                                                                                                                                                                                                                                                                                                                                                                                                                                                                                                                                                                                                                                                                                                                                                                                                                                                                                                                                                                                                                                                                                                                                                                                                                                                                                                                                                                                                                                                                                                                                                                                                                                                                                                                                                                                                                                                                                                                                                                                                                                                                                                                                                                                                                                                    I am overall satisfied with the laptop. It's fast, works great, and didn't have any trouble setting up. I've got to admit, it was hard switching from Windows to IOS, but that was on my part. I was loving it until I really started seeing some changes...It was only, what? Two days in? I unplugged my laptop because I left my room to do assignments in my sister's room, and less than an hour later my laptop went from 100 to 89. I wasn't even using any \"THIS NEEDS POWER\" apps. I had all the energy saver settings on, and my brightness was low as well. Also, (please read the whole thing because I'm not sure if it's me or the laptop) I had problems with the temperature. It was overheating. I would always hear the fan on at times that were so unnecessary.I'll admit, high-graphic games were played, but after I stopped playing those games, the fan was still moving like someone trying to find a bathroom in Taco Bell. And, it was LOUD, like enough to wake up a 'tarantula' loud (of course not THAT loud, but it sounded like I was using a 2010 desktop Windows 7 Vista CPU). I have a laptop stand, but it has holes. Could that still factor in my circulation issues? I mean, there aren't any ventilation holes on the bottom, right? RIGHT?That's the laptop stand. It says it has heat vents, and in the picture, it shows a Macbook:\n",
       "4248   Essa review do Switch Lite está fragmentada em duas partes, software e hardware.Começando pelo aspecto de hardware, é seguro dizer que a Nvidia fez um trabalho muito melhor do que a Nintendo: O SoC Tegra é capaz de entregar jogos antigos de PC (2013 em diante) para o handheld sem screen tearing, sem frame drops, e com uma boa duração de bateria (no máximo 3 horas, dependendo do jogo).Porém, a Nintendo me desapontou: embora os face buttons (X, Y, A B) sejam macios de apertar, a pressa da empresa em lançar logo o Switch Lite afim de aproveitar o hype que o tradicional Switch gerou culminou em sticks com qualidade duvidosa sendo implementados na versão final do produto. Uma vez que o seu stick esteja \"funcionando sozinho\", isso vai sempre te perseguir até que você resolva o problema: ou envie para um representante da Nintendo no exterior para consertar, o que pode levar até semanas, ou você resolve o problema sozinho - e é aí que você se depara com uma outra limitação imposta pela Nintendo, as tri-wing screws (parafusos de três pontas) que a empresa implementou propositalmente para evitar que seus clientes sejam capazes de fazer a manutenção do Switch Lite. Lamentável.Em termos de software: até a geração passada da Nintendo (WiiU) o senso comum ditava que a audiência da empresa sempre foram os pequenos até os adolescentes. Com o Switch, a Nintendo quer mudar essa idéia e abraçar todos os públicos. Mas os desenvolvedores ainda não engoliram essa, principalmente porque lançaram seus jogos nas plataformas anteriores da Nintendo e se arrependeram amargamente, devido às míseras vendas de seus jogos. É por isso que desenvolvedores como Rockstar, Activision, EA, dentre outros não lançam jogos considerados 'Mature' na plataforma. Depois de quase três anos de mercado, o Switch ainda vive o momento em que essas desenvolvedoras ficam esperando ver quem dá o primeiro passo. Se for feito com sucesso e a lucratividade compensar, as outras seguem. Nesse período de indecisão, a comunidade Switch ainda debate \"onde está GTA V para o Switch?\", \"Cadê o port de Red Dead Redemption?\", \"por quê ainda não temos Tomb Raider ou Deus EX no Switch?\", entre outras reivindicações. Os jogos \"first-party\" nada mais são do que ports do WiiU cujos preços são absurdamente caros. Para se ter uma idéia, Donkey Kong Tropical Freeze, um jogo do WiiU com mais de cinco anos de existência, é cobrado por 60 Dólares. Tudo bem, o jogo é bonito, porém velho demais e caro demais. E essa tem sido a filosofia da empresa, se for first-party, cobre o máximo. Diferente da competidora Sony, onde até mesmo jogos first-party como God of War é descontado mais da metade em promoções na PS Store, a Nintendo quer sempre cobrar o máximo, descontando seus jogos em 33% de vez em nunca na Nintendo eShop. Esse desconto é seletivo (não valem para todos os jogos da empresa). Além disso, falando na eShop, você sempre compra um jogo 'no escuro': sem uma demo, sem review para você ter uma idéia se o jogo é bom ou não antes de comprar. Então supomos que você compre o jogo mesmo assim. Se arrependeu? Azar o seu, a Nintendo não permite refunds (retorno do software e o seu dinheiro de volta). Um absurdo. E como as leis vigentes brasileiras são mais feitas pra te ferrar do que pra te ajudar, é melhor você procurar um vídeo de um gameplay no Youtube antes de efetuar a sua compra. Você foi avisado.Por fim, eu tenho mais de 340 horas com o meu Switch Lite. Me arrependo de ter comprado o handheld com um preço tão salgado, confesso que deveria ter esperado mais um ano, quem sabe até lá o Switch Lite teria um preço menos abusivo e jogos mais atrativos. Não sou fã de Mario e toda aquela corja \"fofinha demais e caro demais\" da Nintendo. Admitidamente, se o projeto Smach Z (Kickstarter) tivesse entregado um produto digno da espera, não teria sequer passado perto do Nintendo Switch. E tem mais: se você curte apenas jogos em 2D ou então no estilo dos da Gameloft, teu celular vai ter dar uma experiência melhor do que o Nintendo Switch Lite, supondo que você tenha um controle Bluetooth e um celular com uma configuração respeitável e com mais de 2000mAh de bateria. O único quesito que o Switch Lite ganha é que é apenas uma única configuração de hardware, portanto os desenvolvedores oferecem o suporte aos seus jogos de maneira que rodem de forma suave e compatível, coisa que não se vê muito em jogos Android em 2020.Adicionalmente, se o seu Switch Lite for teu hardware principal para jogos, ele vai ficar bastante judiado.Você vai precisar de um case, uma skin e um grip. Eu recomendo essa solução três-em-um da Skull & Co:https://www.amazon.com/gp/product/B082B56D2H/ref=ppx_yo_dt_b_asin_title_o00_s00?ie=UTF8&psc=1Um screen protector para evitar arranhões na tela:https://www.amazon.com/gp/product/B07QNRB34L/ref=ppx_yo_dt_b_asin_title_o03_s01?ie=UTF8&psc=1E por fim, um cartão de memória. Dependendo se você for um colecionador, a memória interna talvez seja o suficiente. Caso contrário, um cartão de 200GB da SanDisk deve bastar para o seu primeiro ano com o Switch Lite:https://www.amazon.com/gp/product/B073JY5T7T/ref=ppx_yo_dt_b_asin_title_o03_s00?ie=UTF8&psc=1  Essa review do Switch Lite está fragmentada em duas partes, software e hardware.Começando pelo aspecto de hardware, é seguro dizer que a Nvidia fez um trabalho muito melhor do que a Nintendo: O SoC Tegra é capaz de entregar jogos antigos de PC (2013 em diante) para o handheld sem screen tearing, sem frame drops, e com uma boa duração de bateria (no máximo 3 horas, dependendo do jogo).Porém, a Nintendo me desapontou: embora os face buttons (X, Y, A B) sejam macios de apertar, a pressa da empresa em lançar logo o Switch Lite afim de aproveitar o hype que o tradicional Switch gerou culminou em sticks com qualidade duvidosa sendo implementados na versão final do produto. Uma vez que o seu stick esteja \"funcionando sozinho\", isso vai sempre te perseguir até que você resolva o problema: ou envie para um representante da Nintendo no exterior para consertar, o que pode levar até semanas, ou você resolve o problema sozinho - e é aí que você se depara com uma outra limitação imposta pela Nintendo, as tri-wing screws (parafusos de três pontas) que a empresa implementou propositalmente para evitar que seus clientes sejam capazes de fazer a manutenção do Switch Lite. Lamentável.Em termos de software: até a geração passada da Nintendo (WiiU) o senso comum ditava que a audiência da empresa sempre foram os pequenos até os adolescentes. Com o Switch, a Nintendo quer mudar essa idéia e abraçar todos os públicos. Mas os desenvolvedores ainda não engoliram essa, principalmente porque lançaram seus jogos nas plataformas anteriores da Nintendo e se arrependeram amargamente, devido às míseras vendas de seus jogos. É por isso que desenvolvedores como Rockstar, Activision, EA, dentre outros não lançam jogos considerados 'Mature' na plataforma. Depois de quase três anos de mercado, o Switch ainda vive o momento em que essas desenvolvedoras ficam esperando ver quem dá o primeiro passo. Se for feito com sucesso e a lucratividade compensar, as outras seguem. Nesse período de indecisão, a comunidade Switch ainda debate \"onde está GTA V para o Switch?\", \"Cadê o port de Red Dead Redemption?\", \"por quê ainda não temos Tomb Raider ou Deus EX no Switch?\", entre outras reivindicações. Os jogos \"first-party\" nada mais são do que ports do WiiU cujos preços são absurdamente caros. Para se ter uma idéia, Donkey Kong Tropical Freeze, um jogo do WiiU com mais de cinco anos de existência, é cobrado por 60 Dólares. Tudo bem, o jogo é bonito, porém velho demais e caro demais. E essa tem sido a filosofia da empresa, se for first-party, cobre o máximo. Diferente da competidora Sony, onde até mesmo jogos first-party como God of War é descontado mais da metade em promoções na PS Store, a Nintendo quer sempre cobrar o máximo, descontando seus jogos em 33% de vez em nunca na Nintendo eShop. Esse desconto é seletivo (não valem para todos os jogos da empresa). Além disso, falando na eShop, você sempre compra um jogo 'no escuro': sem uma demo, sem review para você ter uma idéia se o jogo é bom ou não antes de comprar. Então supomos que você compre o jogo mesmo assim. Se arrependeu? Azar o seu, a Nintendo não permite refunds (retorno do software e o seu dinheiro de volta). Um absurdo. E como as leis vigentes brasileiras são mais feitas pra te ferrar do que pra te ajudar, é melhor você procurar um vídeo de um gameplay no Youtube antes de efetuar a sua compra. Você foi avisado.Por fim, eu tenho mais de 340 horas com o meu Switch Lite. Me arrependo de ter comprado o handheld com um preço tão salgado, confesso que deveria ter esperado mais um ano, quem sabe até lá o Switch Lite teria um preço menos abusivo e jogos mais atrativos. Não sou fã de Mario e toda aquela corja \"fofinha demais e caro demais\" da Nintendo. Admitidamente, se o projeto Smach Z (Kickstarter) tivesse entregado um produto digno da espera, não teria sequer passado perto do Nintendo Switch. E tem mais: se você curte apenas jogos em 2D ou então no estilo dos da Gameloft, teu celular vai ter dar uma experiência melhor do que o Nintendo Switch Lite, supondo que você tenha um controle Bluetooth e um celular com uma configuração respeitável e com mais de 2000mAh de bateria. O único quesito que o Switch Lite ganha é que é apenas uma única configuração de hardware, portanto os desenvolvedores oferecem o suporte aos seus jogos de maneira que rodem de forma suave e compatível, coisa que não se vê muito em jogos Android em 2020.Adicionalmente, se o seu Switch Lite for teu hardware principal para jogos, ele vai ficar bastante judiado.Você vai precisar de um case, uma skin e um grip. Eu recomendo essa solução três-em-um da Skull & Co: screen protector para evitar arranhões na tela: por fim, um cartão de memória. Dependendo se você for um colecionador, a memória interna talvez seja o suficiente. Caso contrário, um cartão de 200GB da SanDisk deve bastar para o seu primeiro ano com o Switch Lite:\n",
       "5503                                                                                                                                                                                                                                                                                                                                                                                                                                                                                                                                                                                                                                                                                                                                                                                                                                                                                                                                                                                                                                                                                                                                                                                                                                                                                                                                                                                                                                                                                                                                                                                                                                                                                                                                                                                                                                                                                                                                                                                                                                                                                                                                                                                                                                                                                                                                                                                                                                                                                                                                                                                                                                                                                                                                                                                                                                                                                                                                                                                                                                                                                                                                                                                                                                                                                                                                                                                                                                                                                                                                                                                                                                                                                                                                                                                                                                                                                                                                                                                                                                                                                                                                                                                                                                                                                                                                                                                                                                                                                                                                                                                                                                                                                                                                                                                                                                                                                                                                                                                                                                                                                                     Button on left as in picture broke too easily please send new one to my niece. Jennifer Canady We spent $200 for this in June.... and we will send old one back (include return shipping label) please call Deborah 512-809-5934 or Sandra niece (512) 944-2592thank you                                                                                                                                                                                                                                                                                                                                                                                                                                                                                                                                                                                                                                                                                                                                                                                                                                                                                                                                                                                                                                                                                                                                                                                                                                                                                                                                                                                                                                                                                                                                                                                                                                                                                                                                                                                                                                                                                                                                                                                                                                                                                                                                                                                                                                                                                                                                                                                                                                                                                                                                                                                                                                                                                                                                                                                                                                                                                                                                                                                                                                                                                                                                                                                                                                                                                                                                                                                                                                                                                                                                                                                                                                                                                                                                                                                                                                                                                                                                                                                                                                                                                                                                                                                                                                                                                                                                                                                                                                                                                                                                                                                                                                                                                                                                                                                                                                     Button on left as in picture broke too easily please send new one to my niece. Jennifer Canady We spent $200 for this in June.... and we will send old one back (include return shipping label) please call Deborah or Sandra niece thank you\n",
       "12295                                                                                                                                                                                                                                                                                                                                                                                                                                                                                                                                                                                                                                                                                                                                                                                                                                                                                                                                                                                                                                                                                                                                                                                                                                                                                                                                                                                                                                                                                                                                                                                                                                                                                                                                                                                                                                                                                                                                                                                                                                                                                                                                                                                                                                                                                                                                                                                                                                                                                                                                                                                                                                                                                                                                                                                                                                                                                                                                                                                                                                                                                                                                                                                                                                                                                                                                                                                                                                                                                                                                                                                                                                                                                                                                                                                                                                                                                                                                                                                                                                                                                                                                                                                                                                                                                                                                                                                                                                                                                                                                                                                                                                                                                                                                                                                                                                                                                                                                                                                                                                                                                                                                                                   Please warranty my joy-con Left-side doesn’t charge! New email is huitang2009@hotmail.com. I bought it 2/12 2018!! Only use couple times! Sent me warranty one so I can sent you back the broken one!!!!!                                                                                                                                                                                                                                                                                                                                                                                                                                                                                                                                                                                                                                                                                                                                                                                                                                                                                                                                                                                                                                                                                                                                                                                                                                                                                                                                                                                                                                                                                                                                                                                                                                                                                                                                                                                                                                                                                                                                                                                                                                                                                                                                                                                                                                                                                                                                                                                                                                                                                                                                                                                                                                                                                                                                                                                                                                                                                                                                                                                                                                                                                                                                                                                                                                                                                                                                                                                                                                                                                                                                                                                                                                                                                                                                                                                                                                                                                                                                                                                                                                                                                                                                                                                                                                                                                                                                                                                                                                                                                                                                                                                                                                                                                                                                                                                                                                                                                                  Please warranty my joy-con Left-side doesn’t charge! New email is I bought it 2/12 2018!! Only use couple times! Sent me warranty one so I can sent you back the broken one!!!!!"
      ]
     },
     "execution_count": 123,
     "metadata": {
      "tags": []
     },
     "output_type": "execute_result"
    }
   ],
   "source": [
    "df[df[\"no_redundant\"] != df[\"no_html\"]][[\"no_html\", \"no_redundant\"]]"
   ]
  },
  {
   "cell_type": "markdown",
   "metadata": {
    "id": "sI9V7TQeN824"
   },
   "source": [
    "## Step 3: Remove emoji"
   ]
  },
  {
   "cell_type": "code",
   "execution_count": 126,
   "metadata": {
    "id": "_L1tv3szN6VI"
   },
   "outputs": [],
   "source": [
    "def remove_emoji(text):\n",
    "    return emoji.get_emoji_regexp().sub(r\" \", text)"
   ]
  },
  {
   "cell_type": "code",
   "execution_count": 132,
   "metadata": {
    "id": "KnXDE1nROiTS"
   },
   "outputs": [],
   "source": [
    "df[\"no_emoji\"] = df[\"no_redundant\"].apply(remove_emoji)"
   ]
  },
  {
   "cell_type": "code",
   "execution_count": 133,
   "metadata": {
    "colab": {
     "base_uri": "https://localhost:8080/",
     "height": 1000
    },
    "id": "gWirSy2wOrab",
    "outputId": "1db65b23-292c-463d-b3d9-23a16558eb46"
   },
   "outputs": [
    {
     "data": {
      "text/html": [
       "<div>\n",
       "<style scoped>\n",
       "    .dataframe tbody tr th:only-of-type {\n",
       "        vertical-align: middle;\n",
       "    }\n",
       "\n",
       "    .dataframe tbody tr th {\n",
       "        vertical-align: top;\n",
       "    }\n",
       "\n",
       "    .dataframe thead th {\n",
       "        text-align: right;\n",
       "    }\n",
       "</style>\n",
       "<table border=\"1\" class=\"dataframe\">\n",
       "  <thead>\n",
       "    <tr style=\"text-align: right;\">\n",
       "      <th></th>\n",
       "      <th>no_redundant</th>\n",
       "      <th>no_emoji</th>\n",
       "    </tr>\n",
       "  </thead>\n",
       "  <tbody>\n",
       "    <tr>\n",
       "      <th>19</th>\n",
       "      <td>I have been using my renewed computer 👩🏾‍💻 for about 2 weeks now and I am so glad I bought it from “All-out-Apple” the best computer seller on Amazon! I received the 2018 MacBook Air i5 quad core 256gb and the actual specs matched the description! I use it for college for my Zoom classes and the virtual background works!! I upgraded from my 2013 MacBook Air and this one is a lot faster and a much better battery life. It also came with a brand new usb-c original Apple charger for this Mac. This computer is like-new with no scratches at all and I was able to transfer all my old data to this new computer. I would recommend this computer for students and teachers too.</td>\n",
       "      <td>I have been using my renewed computer   for about 2 weeks now and I am so glad I bought it from “All-out-Apple” the best computer seller on Amazon! I received the 2018 MacBook Air i5 quad core 256gb and the actual specs matched the description! I use it for college for my Zoom classes and the virtual background works!! I upgraded from my 2013 MacBook Air and this one is a lot faster and a much better battery life. It also came with a brand new usb-c original Apple charger for this Mac. This computer is like-new with no scratches at all and I was able to transfer all my old data to this new computer. I would recommend this computer for students and teachers too.</td>\n",
       "    </tr>\n",
       "    <tr>\n",
       "      <th>239</th>\n",
       "      <td>Great purchase! Worth every penny. And the color is gorgeous 😍</td>\n",
       "      <td>Great purchase! Worth every penny. And the color is gorgeous</td>\n",
       "    </tr>\n",
       "    <tr>\n",
       "      <th>363</th>\n",
       "      <td>I spent a lot of time debating on purchasing brand new or renewed off amazon. I ended up going the cheaper route and went with the amazon renewed one. The product came in a plain brown box, but was wrapped like it was brand new. There are no marks or dents on mine, and it acts like a brand new computer!! I am obsessed with it!!! Best purchase I’ve made all year. Seriously, great bang for your buck! 😁</td>\n",
       "      <td>I spent a lot of time debating on purchasing brand new or renewed off amazon. I ended up going the cheaper route and went with the amazon renewed one. The product came in a plain brown box, but was wrapped like it was brand new. There are no marks or dents on mine, and it acts like a brand new computer!! I am obsessed with it!!! Best purchase I’ve made all year. Seriously, great bang for your buck!</td>\n",
       "    </tr>\n",
       "    <tr>\n",
       "      <th>475</th>\n",
       "      <td>I'm happy with product. Is apple 🍎 there's not much to say. there product are great. I'm a prime member. I received it 2 days later. My daughter needed for school on line</td>\n",
       "      <td>I'm happy with product. Is apple   there's not much to say. there product are great. I'm a prime member. I received it 2 days later. My daughter needed for school on line</td>\n",
       "    </tr>\n",
       "    <tr>\n",
       "      <th>527</th>\n",
       "      <td>I’m in love with my new Mac book very easy to use and set up. I Definitely recommend it great purchase that I did 👌😁</td>\n",
       "      <td>I’m in love with my new Mac book very easy to use and set up. I Definitely recommend it great purchase that I did</td>\n",
       "    </tr>\n",
       "    <tr>\n",
       "      <th>...</th>\n",
       "      <td>...</td>\n",
       "      <td>...</td>\n",
       "    </tr>\n",
       "    <tr>\n",
       "      <th>11874</th>\n",
       "      <td>Arrived broken, you can see in the one pic how it came, when my husband took it out of the plastic he said this isn’t right. The black part was completely unattached to the red main part. Upon inspection, because my husband can fix anything...it looks like someone just ripped it off the main part of the controller. It’s missing one screw and the other was ripped out with the red con plastic still on it. It’s beyond repair 😒. How did it pass inspection?!</td>\n",
       "      <td>Arrived broken, you can see in the one pic how it came, when my husband took it out of the plastic he said this isn’t right. The black part was completely unattached to the red main part. Upon inspection, because my husband can fix anything...it looks like someone just ripped it off the main part of the controller. It’s missing one screw and the other was ripped out with the red con plastic still on it. It’s beyond repair  . How did it pass inspection?!</td>\n",
       "    </tr>\n",
       "    <tr>\n",
       "      <th>11894</th>\n",
       "      <td>Had original gray Joy-Cons when I got my Switch and had the dreaded analog drift. It was time I purchased official Nintendo (pricey) Joy-Cons...and always thought this Neon Purple/Orange was eye-catching and lemme tell you...once you see them in person, they're beautiful.All the buttons feel a notch up more stable and comfortable to the input. Drift is no longer an issue and I was super satisfied with these Joy-Cons. My Switch never looked better. 😉</td>\n",
       "      <td>Had original gray Joy-Cons when I got my Switch and had the dreaded analog drift. It was time I purchased official Nintendo (pricey) Joy-Cons...and always thought this Neon Purple/Orange was eye-catching and lemme tell you...once you see them in person, they're beautiful.All the buttons feel a notch up more stable and comfortable to the input. Drift is no longer an issue and I was super satisfied with these Joy-Cons. My Switch never looked better.</td>\n",
       "    </tr>\n",
       "    <tr>\n",
       "      <th>11934</th>\n",
       "      <td>Only giving it one star because they worked great for about 2 days then the right controller started doing exactly the same thing our left controller did. We bought these to replace our original ones but they’re the same 😒</td>\n",
       "      <td>Only giving it one star because they worked great for about 2 days then the right controller started doing exactly the same thing our left controller did. We bought these to replace our original ones but they’re the same</td>\n",
       "    </tr>\n",
       "    <tr>\n",
       "      <th>11942</th>\n",
       "      <td>I surprised my nephew for 10th birthday andHe loves it!🙂</td>\n",
       "      <td>I surprised my nephew for 10th birthday andHe loves it!</td>\n",
       "    </tr>\n",
       "    <tr>\n",
       "      <th>12134</th>\n",
       "      <td>I love these Joy Cons I purchased for the purpose of replacing my red and blue neon pair because the left joy con's analog stick was broken. My biggest problem/complaint is that the left Joy Con battery dies way too quickly. It's almost been a month since I had these joy cons and I've never had to charge the left one, only the right one. I don't understand it 🤷🤷</td>\n",
       "      <td>I love these Joy Cons I purchased for the purpose of replacing my red and blue neon pair because the left joy con's analog stick was broken. My biggest problem/complaint is that the left Joy Con battery dies way too quickly. It's almost been a month since I had these joy cons and I've never had to charge the left one, only the right one. I don't understand it</td>\n",
       "    </tr>\n",
       "  </tbody>\n",
       "</table>\n",
       "<p>217 rows × 2 columns</p>\n",
       "</div>"
      ],
      "text/plain": [
       "                                                                                                                                                                                                                                                                                                                                                                                                                                                                                                                                                                                                                                                                                           no_redundant                                                                                                                                                                                                                                                                                                                                                                                                                                                                                                                                                                                                                                                                                       no_emoji\n",
       "19     I have been using my renewed computer 👩🏾‍💻 for about 2 weeks now and I am so glad I bought it from “All-out-Apple” the best computer seller on Amazon! I received the 2018 MacBook Air i5 quad core 256gb and the actual specs matched the description! I use it for college for my Zoom classes and the virtual background works!! I upgraded from my 2013 MacBook Air and this one is a lot faster and a much better battery life. It also came with a brand new usb-c original Apple charger for this Mac. This computer is like-new with no scratches at all and I was able to transfer all my old data to this new computer. I would recommend this computer for students and teachers too.  I have been using my renewed computer   for about 2 weeks now and I am so glad I bought it from “All-out-Apple” the best computer seller on Amazon! I received the 2018 MacBook Air i5 quad core 256gb and the actual specs matched the description! I use it for college for my Zoom classes and the virtual background works!! I upgraded from my 2013 MacBook Air and this one is a lot faster and a much better battery life. It also came with a brand new usb-c original Apple charger for this Mac. This computer is like-new with no scratches at all and I was able to transfer all my old data to this new computer. I would recommend this computer for students and teachers too.\n",
       "239                                                                                                                                                                                                                                                                                                                                                                                                                                                                                                                                                                                                                                      Great purchase! Worth every penny. And the color is gorgeous 😍                                                                                                                                                                                                                                                                                                                                                                                                                                                                                                                                                                                                                                 Great purchase! Worth every penny. And the color is gorgeous  \n",
       "363                                                                                                                                                                                                                                                                                 I spent a lot of time debating on purchasing brand new or renewed off amazon. I ended up going the cheaper route and went with the amazon renewed one. The product came in a plain brown box, but was wrapped like it was brand new. There are no marks or dents on mine, and it acts like a brand new computer!! I am obsessed with it!!! Best purchase I’ve made all year. Seriously, great bang for your buck! 😁                                                                                                                                                                                                                                                                            I spent a lot of time debating on purchasing brand new or renewed off amazon. I ended up going the cheaper route and went with the amazon renewed one. The product came in a plain brown box, but was wrapped like it was brand new. There are no marks or dents on mine, and it acts like a brand new computer!! I am obsessed with it!!! Best purchase I’ve made all year. Seriously, great bang for your buck!  \n",
       "475                                                                                                                                                                                                                                                                                                                                                                                                                                                                                                                          I'm happy with product. Is apple 🍎 there's not much to say. there product are great. I'm a prime member. I received it 2 days later. My daughter needed for school on line                                                                                                                                                                                                                                                                                                                                                                                                                                                                                                                     I'm happy with product. Is apple   there's not much to say. there product are great. I'm a prime member. I received it 2 days later. My daughter needed for school on line\n",
       "527                                                                                                                                                                                                                                                                                                                                                                                                                                                                                                                                                                                I’m in love with my new Mac book very easy to use and set up. I Definitely recommend it great purchase that I did 👌😁                                                                                                                                                                                                                                                                                                                                                                                                                                                                                                                                                                           I’m in love with my new Mac book very easy to use and set up. I Definitely recommend it great purchase that I did   \n",
       "...                                                                                                                                                                                                                                                                                                                                                                                                                                                                                                                                                                                                                                                                                                 ...                                                                                                                                                                                                                                                                                                                                                                                                                                                                                                                                                                                                                                                                                            ...\n",
       "11874                                                                                                                                                                                                                         Arrived broken, you can see in the one pic how it came, when my husband took it out of the plastic he said this isn’t right. The black part was completely unattached to the red main part. Upon inspection, because my husband can fix anything...it looks like someone just ripped it off the main part of the controller. It’s missing one screw and the other was ripped out with the red con plastic still on it. It’s beyond repair 😒. How did it pass inspection?!                                                                                                                                                                                                                      Arrived broken, you can see in the one pic how it came, when my husband took it out of the plastic he said this isn’t right. The black part was completely unattached to the red main part. Upon inspection, because my husband can fix anything...it looks like someone just ripped it off the main part of the controller. It’s missing one screw and the other was ripped out with the red con plastic still on it. It’s beyond repair  . How did it pass inspection?!\n",
       "11894                                                                                                                                                                                                                             Had original gray Joy-Cons when I got my Switch and had the dreaded analog drift. It was time I purchased official Nintendo (pricey) Joy-Cons...and always thought this Neon Purple/Orange was eye-catching and lemme tell you...once you see them in person, they're beautiful.All the buttons feel a notch up more stable and comfortable to the input. Drift is no longer an issue and I was super satisfied with these Joy-Cons. My Switch never looked better. 😉                                                                                                                                                                                                                          Had original gray Joy-Cons when I got my Switch and had the dreaded analog drift. It was time I purchased official Nintendo (pricey) Joy-Cons...and always thought this Neon Purple/Orange was eye-catching and lemme tell you...once you see them in person, they're beautiful.All the buttons feel a notch up more stable and comfortable to the input. Drift is no longer an issue and I was super satisfied with these Joy-Cons. My Switch never looked better.  \n",
       "11934                                                                                                                                                                                                                                                                                                                                                                                                                                                                    Only giving it one star because they worked great for about 2 days then the right controller started doing exactly the same thing our left controller did. We bought these to replace our original ones but they’re the same 😒                                                                                                                                                                                                                                                                                                                                                                                                                                                                 Only giving it one star because they worked great for about 2 days then the right controller started doing exactly the same thing our left controller did. We bought these to replace our original ones but they’re the same  \n",
       "11942                                                                                                                                                                                                                                                                                                                                                                                                                                                                                                                                                                                                                                          I surprised my nephew for 10th birthday andHe loves it!🙂                                                                                                                                                                                                                                                                                                                                                                                                                                                                                                                                                                                                                                       I surprised my nephew for 10th birthday andHe loves it! \n",
       "12134                                                                                                                                                                                                                                                                                                                      I love these Joy Cons I purchased for the purpose of replacing my red and blue neon pair because the left joy con's analog stick was broken. My biggest problem/complaint is that the left Joy Con battery dies way too quickly. It's almost been a month since I had these joy cons and I've never had to charge the left one, only the right one. I don't understand it 🤷🤷                                                                                                                                                                                                                                                                                                                   I love these Joy Cons I purchased for the purpose of replacing my red and blue neon pair because the left joy con's analog stick was broken. My biggest problem/complaint is that the left Joy Con battery dies way too quickly. It's almost been a month since I had these joy cons and I've never had to charge the left one, only the right one. I don't understand it   \n",
       "\n",
       "[217 rows x 2 columns]"
      ]
     },
     "execution_count": 133,
     "metadata": {
      "tags": []
     },
     "output_type": "execute_result"
    }
   ],
   "source": [
    "df[df[\"no_redundant\"] != df[\"no_emoji\"]][[\"no_redundant\", \"no_emoji\"]]"
   ]
  },
  {
   "cell_type": "markdown",
   "metadata": {
    "id": "Xcrk2HD5O83L"
   },
   "source": [
    "All the emojies detected are removed"
   ]
  },
  {
   "cell_type": "markdown",
   "metadata": {
    "id": "KBqg4Nz8ZIjr"
   },
   "source": [
    "## Step 4: Expand Contractions"
   ]
  },
  {
   "cell_type": "code",
   "execution_count": 153,
   "metadata": {
    "id": "fqads_o6eT0F"
   },
   "outputs": [],
   "source": [
    "def expand_contractions(text):\n",
    "    \"\"\"expand shortened words, e.g. don't to do not\"\"\"\n",
    "    text = contractions.fix(text)\n",
    "    return text"
   ]
  },
  {
   "cell_type": "code",
   "execution_count": 154,
   "metadata": {
    "id": "v8e_KSXad92h"
   },
   "outputs": [],
   "source": [
    "df[\"expand_contractions\"] = df[\"no_emoji\"].apply(expand_contractions)"
   ]
  },
  {
   "cell_type": "code",
   "execution_count": 160,
   "metadata": {
    "colab": {
     "base_uri": "https://localhost:8080/",
     "height": 1000
    },
    "id": "5_j947yneWZB",
    "outputId": "00eff7d2-b1e8-45fe-b405-8263ed68adc3"
   },
   "outputs": [
    {
     "data": {
      "text/html": [
       "<div>\n",
       "<style scoped>\n",
       "    .dataframe tbody tr th:only-of-type {\n",
       "        vertical-align: middle;\n",
       "    }\n",
       "\n",
       "    .dataframe tbody tr th {\n",
       "        vertical-align: top;\n",
       "    }\n",
       "\n",
       "    .dataframe thead th {\n",
       "        text-align: right;\n",
       "    }\n",
       "</style>\n",
       "<table border=\"1\" class=\"dataframe\">\n",
       "  <thead>\n",
       "    <tr style=\"text-align: right;\">\n",
       "      <th></th>\n",
       "      <th>no_emoji</th>\n",
       "      <th>expand_contractions</th>\n",
       "    </tr>\n",
       "  </thead>\n",
       "  <tbody>\n",
       "    <tr>\n",
       "      <th>1</th>\n",
       "      <td>Best computer I’ve ever own!! This computer forces me to be productive. I used to wait around for this spinning wheel to stop, and now I can do everything so quickly that I think I almost miss the waiting part. Ha ha. I don’t have time to get coffee anymore. All my apps run smoothly, including adobe illustrator and Photoshop, and they work perfectly. Almost too perfect. I really love this computer. I hope it last me for many years to come.</td>\n",
       "      <td>Best computer I have ever own!! This computer forces me to be productive. I used to wait around for this spinning wheel to stop, and now I can do everything so quickly that I think I almost miss the waiting part. Ha ha. I do not have time to get coffee anymore. All my apps run smoothly, including adobe illustrator and Photoshop, and they work perfectly. Almost too perfect. I really love this computer. I hope it last me for many years to come.</td>\n",
       "    </tr>\n",
       "    <tr>\n",
       "      <th>4</th>\n",
       "      <td>I left my brand new Macbook pro in my car for an hour and now the screen looks like a Picasso painting. Neither Amazon nor Macintosh will pay for repairs, even though I bought it only two months ago, so I'm out $700 to repair my brand new computer. I would heavily advise against buying one of these, because if 80 degree heat is enough to damage the screen, then they're essentially useless if your air conditioner goes out and you will be left with a repair bill that is half the value of the computer.</td>\n",
       "      <td>I left my brand new Macbook pro in my car for an hour and now the screen looks like a Picasso painting. Neither Amazon nor Macintosh will pay for repairs, even though I bought it only two months ago, so I am out $700 to repair my brand new computer. I would heavily advise against buying one of these, because if 80 degree heat is enough to damage the screen, then they are essentially useless if your air conditioner goes out and you will be left with a repair bill that is half the value of the computer.</td>\n",
       "    </tr>\n",
       "    <tr>\n",
       "      <th>8</th>\n",
       "      <td>Product came in excellent condition. Battery life isn’t as long as I would like it to be. Product overall works excellent.</td>\n",
       "      <td>Product came in excellent condition. Battery life is not as long as I would like it to be. Product overall works excellent.</td>\n",
       "    </tr>\n",
       "    <tr>\n",
       "      <th>9</th>\n",
       "      <td>I don’t what to think I bought 2017 16gb 256 ssd but I received a refurbished 2019 8g 256 perfectly packaged, I can’t put apple care I already call for that but im not sure to keep it because I want a computer of 16of ram but this one is 2019, im gonna give the chance to see how it works, And it cost me the same price of a refurbished 2019 Of apple but those ones you can put apple care</td>\n",
       "      <td>I do not what to think I bought 2017 16gb 256 ssd but I received a refurbished 2019 8g 256 perfectly packaged, I cannot put apple care I already call for that but I am not sure to keep it because I want a computer of 16of ram but this one is 2019, I am going to give the chance to see how it works, And it cost me the same price of a refurbished 2019 Of apple but those ones you can put apple care</td>\n",
       "    </tr>\n",
       "    <tr>\n",
       "      <th>15</th>\n",
       "      <td>KEYBOARD FAILED! I ordered this in November and started using it in January as my main “home” laptop (minimal use). The keyboard stopped working properly in June. Some letters don’t regularly work. Sometimes - but not always- the space bar leaves two spaces instead of one. I wish I spent the money to get a NEW laptop and not refurbished. This was my first refurbished purchase, which I now see is a mistake. I live in a remote area, so fixing a keyboard may outweigh the cost savings. The battery works fine. Regrets here.</td>\n",
       "      <td>KEYBOARD FAILED! I ordered this in November and started using it in January as my main “home” laptop (minimal use). The keyboard stopped working properly in June. Some letters do not regularly work. Sometimes - but not always- the space bar leaves two spaces instead of one. I wish I spent the money to get a NEW laptop and not refurbished. This was my first refurbished purchase, which I now see is a mistake. I live in a remote area, so fixing a keyboard may outweigh the cost savings. The battery works fine. Regrets here.</td>\n",
       "    </tr>\n",
       "    <tr>\n",
       "      <th>...</th>\n",
       "      <td>...</td>\n",
       "      <td>...</td>\n",
       "    </tr>\n",
       "    <tr>\n",
       "      <th>12413</th>\n",
       "      <td>We must all understand the expectations of purchasing used products. I bought these joy-cons used directly by Amazon as \"very good condition\", so I figured I would take the chance. With how great amazon is delivering quality for a great price, their reputation made me feel at ease for buying used directly from them.Instant regret when I opened the box. The right joy-con has severe drifting issue with the joystick. And there are many bite marks on both joy-cons. No doubt adding to the drifting. I did what I could to clean the base of the joystick without opening either device. But even then, major involuntary movements when using it. I have to be sure I recenter the stick after every movement to reduce drift.Might not be clear enough, but in the pictures I attached you might be able to make out the various bite marks and the damaged joystick base. Nintendo is very aware that their older joy-con controllers are prone to this drifting problem, and thus offer free repairs or replacements well past their warranty. However, that whole repair process with Nintendo takes around 3 weeks. I don't have that time, so instead I returned these to Amazon. I am hopeful that Amazon won't put these back up for sale as someone else will be disappointed :(Save yourselves the headache and invest an extra $10 for new joy-cons.</td>\n",
       "      <td>We must all understand the expectations of purchasing used products. I bought these joy-cons used directly by Amazon as \"very good condition\", so I figured I would take the chance. With how great amazon is delivering quality for a great price, their reputation made me feel at ease for buying used directly from them.Instant regret when I opened the box. The right joy-con has severe drifting issue with the joystick. And there are many bite marks on both joy-cons. No doubt adding to the drifting. I did what I could to clean the base of the joystick without opening either device. But even then, major involuntary movements when using it. I have to be sure I recenter the stick after every movement to reduce drift.Might not be clear enough, but in the pictures I attached you might be able to make out the various bite marks and the damaged joystick base. Nintendo is very aware that their older joy-con controllers are prone to this drifting problem, and thus offer free repairs or replacements well past their warranty. However, that whole repair process with Nintendo takes around 3 weeks. I do not have that time, so instead I returned these to Amazon. I am hopeful that Amazon will not put these back up for sale as someone else will be disappointed :(Save yourselves the headache and invest an extra $10 for new joy-cons.</td>\n",
       "    </tr>\n",
       "    <tr>\n",
       "      <th>12415</th>\n",
       "      <td>This is not so much a product review as a compliment, so here goes...Just wanted to give the Amazon delivery service a “Thank you”. I’ve had my Switch for almost 2 yrs and have logged many happy, sometimes frustrating hours on it. So last week when the Joy-Cons started gradually sticking I knew they needed replacing. The R stick wasn’t actually “physically” sticking to the right, but was sending the message to the game to move right when I wanted to stand my ground. Don’t know if any of you have ever tried fighting Ice Lizalfos on a mountain top while Link keeps trying to creep off the cliff, but I would not recommend it. I’d already searched to replace them, but due to the COVID pandemic Switch Joy-Cons are near impossible to get in regular grey here in Sacramento. EVERY store was wiped out. Even GameStop, Walmart, Best Buy and Fry’s couldn’t provide via store OR online. Amazon said they could deliver, but not until August 1st... it was the best offer I could get. So when that beautiful little brown box showed up yesterday afternoon, July 28th, while I was actually playing Zelda BOTW no less, the feelings of relief that swept over me can only be understated. And just in time too. Yesterday, only an hour or so before delivery, the L stick was starting to stick to the right also. Whew!.... Thanks again, Amazon for that little extra “sumthin’” you always seem to provide.P.S. Oh, and the controllers were delivered, packaged, and function perfectly. The actual Nintendo Joy-Con box was untampered and had safety seals in tact - something I always look for, especially with electronics (and food, of course).</td>\n",
       "      <td>This is not so much a product review as a compliment, so here goes...Just wanted to give the Amazon delivery service a “Thank you”. I have had my Switch for almost 2 yrs and have logged many happy, sometimes frustrating hours on it. So last week when the Joy-Cons started gradually sticking I knew they needed replacing. The R stick was not actually “physically” sticking to the right, but was sending the message to the game to move right when I wanted to stand my ground. do not know if any of you have ever tried fighting Ice Lizalfos on a mountain top while Link keeps trying to creep off the cliff, but I would not recommend it. I would already searched to replace them, but due to the COVID pandemic Switch Joy-Cons are near impossible to get in regular grey here in Sacramento. EVERY store was wiped out. Even GameStop, Walmart, Best Buy and Fry’s could not provide via store OR online. Amazon said they could deliver, but not until August 1st... it was the best offer I could get. So when that beautiful little brown box showed up yesterday afternoon, July 28th, while I was actually playing Zelda BOTW no less, the feelings of relief that swept over me can only be understated. And just in time too. Yesterday, only an hour or so before delivery, the L stick was starting to stick to the right also. Whew!.... Thanks again, Amazon for that little extra “sumthin’” you always seem to provide.P.S. Oh, and the controllers were delivered, packaged, and function perfectly. The actual Nintendo Joy-Con box was untampered and had safety seals in tact - something I always look for, especially with electronics (and food, of course).</td>\n",
       "    </tr>\n",
       "    <tr>\n",
       "      <th>12416</th>\n",
       "      <td>I desperately wanted to love this product. I'm a huge Nintendo fan &amp; Switch advocate. I love that they have HD rumble, an NFC reader, &amp; pretty responsive gyro controls. I even love that they can be used as individual controllers for many games. What I don't love is the horrible drift all 6 pairs I've purchased has eventually gotten (4 different pairs purchased, a blue pair, 2 yellow pair, &amp; the green/pink pair, plus 2 more pairs from purchasing systems). Before anyone wants to jump down my throat saying I should've gone to Nintendo, I actually have done that more than once. Nintendo did not charge me anything to send them for repairs because each time they claimed nothing was wrong with them &amp; the very same Joy-Cons would be returned to me. Lo &amp; behold, these Joy-Cons that were returned to me still drifted. Other than that, I've heard people say the size of these controllers aren't bothersome or small. I've also heard people say they're much too small, &amp; I certainly fall somewhere in the latter category. Holding &amp; playing my Switch in handheld is always a struggle, even for a short amount of time. I don't know if having sorta big hands was a factor but after a few months, most of my Joy-Cons also began having issues remaining securely on the side rails. This is especially true for my original Cons, they would frequently have to be clicked back into place for handheld mode. Overall I don't mind how the Joy-Cons work at all. But either I'm an incredibly unlucky sob or there is something wrong with how the control sticks are designed or manufactured.</td>\n",
       "      <td>I desperately wanted to love this product. I am a huge Nintendo fan &amp; Switch advocate. I love that they have HD rumble, an NFC reader, &amp; pretty responsive gyro controls. I even love that they can be used as individual controllers for many games. What I do not love is the horrible drift all 6 pairs I have purchased has eventually gotten (4 different pairs purchased, a blue pair, 2 yellow pair, &amp; the green/pink pair, plus 2 more pairs from purchasing systems). Before anyone wants to jump down my throat saying I should have gone to Nintendo, I actually have done that more than once. Nintendo did not charge me anything to send them for repairs because each time they claimed nothing was wrong with them &amp; the very same Joy-Cons would be returned to me. Lo &amp; behold, these Joy-Cons that were returned to me still drifted. Other than that, I have heard people say the size of these controllers are not bothersome or small. I have also heard people say they are much too small, &amp; I certainly fall somewhere in the latter category. Holding &amp; playing my Switch in handheld is always a struggle, even for a short amount of time. I do not know if having sorta big hands was a factor but after a few months, most of my Joy-Cons also began having issues remaining securely on the side rails. This is especially true for my original Cons, they would frequently have to be clicked back into place for handheld mode. Overall I do not mind how the Joy-Cons work at all. But either I am an incredibly unlucky sob or there is something wrong with how the control sticks are designed or manufactured.</td>\n",
       "    </tr>\n",
       "    <tr>\n",
       "      <th>12417</th>\n",
       "      <td>Bought these controllers because after a year the ones that came with the switch started to malfunction. One of the analog controllers would drift making gameplay extremely hard. It would make scrolling through menus damn near impossible. I did buy the replacement parts and fixed the remote first (because that is the much cheaper option) but within two months it started happening again so I decided to bite the bullet and replace them. Wouldn’t you know the replacements came and didn’t even last two weeks with very light use! The analog broke and the controller started drifting again. I looked it up and it turns out that this is a common problem with these remotes. I’m disappointed with nintendo. You pay a lot for these systems and the accessories I expect them to last at least a few years. I will say that Amazon was fantastic and replaced them right away. The replacement should be here today. I’m curious to see how long this one lasts.</td>\n",
       "      <td>Bought these controllers because after a year the ones that came with the switch started to malfunction. One of the analog controllers would drift making gameplay extremely hard. It would make scrolling through menus damn near impossible. I did buy the replacement parts and fixed the remote first (because that is the much cheaper option) but within two months it started happening again so I decided to bite the bullet and replace them. would not you know the replacements came and did not even last two weeks with very light use! The analog broke and the controller started drifting again. I looked it up and it turns out that this is a common problem with these remotes. I am disappointed with nintendo. You pay a lot for these systems and the accessories I expect them to last at least a few years. I will say that Amazon was fantastic and replaced them right away. The replacement should be here today. I am curious to see how long this one lasts.</td>\n",
       "    </tr>\n",
       "    <tr>\n",
       "      <th>12418</th>\n",
       "      <td>Edit: 2yrs later. Today is april 24th 2021 and let me say i am still disappointed. These worked but were the first to start drifting after about i dunno 1 month not bad but still upsetting for full price \"new\" joycons... both drift and still do till this day simply bc i have not sent them out to be fixed.1. Not new joy cons2. colors were swaped (didn’t even match what the actual box stated; (L) red (R) Blue)3. They are USEDso to start off the box of the controllers itself seemed to be slightly bent as if something heavier was placed on top. The first thing that i noticed was the colors were switched than advertised on the box (i dont mind that at all).Then i decided to check the controllers individually; both have black scratch marks as if being constantly put on and taken off of the console. With that said it already tells me they were used; now i did not pay ‘full’ price for something to be used, i initially didn’t buy them used. I could see small chips on the paint where they slide on and off of the console.Now they work, yes they seemed to work when i put them on the console; however, i haven’t actually played using them yet.I gave this 3 stars mainly for the fact that technically i didn’t get what i paid for. All in all i dont mind, as long as they work but it is upsetting to not get a good presentation.</td>\n",
       "      <td>Edit: 2yrs later. Today is april 24th 2021 and let me say i am still disappointed. These worked but were the first to start drifting after about i dunno 1 month not bad but still upsetting for full price \"new\" joycons... both drift and still do till this day simply bc i have not sent them out to be fixed.1. Not new joy cons2. colors were swaped (did not even match what the actual box stated; (L) red (R) Blue)3. They are USEDso to start off the box of the controllers itself seemed to be slightly bent as if something heavier was placed on top. The first thing that i noticed was the colors were switched than advertised on the box (i do not mind that at all).Then i decided to check the controllers individually; both have black scratch marks as if being constantly put on and taken off of the console. With that said it already tells me they were used; now i did not pay ‘full’ price for something to be used, i initially did not buy them used. I could see small chips on the paint where they slide on and off of the console.Now they work, yes they seemed to work when i put them on the console; however, i have not actually played using them yet.I gave this 3 stars mainly for the fact that technically i did not get what i paid for. All in all i do not mind, as long as they work but it is upsetting to not get a good presentation.</td>\n",
       "    </tr>\n",
       "  </tbody>\n",
       "</table>\n",
       "<p>3400 rows × 2 columns</p>\n",
       "</div>"
      ],
      "text/plain": [
       "                                                                                                                                                                                                                                                                                                                                                                                                                                                                                                                                                                                                                                                                                                                                                                                                                                                                                                                                                                                                                                                                                                                                                                                                                                                                                                                                                                                                                                                                                                                                                                                                                                                                                          no_emoji                                                                                                                                                                                                                                                                                                                                                                                                                                                                                                                                                                                                                                                                                                                                                                                                                                                                                                                                                                                                                                                                                                                                                                                                                                                                                                                                                                                                                                                                                                                                                                                                                                                                                   expand_contractions\n",
       "1                                                                                                                                                                                                                                                                                                                                                                                                                                                                                                                                                                                                                                                                                                                                                                                                                                                                                                                                                                                                                                                                                                                                                                                                                                      Best computer I’ve ever own!! This computer forces me to be productive. I used to wait around for this spinning wheel to stop, and now I can do everything so quickly that I think I almost miss the waiting part. Ha ha. I don’t have time to get coffee anymore. All my apps run smoothly, including adobe illustrator and Photoshop, and they work perfectly. Almost too perfect. I really love this computer. I hope it last me for many years to come.                                                                                                                                                                                                                                                                                                                                                                                                                                                                                                                                                                                                                                                                                                                                                                                                                                                                                                                                                                                                                                                                                                                                                                                                                                        Best computer I have ever own!! This computer forces me to be productive. I used to wait around for this spinning wheel to stop, and now I can do everything so quickly that I think I almost miss the waiting part. Ha ha. I do not have time to get coffee anymore. All my apps run smoothly, including adobe illustrator and Photoshop, and they work perfectly. Almost too perfect. I really love this computer. I hope it last me for many years to come.\n",
       "4                                                                                                                                                                                                                                                                                                                                                                                                                                                                                                                                                                                                                                                                                                                                                                                                                                                                                                                                                                                                                                                                                                                                                                         I left my brand new Macbook pro in my car for an hour and now the screen looks like a Picasso painting. Neither Amazon nor Macintosh will pay for repairs, even though I bought it only two months ago, so I'm out $700 to repair my brand new computer. I would heavily advise against buying one of these, because if 80 degree heat is enough to damage the screen, then they're essentially useless if your air conditioner goes out and you will be left with a repair bill that is half the value of the computer.                                                                                                                                                                                                                                                                                                                                                                                                                                                                                                                                                                                                                                                                                                                                                                                                                                                                                                                                                                                                                                                                                                                                                                            I left my brand new Macbook pro in my car for an hour and now the screen looks like a Picasso painting. Neither Amazon nor Macintosh will pay for repairs, even though I bought it only two months ago, so I am out $700 to repair my brand new computer. I would heavily advise against buying one of these, because if 80 degree heat is enough to damage the screen, then they are essentially useless if your air conditioner goes out and you will be left with a repair bill that is half the value of the computer.\n",
       "8                                                                                                                                                                                                                                                                                                                                                                                                                                                                                                                                                                                                                                                                                                                                                                                                                                                                                                                                                                                                                                                                                                                                                                                                                                                                                                                                                                                                                                                                                                                                                                       Product came in excellent condition. Battery life isn’t as long as I would like it to be. Product overall works excellent.                                                                                                                                                                                                                                                                                                                                                                                                                                                                                                                                                                                                                                                                                                                                                                                                                                                                                                                                                                                                                                                                                                                                                                                                                                                                                                                                                                                                                                                                                                                                                                           Product came in excellent condition. Battery life is not as long as I would like it to be. Product overall works excellent.\n",
       "9                                                                                                                                                                                                                                                                                                                                                                                                                                                                                                                                                                                                                                                                                                                                                                                                                                                                                                                                                                                                                                                                                                                                                                                                                                                                                             I don’t what to think I bought 2017 16gb 256 ssd but I received a refurbished 2019 8g 256 perfectly packaged, I can’t put apple care I already call for that but im not sure to keep it because I want a computer of 16of ram but this one is 2019, im gonna give the chance to see how it works, And it cost me the same price of a refurbished 2019 Of apple but those ones you can put apple care                                                                                                                                                                                                                                                                                                                                                                                                                                                                                                                                                                                                                                                                                                                                                                                                                                                                                                                                                                                                                                                                                                                                                                                                                                                                                         I do not what to think I bought 2017 16gb 256 ssd but I received a refurbished 2019 8g 256 perfectly packaged, I cannot put apple care I already call for that but I am not sure to keep it because I want a computer of 16of ram but this one is 2019, I am going to give the chance to see how it works, And it cost me the same price of a refurbished 2019 Of apple but those ones you can put apple care\n",
       "15                                                                                                                                                                                                                                                                                                                                                                                                                                                                                                                                                                                                                                                                                                                                                                                                                                                                                                                                                                                                                                                                                                                                                    KEYBOARD FAILED! I ordered this in November and started using it in January as my main “home” laptop (minimal use). The keyboard stopped working properly in June. Some letters don’t regularly work. Sometimes - but not always- the space bar leaves two spaces instead of one. I wish I spent the money to get a NEW laptop and not refurbished. This was my first refurbished purchase, which I now see is a mistake. I live in a remote area, so fixing a keyboard may outweigh the cost savings. The battery works fine. Regrets here.                                                                                                                                                                                                                                                                                                                                                                                                                                                                                                                                                                                                                                                                                                                                                                                                                                                                                                                                                                                                                                                                                                                                                         KEYBOARD FAILED! I ordered this in November and started using it in January as my main “home” laptop (minimal use). The keyboard stopped working properly in June. Some letters do not regularly work. Sometimes - but not always- the space bar leaves two spaces instead of one. I wish I spent the money to get a NEW laptop and not refurbished. This was my first refurbished purchase, which I now see is a mistake. I live in a remote area, so fixing a keyboard may outweigh the cost savings. The battery works fine. Regrets here.\n",
       "...                                                                                                                                                                                                                                                                                                                                                                                                                                                                                                                                                                                                                                                                                                                                                                                                                                                                                                                                                                                                                                                                                                                                                                                                                                                                                                                                                                                                                                                                                                                                                                                                                                                                                            ...                                                                                                                                                                                                                                                                                                                                                                                                                                                                                                                                                                                                                                                                                                                                                                                                                                                                                                                                                                                                                                                                                                                                                                                                                                                                                                                                                                                                                                                                                                                                                                                                                                                                                                   ...\n",
       "12413                                                                                                                                                                                                                                                                                                               We must all understand the expectations of purchasing used products. I bought these joy-cons used directly by Amazon as \"very good condition\", so I figured I would take the chance. With how great amazon is delivering quality for a great price, their reputation made me feel at ease for buying used directly from them.Instant regret when I opened the box. The right joy-con has severe drifting issue with the joystick. And there are many bite marks on both joy-cons. No doubt adding to the drifting. I did what I could to clean the base of the joystick without opening either device. But even then, major involuntary movements when using it. I have to be sure I recenter the stick after every movement to reduce drift.Might not be clear enough, but in the pictures I attached you might be able to make out the various bite marks and the damaged joystick base. Nintendo is very aware that their older joy-con controllers are prone to this drifting problem, and thus offer free repairs or replacements well past their warranty. However, that whole repair process with Nintendo takes around 3 weeks. I don't have that time, so instead I returned these to Amazon. I am hopeful that Amazon won't put these back up for sale as someone else will be disappointed :(Save yourselves the headache and invest an extra $10 for new joy-cons.                                                                                                                                                                                                                                                                                                                    We must all understand the expectations of purchasing used products. I bought these joy-cons used directly by Amazon as \"very good condition\", so I figured I would take the chance. With how great amazon is delivering quality for a great price, their reputation made me feel at ease for buying used directly from them.Instant regret when I opened the box. The right joy-con has severe drifting issue with the joystick. And there are many bite marks on both joy-cons. No doubt adding to the drifting. I did what I could to clean the base of the joystick without opening either device. But even then, major involuntary movements when using it. I have to be sure I recenter the stick after every movement to reduce drift.Might not be clear enough, but in the pictures I attached you might be able to make out the various bite marks and the damaged joystick base. Nintendo is very aware that their older joy-con controllers are prone to this drifting problem, and thus offer free repairs or replacements well past their warranty. However, that whole repair process with Nintendo takes around 3 weeks. I do not have that time, so instead I returned these to Amazon. I am hopeful that Amazon will not put these back up for sale as someone else will be disappointed :(Save yourselves the headache and invest an extra $10 for new joy-cons.\n",
       "12415  This is not so much a product review as a compliment, so here goes...Just wanted to give the Amazon delivery service a “Thank you”. I’ve had my Switch for almost 2 yrs and have logged many happy, sometimes frustrating hours on it. So last week when the Joy-Cons started gradually sticking I knew they needed replacing. The R stick wasn’t actually “physically” sticking to the right, but was sending the message to the game to move right when I wanted to stand my ground. Don’t know if any of you have ever tried fighting Ice Lizalfos on a mountain top while Link keeps trying to creep off the cliff, but I would not recommend it. I’d already searched to replace them, but due to the COVID pandemic Switch Joy-Cons are near impossible to get in regular grey here in Sacramento. EVERY store was wiped out. Even GameStop, Walmart, Best Buy and Fry’s couldn’t provide via store OR online. Amazon said they could deliver, but not until August 1st... it was the best offer I could get. So when that beautiful little brown box showed up yesterday afternoon, July 28th, while I was actually playing Zelda BOTW no less, the feelings of relief that swept over me can only be understated. And just in time too. Yesterday, only an hour or so before delivery, the L stick was starting to stick to the right also. Whew!.... Thanks again, Amazon for that little extra “sumthin’” you always seem to provide.P.S. Oh, and the controllers were delivered, packaged, and function perfectly. The actual Nintendo Joy-Con box was untampered and had safety seals in tact - something I always look for, especially with electronics (and food, of course).  This is not so much a product review as a compliment, so here goes...Just wanted to give the Amazon delivery service a “Thank you”. I have had my Switch for almost 2 yrs and have logged many happy, sometimes frustrating hours on it. So last week when the Joy-Cons started gradually sticking I knew they needed replacing. The R stick was not actually “physically” sticking to the right, but was sending the message to the game to move right when I wanted to stand my ground. do not know if any of you have ever tried fighting Ice Lizalfos on a mountain top while Link keeps trying to creep off the cliff, but I would not recommend it. I would already searched to replace them, but due to the COVID pandemic Switch Joy-Cons are near impossible to get in regular grey here in Sacramento. EVERY store was wiped out. Even GameStop, Walmart, Best Buy and Fry’s could not provide via store OR online. Amazon said they could deliver, but not until August 1st... it was the best offer I could get. So when that beautiful little brown box showed up yesterday afternoon, July 28th, while I was actually playing Zelda BOTW no less, the feelings of relief that swept over me can only be understated. And just in time too. Yesterday, only an hour or so before delivery, the L stick was starting to stick to the right also. Whew!.... Thanks again, Amazon for that little extra “sumthin’” you always seem to provide.P.S. Oh, and the controllers were delivered, packaged, and function perfectly. The actual Nintendo Joy-Con box was untampered and had safety seals in tact - something I always look for, especially with electronics (and food, of course).\n",
       "12416                                                        I desperately wanted to love this product. I'm a huge Nintendo fan & Switch advocate. I love that they have HD rumble, an NFC reader, & pretty responsive gyro controls. I even love that they can be used as individual controllers for many games. What I don't love is the horrible drift all 6 pairs I've purchased has eventually gotten (4 different pairs purchased, a blue pair, 2 yellow pair, & the green/pink pair, plus 2 more pairs from purchasing systems). Before anyone wants to jump down my throat saying I should've gone to Nintendo, I actually have done that more than once. Nintendo did not charge me anything to send them for repairs because each time they claimed nothing was wrong with them & the very same Joy-Cons would be returned to me. Lo & behold, these Joy-Cons that were returned to me still drifted. Other than that, I've heard people say the size of these controllers aren't bothersome or small. I've also heard people say they're much too small, & I certainly fall somewhere in the latter category. Holding & playing my Switch in handheld is always a struggle, even for a short amount of time. I don't know if having sorta big hands was a factor but after a few months, most of my Joy-Cons also began having issues remaining securely on the side rails. This is especially true for my original Cons, they would frequently have to be clicked back into place for handheld mode. Overall I don't mind how the Joy-Cons work at all. But either I'm an incredibly unlucky sob or there is something wrong with how the control sticks are designed or manufactured.                                                  I desperately wanted to love this product. I am a huge Nintendo fan & Switch advocate. I love that they have HD rumble, an NFC reader, & pretty responsive gyro controls. I even love that they can be used as individual controllers for many games. What I do not love is the horrible drift all 6 pairs I have purchased has eventually gotten (4 different pairs purchased, a blue pair, 2 yellow pair, & the green/pink pair, plus 2 more pairs from purchasing systems). Before anyone wants to jump down my throat saying I should have gone to Nintendo, I actually have done that more than once. Nintendo did not charge me anything to send them for repairs because each time they claimed nothing was wrong with them & the very same Joy-Cons would be returned to me. Lo & behold, these Joy-Cons that were returned to me still drifted. Other than that, I have heard people say the size of these controllers are not bothersome or small. I have also heard people say they are much too small, & I certainly fall somewhere in the latter category. Holding & playing my Switch in handheld is always a struggle, even for a short amount of time. I do not know if having sorta big hands was a factor but after a few months, most of my Joy-Cons also began having issues remaining securely on the side rails. This is especially true for my original Cons, they would frequently have to be clicked back into place for handheld mode. Overall I do not mind how the Joy-Cons work at all. But either I am an incredibly unlucky sob or there is something wrong with how the control sticks are designed or manufactured.\n",
       "12417                                                                                                                                                                                                                                                                                                                                                                                                                                                                                                                                                                                                                                                                                                        Bought these controllers because after a year the ones that came with the switch started to malfunction. One of the analog controllers would drift making gameplay extremely hard. It would make scrolling through menus damn near impossible. I did buy the replacement parts and fixed the remote first (because that is the much cheaper option) but within two months it started happening again so I decided to bite the bullet and replace them. Wouldn’t you know the replacements came and didn’t even last two weeks with very light use! The analog broke and the controller started drifting again. I looked it up and it turns out that this is a common problem with these remotes. I’m disappointed with nintendo. You pay a lot for these systems and the accessories I expect them to last at least a few years. I will say that Amazon was fantastic and replaced them right away. The replacement should be here today. I’m curious to see how long this one lasts.                                                                                                                                                                                                                                                                                                                                                                                                                                                                                                                                                                                                                                                                                                             Bought these controllers because after a year the ones that came with the switch started to malfunction. One of the analog controllers would drift making gameplay extremely hard. It would make scrolling through menus damn near impossible. I did buy the replacement parts and fixed the remote first (because that is the much cheaper option) but within two months it started happening again so I decided to bite the bullet and replace them. would not you know the replacements came and did not even last two weeks with very light use! The analog broke and the controller started drifting again. I looked it up and it turns out that this is a common problem with these remotes. I am disappointed with nintendo. You pay a lot for these systems and the accessories I expect them to last at least a few years. I will say that Amazon was fantastic and replaced them right away. The replacement should be here today. I am curious to see how long this one lasts.\n",
       "12418                                                                                                                                                                                                                                                                                                           Edit: 2yrs later. Today is april 24th 2021 and let me say i am still disappointed. These worked but were the first to start drifting after about i dunno 1 month not bad but still upsetting for full price \"new\" joycons... both drift and still do till this day simply bc i have not sent them out to be fixed.1. Not new joy cons2. colors were swaped (didn’t even match what the actual box stated; (L) red (R) Blue)3. They are USEDso to start off the box of the controllers itself seemed to be slightly bent as if something heavier was placed on top. The first thing that i noticed was the colors were switched than advertised on the box (i dont mind that at all).Then i decided to check the controllers individually; both have black scratch marks as if being constantly put on and taken off of the console. With that said it already tells me they were used; now i did not pay ‘full’ price for something to be used, i initially didn’t buy them used. I could see small chips on the paint where they slide on and off of the console.Now they work, yes they seemed to work when i put them on the console; however, i haven’t actually played using them yet.I gave this 3 stars mainly for the fact that technically i didn’t get what i paid for. All in all i dont mind, as long as they work but it is upsetting to not get a good presentation.                                                                                                                                                                                                                                                                                                            Edit: 2yrs later. Today is april 24th 2021 and let me say i am still disappointed. These worked but were the first to start drifting after about i dunno 1 month not bad but still upsetting for full price \"new\" joycons... both drift and still do till this day simply bc i have not sent them out to be fixed.1. Not new joy cons2. colors were swaped (did not even match what the actual box stated; (L) red (R) Blue)3. They are USEDso to start off the box of the controllers itself seemed to be slightly bent as if something heavier was placed on top. The first thing that i noticed was the colors were switched than advertised on the box (i do not mind that at all).Then i decided to check the controllers individually; both have black scratch marks as if being constantly put on and taken off of the console. With that said it already tells me they were used; now i did not pay ‘full’ price for something to be used, i initially did not buy them used. I could see small chips on the paint where they slide on and off of the console.Now they work, yes they seemed to work when i put them on the console; however, i have not actually played using them yet.I gave this 3 stars mainly for the fact that technically i did not get what i paid for. All in all i do not mind, as long as they work but it is upsetting to not get a good presentation.\n",
       "\n",
       "[3400 rows x 2 columns]"
      ]
     },
     "execution_count": 160,
     "metadata": {
      "tags": []
     },
     "output_type": "execute_result"
    }
   ],
   "source": [
    "df[df[\"expand_contractions\"] != df[\"no_emoji\"]][[\"no_emoji\", \"expand_contractions\"]]"
   ]
  },
  {
   "cell_type": "markdown",
   "metadata": {
    "id": "kHizdVf1PBgT"
   },
   "source": [
    "## Step 5: Removing accented characters"
   ]
  },
  {
   "cell_type": "code",
   "execution_count": 161,
   "metadata": {
    "id": "_cOt-M30PJBx"
   },
   "outputs": [],
   "source": [
    "import unidecode\n",
    "def remove_accented_chars(text):\n",
    "    text = unidecode.unidecode(text)\n",
    "    return text"
   ]
  },
  {
   "cell_type": "code",
   "execution_count": 162,
   "metadata": {
    "id": "A3c7vX4OPkIT"
   },
   "outputs": [],
   "source": [
    "df[\"no_accented\"] = df[\"expand_contractions\"].apply(remove_accented_chars)"
   ]
  },
  {
   "cell_type": "code",
   "execution_count": 164,
   "metadata": {
    "colab": {
     "base_uri": "https://localhost:8080/",
     "height": 1000
    },
    "id": "hFDngD8EPxF-",
    "outputId": "f50eae8a-7b20-453d-abe8-20484524882a"
   },
   "outputs": [
    {
     "data": {
      "text/html": [
       "<div>\n",
       "<style scoped>\n",
       "    .dataframe tbody tr th:only-of-type {\n",
       "        vertical-align: middle;\n",
       "    }\n",
       "\n",
       "    .dataframe tbody tr th {\n",
       "        vertical-align: top;\n",
       "    }\n",
       "\n",
       "    .dataframe thead th {\n",
       "        text-align: right;\n",
       "    }\n",
       "</style>\n",
       "<table border=\"1\" class=\"dataframe\">\n",
       "  <thead>\n",
       "    <tr style=\"text-align: right;\">\n",
       "      <th></th>\n",
       "      <th>expand_contractions</th>\n",
       "      <th>no_accented</th>\n",
       "    </tr>\n",
       "  </thead>\n",
       "  <tbody>\n",
       "    <tr>\n",
       "      <th>15</th>\n",
       "      <td>KEYBOARD FAILED! I ordered this in November and started using it in January as my main “home” laptop (minimal use). The keyboard stopped working properly in June. Some letters do not regularly work. Sometimes - but not always- the space bar leaves two spaces instead of one. I wish I spent the money to get a NEW laptop and not refurbished. This was my first refurbished purchase, which I now see is a mistake. I live in a remote area, so fixing a keyboard may outweigh the cost savings. The battery works fine. Regrets here.</td>\n",
       "      <td>KEYBOARD FAILED! I ordered this in November and started using it in January as my main \"home\" laptop (minimal use). The keyboard stopped working properly in June. Some letters do not regularly work. Sometimes - but not always- the space bar leaves two spaces instead of one. I wish I spent the money to get a NEW laptop and not refurbished. This was my first refurbished purchase, which I now see is a mistake. I live in a remote area, so fixing a keyboard may outweigh the cost savings. The battery works fine. Regrets here.</td>\n",
       "    </tr>\n",
       "    <tr>\n",
       "      <th>19</th>\n",
       "      <td>I have been using my renewed computer   for about 2 weeks now and I am so glad I bought it from “All-out-Apple” the best computer seller on Amazon! I received the 2018 MacBook Air i5 quad core 256gb and the actual specs matched the description! I use it for college for my Zoom classes and the virtual background works!! I upgraded from my 2013 MacBook Air and this one is a lot faster and a much better battery life. It also came with a brand new usb-c original Apple charger for this Mac. This computer is like-new with no scratches at all and I was able to transfer all my old data to this new computer. I would recommend this computer for students and teachers too.</td>\n",
       "      <td>I have been using my renewed computer   for about 2 weeks now and I am so glad I bought it from \"All-out-Apple\" the best computer seller on Amazon! I received the 2018 MacBook Air i5 quad core 256gb and the actual specs matched the description! I use it for college for my Zoom classes and the virtual background works!! I upgraded from my 2013 MacBook Air and this one is a lot faster and a much better battery life. It also came with a brand new usb-c original Apple charger for this Mac. This computer is like-new with no scratches at all and I was able to transfer all my old data to this new computer. I would recommend this computer for students and teachers too.</td>\n",
       "    </tr>\n",
       "    <tr>\n",
       "      <th>24</th>\n",
       "      <td>Excelente producto!! Sin palabras!, Lo mejor para el trabajo, gaming, día a día, el mejor producto de apple hasta la fecha!!!</td>\n",
       "      <td>Excelente producto!! Sin palabras!, Lo mejor para el trabajo, gaming, dia a dia, el mejor producto de apple hasta la fecha!!!</td>\n",
       "    </tr>\n",
       "    <tr>\n",
       "      <th>36</th>\n",
       "      <td>Wow, absolutely perfect! I bought this for my daughter’s birthday and for her to use at college. She loves it!! It arrived super fast and in perfect condition!! We are extremely pleased with this MacBook. Thanks for a great purchase!</td>\n",
       "      <td>Wow, absolutely perfect! I bought this for my daughter's birthday and for her to use at college. She loves it!! It arrived super fast and in perfect condition!! We are extremely pleased with this MacBook. Thanks for a great purchase!</td>\n",
       "    </tr>\n",
       "    <tr>\n",
       "      <th>48</th>\n",
       "      <td>I am kindof dissatisfied. So I just opened it and cannot tell you everything, however I can tell you what I do not like that I already found. The apple emblem is cracked and the power cord that it came with has MANY scratches, bumps, and scrapes all over it so I question if the cable even charges properly. I know this is referbished, but can we please follow the policy \"external finishes like new” legit? Aside from those so far I am satisfied. Scrolling on the mouse pad is Kindof meh but maybe it is because I am not use to it yet? The keys are in fine condition and the finger print scanner works. I was worried with some of the reviews saying that they got a grey instead of a space grey but mine is space grey so I am very happy. My fave color. I can leave another review with more information after a week or so of use.</td>\n",
       "      <td>I am kindof dissatisfied. So I just opened it and cannot tell you everything, however I can tell you what I do not like that I already found. The apple emblem is cracked and the power cord that it came with has MANY scratches, bumps, and scrapes all over it so I question if the cable even charges properly. I know this is referbished, but can we please follow the policy \"external finishes like new\" legit? Aside from those so far I am satisfied. Scrolling on the mouse pad is Kindof meh but maybe it is because I am not use to it yet? The keys are in fine condition and the finger print scanner works. I was worried with some of the reviews saying that they got a grey instead of a space grey but mine is space grey so I am very happy. My fave color. I can leave another review with more information after a week or so of use.</td>\n",
       "    </tr>\n",
       "    <tr>\n",
       "      <th>...</th>\n",
       "      <td>...</td>\n",
       "      <td>...</td>\n",
       "    </tr>\n",
       "    <tr>\n",
       "      <th>12362</th>\n",
       "      <td>Compré este par de Joy-Con para reemplazar los grises que venían originalmente con mi consola, pues esos tenían input lag, muy notorio especialmente en el control derecho.Estos Joy-Con color neon venían \"sellados\", pero pareciera que retiraron el sello original, abrieron la caja, usaron los controles y luego los volvieron a colocar. Digo lo de los sellos porque en la caja hay partes donde falta pintura y se nota que un sello la retiró.Además menciono que usaron los controles, debido a que recién sacados de la caja, tienen marcas de haber sido introducidos en una consola (los rieles dejaron marca). Lo cual realmente no da entera confianza de que el producto sea nuevo.El producto funciona, pero cuesta mucho creer que sea 100% nuevo. Además afuera de la caja menciona que debe incluirse una guía de inicio rápido y una póliza de garantía, cosa que no venía incluída.</td>\n",
       "      <td>Compre este par de Joy-Con para reemplazar los grises que venian originalmente con mi consola, pues esos tenian input lag, muy notorio especialmente en el control derecho.Estos Joy-Con color neon venian \"sellados\", pero pareciera que retiraron el sello original, abrieron la caja, usaron los controles y luego los volvieron a colocar. Digo lo de los sellos porque en la caja hay partes donde falta pintura y se nota que un sello la retiro.Ademas menciono que usaron los controles, debido a que recien sacados de la caja, tienen marcas de haber sido introducidos en una consola (los rieles dejaron marca). Lo cual realmente no da entera confianza de que el producto sea nuevo.El producto funciona, pero cuesta mucho creer que sea 100% nuevo. Ademas afuera de la caja menciona que debe incluirse una guia de inicio rapido y una poliza de garantia, cosa que no venia incluida.</td>\n",
       "    </tr>\n",
       "    <tr>\n",
       "      <th>12363</th>\n",
       "      <td>A ciencia cierta no sé que pasó, los dos primeros cinco días de uso con mi nintendo switch en modo de sobremesa, al jugar mario odyssey me dieron muchos problemas estoy joy con nuevos. Inicia el juego, inicia la partida y parece que todo normal, pero después de los primeros cinco minutos de juego, dejaban de funcionar, se apagaban/desconectaban había que oprimir los botones para que la consola los reconociera nuevamente. No funcionó, los acoplé a la consola y los reconoció de inmediato, volví a sobremesa y oprimí los botones y volvieron a funcionar. Así los 4 días restantes, pensé en hacer la devolución pero finalmente terminó por dejar de pasar ese error y amarga experiencia. Los utilizo diariamente y no ha vuelto a suceder. Ahora que sú estética es excelente son realmente bonitos en color naranja y morado neón, no creo que vuelva a suceder dicho error menos con nintendo en la mira de todos pero quién sabe. Los joy con de mi consola nunca me hicieron eso de dejar de funcionar sin embargo el control izquierdo tiene problema con la palanquilla izquierda que hace que el personaje se mueva solo, lo que me hizo optar por estos atractivos joy con nuevos y chulos de bonitos, pero parece que todos los productos de nintendo switch acaban teniendo algún detallito. Después de esos días frustrantes ahora estoy muy contento con su uso.</td>\n",
       "      <td>A ciencia cierta no se que paso, los dos primeros cinco dias de uso con mi nintendo switch en modo de sobremesa, al jugar mario odyssey me dieron muchos problemas estoy joy con nuevos. Inicia el juego, inicia la partida y parece que todo normal, pero despues de los primeros cinco minutos de juego, dejaban de funcionar, se apagaban/desconectaban habia que oprimir los botones para que la consola los reconociera nuevamente. No funciono, los acople a la consola y los reconocio de inmediato, volvi a sobremesa y oprimi los botones y volvieron a funcionar. Asi los 4 dias restantes, pense en hacer la devolucion pero finalmente termino por dejar de pasar ese error y amarga experiencia. Los utilizo diariamente y no ha vuelto a suceder. Ahora que su estetica es excelente son realmente bonitos en color naranja y morado neon, no creo que vuelva a suceder dicho error menos con nintendo en la mira de todos pero quien sabe. Los joy con de mi consola nunca me hicieron eso de dejar de funcionar sin embargo el control izquierdo tiene problema con la palanquilla izquierda que hace que el personaje se mueva solo, lo que me hizo optar por estos atractivos joy con nuevos y chulos de bonitos, pero parece que todos los productos de nintendo switch acaban teniendo algun detallito. Despues de esos dias frustrantes ahora estoy muy contento con su uso.</td>\n",
       "    </tr>\n",
       "    <tr>\n",
       "      <th>12377</th>\n",
       "      <td>Súper bien</td>\n",
       "      <td>Super bien</td>\n",
       "    </tr>\n",
       "    <tr>\n",
       "      <th>12415</th>\n",
       "      <td>This is not so much a product review as a compliment, so here goes...Just wanted to give the Amazon delivery service a “Thank you”. I have had my Switch for almost 2 yrs and have logged many happy, sometimes frustrating hours on it. So last week when the Joy-Cons started gradually sticking I knew they needed replacing. The R stick was not actually “physically” sticking to the right, but was sending the message to the game to move right when I wanted to stand my ground. do not know if any of you have ever tried fighting Ice Lizalfos on a mountain top while Link keeps trying to creep off the cliff, but I would not recommend it. I would already searched to replace them, but due to the COVID pandemic Switch Joy-Cons are near impossible to get in regular grey here in Sacramento. EVERY store was wiped out. Even GameStop, Walmart, Best Buy and Fry’s could not provide via store OR online. Amazon said they could deliver, but not until August 1st... it was the best offer I could get. So when that beautiful little brown box showed up yesterday afternoon, July 28th, while I was actually playing Zelda BOTW no less, the feelings of relief that swept over me can only be understated. And just in time too. Yesterday, only an hour or so before delivery, the L stick was starting to stick to the right also. Whew!.... Thanks again, Amazon for that little extra “sumthin’” you always seem to provide.P.S. Oh, and the controllers were delivered, packaged, and function perfectly. The actual Nintendo Joy-Con box was untampered and had safety seals in tact - something I always look for, especially with electronics (and food, of course).</td>\n",
       "      <td>This is not so much a product review as a compliment, so here goes...Just wanted to give the Amazon delivery service a \"Thank you\". I have had my Switch for almost 2 yrs and have logged many happy, sometimes frustrating hours on it. So last week when the Joy-Cons started gradually sticking I knew they needed replacing. The R stick was not actually \"physically\" sticking to the right, but was sending the message to the game to move right when I wanted to stand my ground. do not know if any of you have ever tried fighting Ice Lizalfos on a mountain top while Link keeps trying to creep off the cliff, but I would not recommend it. I would already searched to replace them, but due to the COVID pandemic Switch Joy-Cons are near impossible to get in regular grey here in Sacramento. EVERY store was wiped out. Even GameStop, Walmart, Best Buy and Fry's could not provide via store OR online. Amazon said they could deliver, but not until August 1st... it was the best offer I could get. So when that beautiful little brown box showed up yesterday afternoon, July 28th, while I was actually playing Zelda BOTW no less, the feelings of relief that swept over me can only be understated. And just in time too. Yesterday, only an hour or so before delivery, the L stick was starting to stick to the right also. Whew!.... Thanks again, Amazon for that little extra \"sumthin'\" you always seem to provide.P.S. Oh, and the controllers were delivered, packaged, and function perfectly. The actual Nintendo Joy-Con box was untampered and had safety seals in tact - something I always look for, especially with electronics (and food, of course).</td>\n",
       "    </tr>\n",
       "    <tr>\n",
       "      <th>12418</th>\n",
       "      <td>Edit: 2yrs later. Today is april 24th 2021 and let me say i am still disappointed. These worked but were the first to start drifting after about i dunno 1 month not bad but still upsetting for full price \"new\" joycons... both drift and still do till this day simply bc i have not sent them out to be fixed.1. Not new joy cons2. colors were swaped (did not even match what the actual box stated; (L) red (R) Blue)3. They are USEDso to start off the box of the controllers itself seemed to be slightly bent as if something heavier was placed on top. The first thing that i noticed was the colors were switched than advertised on the box (i do not mind that at all).Then i decided to check the controllers individually; both have black scratch marks as if being constantly put on and taken off of the console. With that said it already tells me they were used; now i did not pay ‘full’ price for something to be used, i initially did not buy them used. I could see small chips on the paint where they slide on and off of the console.Now they work, yes they seemed to work when i put them on the console; however, i have not actually played using them yet.I gave this 3 stars mainly for the fact that technically i did not get what i paid for. All in all i do not mind, as long as they work but it is upsetting to not get a good presentation.</td>\n",
       "      <td>Edit: 2yrs later. Today is april 24th 2021 and let me say i am still disappointed. These worked but were the first to start drifting after about i dunno 1 month not bad but still upsetting for full price \"new\" joycons... both drift and still do till this day simply bc i have not sent them out to be fixed.1. Not new joy cons2. colors were swaped (did not even match what the actual box stated; (L) red (R) Blue)3. They are USEDso to start off the box of the controllers itself seemed to be slightly bent as if something heavier was placed on top. The first thing that i noticed was the colors were switched than advertised on the box (i do not mind that at all).Then i decided to check the controllers individually; both have black scratch marks as if being constantly put on and taken off of the console. With that said it already tells me they were used; now i did not pay 'full' price for something to be used, i initially did not buy them used. I could see small chips on the paint where they slide on and off of the console.Now they work, yes they seemed to work when i put them on the console; however, i have not actually played using them yet.I gave this 3 stars mainly for the fact that technically i did not get what i paid for. All in all i do not mind, as long as they work but it is upsetting to not get a good presentation.</td>\n",
       "    </tr>\n",
       "  </tbody>\n",
       "</table>\n",
       "<p>1466 rows × 2 columns</p>\n",
       "</div>"
      ],
      "text/plain": [
       "                                                                                                                                                                                                                                                                                                                                                                                                                                                                                                                                                                                                                                                                                                                                                                                                                                                                                                                                                                                                                                                                                                                                                                                                                                                                                                                                                                                                                                                                                                                                                                                                                                                                                        expand_contractions                                                                                                                                                                                                                                                                                                                                                                                                                                                                                                                                                                                                                                                                                                                                                                                                                                                                                                                                                                                                                                                                                                                                                                                                                                                                                                                                                                                                                                                                                                                                                                                                                                                                                           no_accented\n",
       "15                                                                                                                                                                                                                                                                                                                                                                                                                                                                                                                                                                                                                                                                                                                                                                                                                                                                                                                                                                                                                                                                                                                                                            KEYBOARD FAILED! I ordered this in November and started using it in January as my main “home” laptop (minimal use). The keyboard stopped working properly in June. Some letters do not regularly work. Sometimes - but not always- the space bar leaves two spaces instead of one. I wish I spent the money to get a NEW laptop and not refurbished. This was my first refurbished purchase, which I now see is a mistake. I live in a remote area, so fixing a keyboard may outweigh the cost savings. The battery works fine. Regrets here.                                                                                                                                                                                                                                                                                                                                                                                                                                                                                                                                                                                                                                                                                                                                                                                                                                                                                                                                                                                                                                                                                                                                                         KEYBOARD FAILED! I ordered this in November and started using it in January as my main \"home\" laptop (minimal use). The keyboard stopped working properly in June. Some letters do not regularly work. Sometimes - but not always- the space bar leaves two spaces instead of one. I wish I spent the money to get a NEW laptop and not refurbished. This was my first refurbished purchase, which I now see is a mistake. I live in a remote area, so fixing a keyboard may outweigh the cost savings. The battery works fine. Regrets here.\n",
       "19                                                                                                                                                                                                                                                                                                                                                                                                                                                                                                                                                                                                                                                                                                                                                                                                                                                                                                                                                                                                            I have been using my renewed computer   for about 2 weeks now and I am so glad I bought it from “All-out-Apple” the best computer seller on Amazon! I received the 2018 MacBook Air i5 quad core 256gb and the actual specs matched the description! I use it for college for my Zoom classes and the virtual background works!! I upgraded from my 2013 MacBook Air and this one is a lot faster and a much better battery life. It also came with a brand new usb-c original Apple charger for this Mac. This computer is like-new with no scratches at all and I was able to transfer all my old data to this new computer. I would recommend this computer for students and teachers too.                                                                                                                                                                                                                                                                                                                                                                                                                                                                                                                                                                                                                                                                                                                                                                                                                                                                                                                                                                                                         I have been using my renewed computer   for about 2 weeks now and I am so glad I bought it from \"All-out-Apple\" the best computer seller on Amazon! I received the 2018 MacBook Air i5 quad core 256gb and the actual specs matched the description! I use it for college for my Zoom classes and the virtual background works!! I upgraded from my 2013 MacBook Air and this one is a lot faster and a much better battery life. It also came with a brand new usb-c original Apple charger for this Mac. This computer is like-new with no scratches at all and I was able to transfer all my old data to this new computer. I would recommend this computer for students and teachers too.\n",
       "24                                                                                                                                                                                                                                                                                                                                                                                                                                                                                                                                                                                                                                                                                                                                                                                                                                                                                                                                                                                                                                                                                                                                                                                                                                                                                                                                                                                                                                                                                                                                                                            Excelente producto!! Sin palabras!, Lo mejor para el trabajo, gaming, día a día, el mejor producto de apple hasta la fecha!!!                                                                                                                                                                                                                                                                                                                                                                                                                                                                                                                                                                                                                                                                                                                                                                                                                                                                                                                                                                                                                                                                                                                                                                                                                                                                                                                                                                                                                                                                                                                                                                         Excelente producto!! Sin palabras!, Lo mejor para el trabajo, gaming, dia a dia, el mejor producto de apple hasta la fecha!!!\n",
       "36                                                                                                                                                                                                                                                                                                                                                                                                                                                                                                                                                                                                                                                                                                                                                                                                                                                                                                                                                                                                                                                                                                                                                                                                                                                                                                                                                                                                                                                                Wow, absolutely perfect! I bought this for my daughter’s birthday and for her to use at college. She loves it!! It arrived super fast and in perfect condition!! We are extremely pleased with this MacBook. Thanks for a great purchase!                                                                                                                                                                                                                                                                                                                                                                                                                                                                                                                                                                                                                                                                                                                                                                                                                                                                                                                                                                                                                                                                                                                                                                                                                                                                                                                                                                                                                                                             Wow, absolutely perfect! I bought this for my daughter's birthday and for her to use at college. She loves it!! It arrived super fast and in perfect condition!! We are extremely pleased with this MacBook. Thanks for a great purchase!\n",
       "48                                                                                                                                                                                                                                                                                                                                                                                                                                                                                                                                                                                                                                                                                                                                                                                                                                             I am kindof dissatisfied. So I just opened it and cannot tell you everything, however I can tell you what I do not like that I already found. The apple emblem is cracked and the power cord that it came with has MANY scratches, bumps, and scrapes all over it so I question if the cable even charges properly. I know this is referbished, but can we please follow the policy \"external finishes like new” legit? Aside from those so far I am satisfied. Scrolling on the mouse pad is Kindof meh but maybe it is because I am not use to it yet? The keys are in fine condition and the finger print scanner works. I was worried with some of the reviews saying that they got a grey instead of a space grey but mine is space grey so I am very happy. My fave color. I can leave another review with more information after a week or so of use.                                                                                                                                                                                                                                                                                                                                                                                                                                                                                                                                                                                                                                                                                                                                                                                                                                          I am kindof dissatisfied. So I just opened it and cannot tell you everything, however I can tell you what I do not like that I already found. The apple emblem is cracked and the power cord that it came with has MANY scratches, bumps, and scrapes all over it so I question if the cable even charges properly. I know this is referbished, but can we please follow the policy \"external finishes like new\" legit? Aside from those so far I am satisfied. Scrolling on the mouse pad is Kindof meh but maybe it is because I am not use to it yet? The keys are in fine condition and the finger print scanner works. I was worried with some of the reviews saying that they got a grey instead of a space grey but mine is space grey so I am very happy. My fave color. I can leave another review with more information after a week or so of use.\n",
       "...                                                                                                                                                                                                                                                                                                                                                                                                                                                                                                                                                                                                                                                                                                                                                                                                                                                                                                                                                                                                                                                                                                                                                                                                                                                                                                                                                                                                                                                                                                                                                                                                                                                                                                     ...                                                                                                                                                                                                                                                                                                                                                                                                                                                                                                                                                                                                                                                                                                                                                                                                                                                                                                                                                                                                                                                                                                                                                                                                                                                                                                                                                                                                                                                                                                                                                                                                                                                                                                   ...\n",
       "12362                                                                                                                                                                                                                                                                                                                                                                                                                                                                                                                                                                                                                                                                                                                                                                                             Compré este par de Joy-Con para reemplazar los grises que venían originalmente con mi consola, pues esos tenían input lag, muy notorio especialmente en el control derecho.Estos Joy-Con color neon venían \"sellados\", pero pareciera que retiraron el sello original, abrieron la caja, usaron los controles y luego los volvieron a colocar. Digo lo de los sellos porque en la caja hay partes donde falta pintura y se nota que un sello la retiró.Además menciono que usaron los controles, debido a que recién sacados de la caja, tienen marcas de haber sido introducidos en una consola (los rieles dejaron marca). Lo cual realmente no da entera confianza de que el producto sea nuevo.El producto funciona, pero cuesta mucho creer que sea 100% nuevo. Además afuera de la caja menciona que debe incluirse una guía de inicio rápido y una póliza de garantía, cosa que no venía incluída.                                                                                                                                                                                                                                                                                                                                                                                                                                                                                                                                                                                                                                                                                                                                                                                             Compre este par de Joy-Con para reemplazar los grises que venian originalmente con mi consola, pues esos tenian input lag, muy notorio especialmente en el control derecho.Estos Joy-Con color neon venian \"sellados\", pero pareciera que retiraron el sello original, abrieron la caja, usaron los controles y luego los volvieron a colocar. Digo lo de los sellos porque en la caja hay partes donde falta pintura y se nota que un sello la retiro.Ademas menciono que usaron los controles, debido a que recien sacados de la caja, tienen marcas de haber sido introducidos en una consola (los rieles dejaron marca). Lo cual realmente no da entera confianza de que el producto sea nuevo.El producto funciona, pero cuesta mucho creer que sea 100% nuevo. Ademas afuera de la caja menciona que debe incluirse una guia de inicio rapido y una poliza de garantia, cosa que no venia incluida.\n",
       "12363                                                                                                                                                                                                                                                                                                     A ciencia cierta no sé que pasó, los dos primeros cinco días de uso con mi nintendo switch en modo de sobremesa, al jugar mario odyssey me dieron muchos problemas estoy joy con nuevos. Inicia el juego, inicia la partida y parece que todo normal, pero después de los primeros cinco minutos de juego, dejaban de funcionar, se apagaban/desconectaban había que oprimir los botones para que la consola los reconociera nuevamente. No funcionó, los acoplé a la consola y los reconoció de inmediato, volví a sobremesa y oprimí los botones y volvieron a funcionar. Así los 4 días restantes, pensé en hacer la devolución pero finalmente terminó por dejar de pasar ese error y amarga experiencia. Los utilizo diariamente y no ha vuelto a suceder. Ahora que sú estética es excelente son realmente bonitos en color naranja y morado neón, no creo que vuelva a suceder dicho error menos con nintendo en la mira de todos pero quién sabe. Los joy con de mi consola nunca me hicieron eso de dejar de funcionar sin embargo el control izquierdo tiene problema con la palanquilla izquierda que hace que el personaje se mueva solo, lo que me hizo optar por estos atractivos joy con nuevos y chulos de bonitos, pero parece que todos los productos de nintendo switch acaban teniendo algún detallito. Después de esos días frustrantes ahora estoy muy contento con su uso.                                                                                                                                                                                                                                                                                                     A ciencia cierta no se que paso, los dos primeros cinco dias de uso con mi nintendo switch en modo de sobremesa, al jugar mario odyssey me dieron muchos problemas estoy joy con nuevos. Inicia el juego, inicia la partida y parece que todo normal, pero despues de los primeros cinco minutos de juego, dejaban de funcionar, se apagaban/desconectaban habia que oprimir los botones para que la consola los reconociera nuevamente. No funciono, los acople a la consola y los reconocio de inmediato, volvi a sobremesa y oprimi los botones y volvieron a funcionar. Asi los 4 dias restantes, pense en hacer la devolucion pero finalmente termino por dejar de pasar ese error y amarga experiencia. Los utilizo diariamente y no ha vuelto a suceder. Ahora que su estetica es excelente son realmente bonitos en color naranja y morado neon, no creo que vuelva a suceder dicho error menos con nintendo en la mira de todos pero quien sabe. Los joy con de mi consola nunca me hicieron eso de dejar de funcionar sin embargo el control izquierdo tiene problema con la palanquilla izquierda que hace que el personaje se mueva solo, lo que me hizo optar por estos atractivos joy con nuevos y chulos de bonitos, pero parece que todos los productos de nintendo switch acaban teniendo algun detallito. Despues de esos dias frustrantes ahora estoy muy contento con su uso.\n",
       "12377                                                                                                                                                                                                                                                                                                                                                                                                                                                                                                                                                                                                                                                                                                                                                                                                                                                                                                                                                                                                                                                                                                                                                                                                                                                                                                                                                                                                                                                                                                                                                                                                                                                                                            Súper bien                                                                                                                                                                                                                                                                                                                                                                                                                                                                                                                                                                                                                                                                                                                                                                                                                                                                                                                                                                                                                                                                                                                                                                                                                                                                                                                                                                                                                                                                                                                                                                                                                                                                                            Super bien\n",
       "12415  This is not so much a product review as a compliment, so here goes...Just wanted to give the Amazon delivery service a “Thank you”. I have had my Switch for almost 2 yrs and have logged many happy, sometimes frustrating hours on it. So last week when the Joy-Cons started gradually sticking I knew they needed replacing. The R stick was not actually “physically” sticking to the right, but was sending the message to the game to move right when I wanted to stand my ground. do not know if any of you have ever tried fighting Ice Lizalfos on a mountain top while Link keeps trying to creep off the cliff, but I would not recommend it. I would already searched to replace them, but due to the COVID pandemic Switch Joy-Cons are near impossible to get in regular grey here in Sacramento. EVERY store was wiped out. Even GameStop, Walmart, Best Buy and Fry’s could not provide via store OR online. Amazon said they could deliver, but not until August 1st... it was the best offer I could get. So when that beautiful little brown box showed up yesterday afternoon, July 28th, while I was actually playing Zelda BOTW no less, the feelings of relief that swept over me can only be understated. And just in time too. Yesterday, only an hour or so before delivery, the L stick was starting to stick to the right also. Whew!.... Thanks again, Amazon for that little extra “sumthin’” you always seem to provide.P.S. Oh, and the controllers were delivered, packaged, and function perfectly. The actual Nintendo Joy-Con box was untampered and had safety seals in tact - something I always look for, especially with electronics (and food, of course).  This is not so much a product review as a compliment, so here goes...Just wanted to give the Amazon delivery service a \"Thank you\". I have had my Switch for almost 2 yrs and have logged many happy, sometimes frustrating hours on it. So last week when the Joy-Cons started gradually sticking I knew they needed replacing. The R stick was not actually \"physically\" sticking to the right, but was sending the message to the game to move right when I wanted to stand my ground. do not know if any of you have ever tried fighting Ice Lizalfos on a mountain top while Link keeps trying to creep off the cliff, but I would not recommend it. I would already searched to replace them, but due to the COVID pandemic Switch Joy-Cons are near impossible to get in regular grey here in Sacramento. EVERY store was wiped out. Even GameStop, Walmart, Best Buy and Fry's could not provide via store OR online. Amazon said they could deliver, but not until August 1st... it was the best offer I could get. So when that beautiful little brown box showed up yesterday afternoon, July 28th, while I was actually playing Zelda BOTW no less, the feelings of relief that swept over me can only be understated. And just in time too. Yesterday, only an hour or so before delivery, the L stick was starting to stick to the right also. Whew!.... Thanks again, Amazon for that little extra \"sumthin'\" you always seem to provide.P.S. Oh, and the controllers were delivered, packaged, and function perfectly. The actual Nintendo Joy-Con box was untampered and had safety seals in tact - something I always look for, especially with electronics (and food, of course).\n",
       "12418                                                                                                                                                                                                                                                                                                            Edit: 2yrs later. Today is april 24th 2021 and let me say i am still disappointed. These worked but were the first to start drifting after about i dunno 1 month not bad but still upsetting for full price \"new\" joycons... both drift and still do till this day simply bc i have not sent them out to be fixed.1. Not new joy cons2. colors were swaped (did not even match what the actual box stated; (L) red (R) Blue)3. They are USEDso to start off the box of the controllers itself seemed to be slightly bent as if something heavier was placed on top. The first thing that i noticed was the colors were switched than advertised on the box (i do not mind that at all).Then i decided to check the controllers individually; both have black scratch marks as if being constantly put on and taken off of the console. With that said it already tells me they were used; now i did not pay ‘full’ price for something to be used, i initially did not buy them used. I could see small chips on the paint where they slide on and off of the console.Now they work, yes they seemed to work when i put them on the console; however, i have not actually played using them yet.I gave this 3 stars mainly for the fact that technically i did not get what i paid for. All in all i do not mind, as long as they work but it is upsetting to not get a good presentation.                                                                                                                                                                                                                                                                                                            Edit: 2yrs later. Today is april 24th 2021 and let me say i am still disappointed. These worked but were the first to start drifting after about i dunno 1 month not bad but still upsetting for full price \"new\" joycons... both drift and still do till this day simply bc i have not sent them out to be fixed.1. Not new joy cons2. colors were swaped (did not even match what the actual box stated; (L) red (R) Blue)3. They are USEDso to start off the box of the controllers itself seemed to be slightly bent as if something heavier was placed on top. The first thing that i noticed was the colors were switched than advertised on the box (i do not mind that at all).Then i decided to check the controllers individually; both have black scratch marks as if being constantly put on and taken off of the console. With that said it already tells me they were used; now i did not pay 'full' price for something to be used, i initially did not buy them used. I could see small chips on the paint where they slide on and off of the console.Now they work, yes they seemed to work when i put them on the console; however, i have not actually played using them yet.I gave this 3 stars mainly for the fact that technically i did not get what i paid for. All in all i do not mind, as long as they work but it is upsetting to not get a good presentation.\n",
       "\n",
       "[1466 rows x 2 columns]"
      ]
     },
     "execution_count": 164,
     "metadata": {
      "tags": []
     },
     "output_type": "execute_result"
    }
   ],
   "source": [
    "df[df[\"expand_contractions\"] != df[\"no_accented\"]][[\"expand_contractions\", \"no_accented\"]]"
   ]
  },
  {
   "cell_type": "markdown",
   "metadata": {
    "id": "dbB0bzCDfL85"
   },
   "source": [
    "## Step 6: Collapse duplicated punctuation"
   ]
  },
  {
   "cell_type": "code",
   "execution_count": 184,
   "metadata": {
    "id": "vpFicqysfxNu"
   },
   "outputs": [],
   "source": [
    "punc = string.punctuation\n",
    "\n",
    "def remove_consecutive_punctuation(text):\n",
    "    newtext = []\n",
    "    for k, g in groupby(text):\n",
    "        if k in punc:\n",
    "            newtext.append(k + \" \")\n",
    "        else:\n",
    "            newtext.extend(g)\n",
    "\n",
    "    return ''.join(newtext) "
   ]
  },
  {
   "cell_type": "code",
   "execution_count": null,
   "metadata": {},
   "outputs": [],
   "source": [
    "remove_consecutive_punctuation(\"Hello World..Now I can see you\")"
   ]
  },
  {
   "cell_type": "code",
   "execution_count": 185,
   "metadata": {
    "id": "JX_W__DmmGhl"
   },
   "outputs": [],
   "source": [
    "df[\"no_consecutive_punc\"] = df[\"expand_contractions\"].apply(remove_consecutive_punctuation)"
   ]
  },
  {
   "cell_type": "code",
   "execution_count": 186,
   "metadata": {
    "colab": {
     "base_uri": "https://localhost:8080/",
     "height": 1000
    },
    "id": "1HFshhA1mdem",
    "outputId": "28022f4e-f40c-4154-ceb5-ee0f257a989b"
   },
   "outputs": [
    {
     "data": {
      "text/html": [
       "<div>\n",
       "<style scoped>\n",
       "    .dataframe tbody tr th:only-of-type {\n",
       "        vertical-align: middle;\n",
       "    }\n",
       "\n",
       "    .dataframe tbody tr th {\n",
       "        vertical-align: top;\n",
       "    }\n",
       "\n",
       "    .dataframe thead th {\n",
       "        text-align: right;\n",
       "    }\n",
       "</style>\n",
       "<table border=\"1\" class=\"dataframe\">\n",
       "  <thead>\n",
       "    <tr style=\"text-align: right;\">\n",
       "      <th></th>\n",
       "      <th>expand_contractions</th>\n",
       "      <th>no_consecutive_punc</th>\n",
       "    </tr>\n",
       "  </thead>\n",
       "  <tbody>\n",
       "    <tr>\n",
       "      <th>1</th>\n",
       "      <td>Best computer I have ever own!! This computer forces me to be productive. I used to wait around for this spinning wheel to stop, and now I can do everything so quickly that I think I almost miss the waiting part. Ha ha. I do not have time to get coffee anymore. All my apps run smoothly, including adobe illustrator and Photoshop, and they work perfectly. Almost too perfect. I really love this computer. I hope it last me for many years to come.</td>\n",
       "      <td>Best computer I have ever own! This computer forces me to be productive. I used to wait around for this spinning wheel to stop, and now I can do everything so quickly that I think I almost miss the waiting part. Ha ha. I do not have time to get coffee anymore. All my apps run smoothly, including adobe illustrator and Photoshop, and they work perfectly. Almost too perfect. I really love this computer. I hope it last me for many years to come.</td>\n",
       "    </tr>\n",
       "    <tr>\n",
       "      <th>11</th>\n",
       "      <td>Positivo, EXCELENTE EQUIPO!!!</td>\n",
       "      <td>Positivo, EXCELENTE EQUIPO!</td>\n",
       "    </tr>\n",
       "    <tr>\n",
       "      <th>19</th>\n",
       "      <td>I have been using my renewed computer   for about 2 weeks now and I am so glad I bought it from “All-out-Apple” the best computer seller on Amazon! I received the 2018 MacBook Air i5 quad core 256gb and the actual specs matched the description! I use it for college for my Zoom classes and the virtual background works!! I upgraded from my 2013 MacBook Air and this one is a lot faster and a much better battery life. It also came with a brand new usb-c original Apple charger for this Mac. This computer is like-new with no scratches at all and I was able to transfer all my old data to this new computer. I would recommend this computer for students and teachers too.</td>\n",
       "      <td>I have been using my renewed computer   for about 2 weeks now and I am so glad I bought it from “All-out-Apple” the best computer seller on Amazon! I received the 2018 MacBook Air i5 quad core 256gb and the actual specs matched the description! I use it for college for my Zoom classes and the virtual background works! I upgraded from my 2013 MacBook Air and this one is a lot faster and a much better battery life. It also came with a brand new usb-c original Apple charger for this Mac. This computer is like-new with no scratches at all and I was able to transfer all my old data to this new computer. I would recommend this computer for students and teachers too.</td>\n",
       "    </tr>\n",
       "    <tr>\n",
       "      <th>24</th>\n",
       "      <td>Excelente producto!! Sin palabras!, Lo mejor para el trabajo, gaming, día a día, el mejor producto de apple hasta la fecha!!!</td>\n",
       "      <td>Excelente producto! Sin palabras!, Lo mejor para el trabajo, gaming, día a día, el mejor producto de apple hasta la fecha!</td>\n",
       "    </tr>\n",
       "    <tr>\n",
       "      <th>26</th>\n",
       "      <td>I am extremely pleased with this early 2015, 13\" Macbook Pro! There is not one mark on the case, screen, keyboard - it is exactly like the brand-new one I purchased from Apple, 5 years ago!! The battery cycle count is only 21 - truly remarkable! It also came with a genuine MagSafe 2 Apple charger (I did check, and it is new and authentic). I am very happy with the purchase so far - thank you for selling such a quality item!</td>\n",
       "      <td>I am extremely pleased with this early 2015, 13\" Macbook Pro! There is not one mark on the case, screen, keyboard - it is exactly like the brand-new one I purchased from Apple, 5 years ago! The battery cycle count is only 21 - truly remarkable! It also came with a genuine MagSafe 2 Apple charger (I did check, and it is new and authentic). I am very happy with the purchase so far - thank you for selling such a quality item!</td>\n",
       "    </tr>\n",
       "    <tr>\n",
       "      <th>...</th>\n",
       "      <td>...</td>\n",
       "      <td>...</td>\n",
       "    </tr>\n",
       "    <tr>\n",
       "      <th>12405</th>\n",
       "      <td>These were an early Christmas gift for my son who has everything he wants, he literally does not want or need anything, so I am always far stretched when trying to figure out what to give him for birthdays and Christmas.I was relieved as heck when he said he wanted a set of these controllers. I could not wait for Christmas because he had the new Super Mario Party game and we were having a few people come to the house to play it.The controllers arrived just in time for our Mario Party , but my son and I played to practice the new game the day ahead. I usually am triple-thumbed when it comes to controlling the controllers but these were surprisingly easy for me to use.Note:I discovered that using a certain color controller gives that user certain controls over the game that the other users do not have. For instance, when using a particular color controller, I had the ability to click the game back to the previous screen, thus making everyone groan loudly and wait for me to click us back to the game at hand. :)~~~~</td>\n",
       "      <td>These were an early Christmas gift for my son who has everything he wants, he literally does not want or need anything, so I am always far stretched when trying to figure out what to give him for birthdays and Christmas.I was relieved as heck when he said he wanted a set of these controllers. I could not wait for Christmas because he had the new Super Mario Party game and we were having a few people come to the house to play it.The controllers arrived just in time for our Mario Party , but my son and I played to practice the new game the day ahead. I usually am triple-thumbed when it comes to controlling the controllers but these were surprisingly easy for me to use.Note:I discovered that using a certain color controller gives that user certain controls over the game that the other users do not have. For instance, when using a particular color controller, I had the ability to click the game back to the previous screen, thus making everyone groan loudly and wait for me to click us back to the game at hand. :)~</td>\n",
       "    </tr>\n",
       "    <tr>\n",
       "      <th>12408</th>\n",
       "      <td>Did not purchase from Amazon as third party sellers were of course raising prices due to low stock and high demand. Managed to find these MSRP.I had purchased the Neon Blue/Red Switch and wanted these because I read they were opposite the set that came with the Neon Switch. This is true. Purchasing these will give you a complete set of Blue and Red. So if you want to throw them on your Switch and have matching colors, you can now!They are a little on the expensive side compared to a typical controller from other console makers, but I get it. They are individual controllers for Multiplayer games and are pretty sophisticated. The motion sending is great, the rumble feels nice, the colors really pop! And the batteries last a very long time. You will not have to charge these often!Speaking of charging you have two options: purchase a charging dock to charge them, or have them connected to your Switch. I never found keeping the extra pairs charged because you will probably just have them attached to the console anyway. I rotate them out so they are always charged. The fact that the battery life is ~20 hrs, you will have a hard time and rarely be low on battery. Plus having more joycons means more Multiplayer fun!!</td>\n",
       "      <td>Did not purchase from Amazon as third party sellers were of course raising prices due to low stock and high demand. Managed to find these MSRP.I had purchased the Neon Blue/Red Switch and wanted these because I read they were opposite the set that came with the Neon Switch. This is true. Purchasing these will give you a complete set of Blue and Red. So if you want to throw them on your Switch and have matching colors, you can now!They are a little on the expensive side compared to a typical controller from other console makers, but I get it. They are individual controllers for Multiplayer games and are pretty sophisticated. The motion sending is great, the rumble feels nice, the colors really pop! And the batteries last a very long time. You will not have to charge these often!Speaking of charging you have two options: purchase a charging dock to charge them, or have them connected to your Switch. I never found keeping the extra pairs charged because you will probably just have them attached to the console anyway. I rotate them out so they are always charged. The fact that the battery life is ~20 hrs, you will have a hard time and rarely be low on battery. Plus having more joycons means more Multiplayer fun!</td>\n",
       "    </tr>\n",
       "    <tr>\n",
       "      <th>12410</th>\n",
       "      <td>I have been a Nintendo fan since the late 80's. I love their products for the most part. The Switch seems like a high water mark for innovation and functionality, with one caveat. The joy-con SUCKS!We have the blue and red joy-cons which came with the Switch. I bought the Pink &amp; Green joy-cons so we could play Mario Party (which we LOVE). Initially, we had no problems with the controllers. I was not impressed with the range, but whatever. Also, the delay while playing wirelessly is pitiable. If you are playing any game which requires timed button presses (Mario Party, Smash Bro's, Hollow Knight...) you cannot depend on accuracy, which is downright silly. Latency is not an issue for any other system's controllers.Now, I have got a blue controller which will not hold a charge, a pink controller who is \"L\" button does not register and my green controller's \"X\" button sticks. Perhaps these issues are from maltreatment. I do have three kids. But I was their age when I got my NES and I abused the heck out of those controllers and they STILL work today!I want to love the Joy-cons. they are adorable. The ability to switch between two and one controller play is a great feat in system engineering. The Switch system itself is a GREAT system. To ask $70!!! for garbage controllers which have lower range and higher latency than any other controller is a poor business practice. You are better than this Nintendo.</td>\n",
       "      <td>I have been a Nintendo fan since the late 80's. I love their products for the most part. The Switch seems like a high water mark for innovation and functionality, with one caveat. The joy-con SUCKS!We have the blue and red joy-cons which came with the Switch. I bought the Pink &amp; Green joy-cons so we could play Mario Party (which we LOVE). Initially, we had no problems with the controllers. I was not impressed with the range, but whatever. Also, the delay while playing wirelessly is pitiable. If you are playing any game which requires timed button presses (Mario Party, Smash Bro's, Hollow Knight.) you cannot depend on accuracy, which is downright silly. Latency is not an issue for any other system's controllers.Now, I have got a blue controller which will not hold a charge, a pink controller who is \"L\" button does not register and my green controller's \"X\" button sticks. Perhaps these issues are from maltreatment. I do have three kids. But I was their age when I got my NES and I abused the heck out of those controllers and they STILL work today!I want to love the Joy-cons. they are adorable. The ability to switch between two and one controller play is a great feat in system engineering. The Switch system itself is a GREAT system. To ask $70! for garbage controllers which have lower range and higher latency than any other controller is a poor business practice. You are better than this Nintendo.</td>\n",
       "    </tr>\n",
       "    <tr>\n",
       "      <th>12415</th>\n",
       "      <td>This is not so much a product review as a compliment, so here goes...Just wanted to give the Amazon delivery service a “Thank you”. I have had my Switch for almost 2 yrs and have logged many happy, sometimes frustrating hours on it. So last week when the Joy-Cons started gradually sticking I knew they needed replacing. The R stick was not actually “physically” sticking to the right, but was sending the message to the game to move right when I wanted to stand my ground. do not know if any of you have ever tried fighting Ice Lizalfos on a mountain top while Link keeps trying to creep off the cliff, but I would not recommend it. I would already searched to replace them, but due to the COVID pandemic Switch Joy-Cons are near impossible to get in regular grey here in Sacramento. EVERY store was wiped out. Even GameStop, Walmart, Best Buy and Fry’s could not provide via store OR online. Amazon said they could deliver, but not until August 1st... it was the best offer I could get. So when that beautiful little brown box showed up yesterday afternoon, July 28th, while I was actually playing Zelda BOTW no less, the feelings of relief that swept over me can only be understated. And just in time too. Yesterday, only an hour or so before delivery, the L stick was starting to stick to the right also. Whew!.... Thanks again, Amazon for that little extra “sumthin’” you always seem to provide.P.S. Oh, and the controllers were delivered, packaged, and function perfectly. The actual Nintendo Joy-Con box was untampered and had safety seals in tact - something I always look for, especially with electronics (and food, of course).</td>\n",
       "      <td>This is not so much a product review as a compliment, so here goes.Just wanted to give the Amazon delivery service a “Thank you”. I have had my Switch for almost 2 yrs and have logged many happy, sometimes frustrating hours on it. So last week when the Joy-Cons started gradually sticking I knew they needed replacing. The R stick was not actually “physically” sticking to the right, but was sending the message to the game to move right when I wanted to stand my ground. do not know if any of you have ever tried fighting Ice Lizalfos on a mountain top while Link keeps trying to creep off the cliff, but I would not recommend it. I would already searched to replace them, but due to the COVID pandemic Switch Joy-Cons are near impossible to get in regular grey here in Sacramento. EVERY store was wiped out. Even GameStop, Walmart, Best Buy and Fry’s could not provide via store OR online. Amazon said they could deliver, but not until August 1st. it was the best offer I could get. So when that beautiful little brown box showed up yesterday afternoon, July 28th, while I was actually playing Zelda BOTW no less, the feelings of relief that swept over me can only be understated. And just in time too. Yesterday, only an hour or so before delivery, the L stick was starting to stick to the right also. Whew!. Thanks again, Amazon for that little extra “sumthin’” you always seem to provide.P.S. Oh, and the controllers were delivered, packaged, and function perfectly. The actual Nintendo Joy-Con box was untampered and had safety seals in tact - something I always look for, especially with electronics (and food, of course).</td>\n",
       "    </tr>\n",
       "    <tr>\n",
       "      <th>12418</th>\n",
       "      <td>Edit: 2yrs later. Today is april 24th 2021 and let me say i am still disappointed. These worked but were the first to start drifting after about i dunno 1 month not bad but still upsetting for full price \"new\" joycons... both drift and still do till this day simply bc i have not sent them out to be fixed.1. Not new joy cons2. colors were swaped (did not even match what the actual box stated; (L) red (R) Blue)3. They are USEDso to start off the box of the controllers itself seemed to be slightly bent as if something heavier was placed on top. The first thing that i noticed was the colors were switched than advertised on the box (i do not mind that at all).Then i decided to check the controllers individually; both have black scratch marks as if being constantly put on and taken off of the console. With that said it already tells me they were used; now i did not pay ‘full’ price for something to be used, i initially did not buy them used. I could see small chips on the paint where they slide on and off of the console.Now they work, yes they seemed to work when i put them on the console; however, i have not actually played using them yet.I gave this 3 stars mainly for the fact that technically i did not get what i paid for. All in all i do not mind, as long as they work but it is upsetting to not get a good presentation.</td>\n",
       "      <td>Edit: 2yrs later. Today is april 24th 2021 and let me say i am still disappointed. These worked but were the first to start drifting after about i dunno 1 month not bad but still upsetting for full price \"new\" joycons. both drift and still do till this day simply bc i have not sent them out to be fixed.1. Not new joy cons2. colors were swaped (did not even match what the actual box stated; (L) red (R) Blue)3. They are USEDso to start off the box of the controllers itself seemed to be slightly bent as if something heavier was placed on top. The first thing that i noticed was the colors were switched than advertised on the box (i do not mind that at all).Then i decided to check the controllers individually; both have black scratch marks as if being constantly put on and taken off of the console. With that said it already tells me they were used; now i did not pay ‘full’ price for something to be used, i initially did not buy them used. I could see small chips on the paint where they slide on and off of the console.Now they work, yes they seemed to work when i put them on the console; however, i have not actually played using them yet.I gave this 3 stars mainly for the fact that technically i did not get what i paid for. All in all i do not mind, as long as they work but it is upsetting to not get a good presentation.</td>\n",
       "    </tr>\n",
       "  </tbody>\n",
       "</table>\n",
       "<p>1113 rows × 2 columns</p>\n",
       "</div>"
      ],
      "text/plain": [
       "                                                                                                                                                                                                                                                                                                                                                                                                                                                                                                                                                                                                                                                                                                                                                                                                                                                                                                                                                                                                                                                                                                                                                                                                                                                                                                                                                                                                                                                                                                                                                                                                                                                                                        expand_contractions                                                                                                                                                                                                                                                                                                                                                                                                                                                                                                                                                                                                                                                                                                                                                                                                                                                                                                                                                                                                                                                                                                                                                                                                                                                                                                                                                                                                                                                                                                                                                                                                                                                                            no_consecutive_punc\n",
       "1                                                                                                                                                                                                                                                                                                                                                                                                                                                                                                                                                                                                                                                                                                                                                                                                                                                                                                                                                                                                                                                                                                                                                                                                                                            Best computer I have ever own!! This computer forces me to be productive. I used to wait around for this spinning wheel to stop, and now I can do everything so quickly that I think I almost miss the waiting part. Ha ha. I do not have time to get coffee anymore. All my apps run smoothly, including adobe illustrator and Photoshop, and they work perfectly. Almost too perfect. I really love this computer. I hope it last me for many years to come.                                                                                                                                                                                                                                                                                                                                                                                                                                                                                                                                                                                                                                                                                                                                                                                                                                                                                                                                                                                                                                                                                                                                                                                                                                  Best computer I have ever own! This computer forces me to be productive. I used to wait around for this spinning wheel to stop, and now I can do everything so quickly that I think I almost miss the waiting part. Ha ha. I do not have time to get coffee anymore. All my apps run smoothly, including adobe illustrator and Photoshop, and they work perfectly. Almost too perfect. I really love this computer. I hope it last me for many years to come.\n",
       "11                                                                                                                                                                                                                                                                                                                                                                                                                                                                                                                                                                                                                                                                                                                                                                                                                                                                                                                                                                                                                                                                                                                                                                                                                                                                                                                                                                                                                                                                                                                                                                                                                                                                            Positivo, EXCELENTE EQUIPO!!!                                                                                                                                                                                                                                                                                                                                                                                                                                                                                                                                                                                                                                                                                                                                                                                                                                                                                                                                                                                                                                                                                                                                                                                                                                                                                                                                                                                                                                                                                                                                                                                                                                                                    Positivo, EXCELENTE EQUIPO!\n",
       "19                                                                                                                                                                                                                                                                                                                                                                                                                                                                                                                                                                                                                                                                                                                                                                                                                                                                                                                                                                                                            I have been using my renewed computer   for about 2 weeks now and I am so glad I bought it from “All-out-Apple” the best computer seller on Amazon! I received the 2018 MacBook Air i5 quad core 256gb and the actual specs matched the description! I use it for college for my Zoom classes and the virtual background works!! I upgraded from my 2013 MacBook Air and this one is a lot faster and a much better battery life. It also came with a brand new usb-c original Apple charger for this Mac. This computer is like-new with no scratches at all and I was able to transfer all my old data to this new computer. I would recommend this computer for students and teachers too.                                                                                                                                                                                                                                                                                                                                                                                                                                                                                                                                                                                                                                                                                                                                                                                                                                                                                                                                                                                                   I have been using my renewed computer   for about 2 weeks now and I am so glad I bought it from “All-out-Apple” the best computer seller on Amazon! I received the 2018 MacBook Air i5 quad core 256gb and the actual specs matched the description! I use it for college for my Zoom classes and the virtual background works! I upgraded from my 2013 MacBook Air and this one is a lot faster and a much better battery life. It also came with a brand new usb-c original Apple charger for this Mac. This computer is like-new with no scratches at all and I was able to transfer all my old data to this new computer. I would recommend this computer for students and teachers too.\n",
       "24                                                                                                                                                                                                                                                                                                                                                                                                                                                                                                                                                                                                                                                                                                                                                                                                                                                                                                                                                                                                                                                                                                                                                                                                                                                                                                                                                                                                                                                                                                                                                                            Excelente producto!! Sin palabras!, Lo mejor para el trabajo, gaming, día a día, el mejor producto de apple hasta la fecha!!!                                                                                                                                                                                                                                                                                                                                                                                                                                                                                                                                                                                                                                                                                                                                                                                                                                                                                                                                                                                                                                                                                                                                                                                                                                                                                                                                                                                                                                                                                                                                                                     Excelente producto! Sin palabras!, Lo mejor para el trabajo, gaming, día a día, el mejor producto de apple hasta la fecha!\n",
       "26                                                                                                                                                                                                                                                                                                                                                                                                                                                                                                                                                                                                                                                                                                                                                                                                                                                                                                                                                                                                                                                                                                                                                                                                                                                              I am extremely pleased with this early 2015, 13\" Macbook Pro! There is not one mark on the case, screen, keyboard - it is exactly like the brand-new one I purchased from Apple, 5 years ago!! The battery cycle count is only 21 - truly remarkable! It also came with a genuine MagSafe 2 Apple charger (I did check, and it is new and authentic). I am very happy with the purchase so far - thank you for selling such a quality item!                                                                                                                                                                                                                                                                                                                                                                                                                                                                                                                                                                                                                                                                                                                                                                                                                                                                                                                                                                                                                                                                                                                                                                                                                                                     I am extremely pleased with this early 2015, 13\" Macbook Pro! There is not one mark on the case, screen, keyboard - it is exactly like the brand-new one I purchased from Apple, 5 years ago! The battery cycle count is only 21 - truly remarkable! It also came with a genuine MagSafe 2 Apple charger (I did check, and it is new and authentic). I am very happy with the purchase so far - thank you for selling such a quality item!\n",
       "...                                                                                                                                                                                                                                                                                                                                                                                                                                                                                                                                                                                                                                                                                                                                                                                                                                                                                                                                                                                                                                                                                                                                                                                                                                                                                                                                                                                                                                                                                                                                                                                                                                                                                                     ...                                                                                                                                                                                                                                                                                                                                                                                                                                                                                                                                                                                                                                                                                                                                                                                                                                                                                                                                                                                                                                                                                                                                                                                                                                                                                                                                                                                                                                                                                                                                                                                                                                                                                            ...\n",
       "12405                                                                                                                                                                                                                                                                                                                                                                                                                                                                                                                                                                                                                                   These were an early Christmas gift for my son who has everything he wants, he literally does not want or need anything, so I am always far stretched when trying to figure out what to give him for birthdays and Christmas.I was relieved as heck when he said he wanted a set of these controllers. I could not wait for Christmas because he had the new Super Mario Party game and we were having a few people come to the house to play it.The controllers arrived just in time for our Mario Party , but my son and I played to practice the new game the day ahead. I usually am triple-thumbed when it comes to controlling the controllers but these were surprisingly easy for me to use.Note:I discovered that using a certain color controller gives that user certain controls over the game that the other users do not have. For instance, when using a particular color controller, I had the ability to click the game back to the previous screen, thus making everyone groan loudly and wait for me to click us back to the game at hand. :)~~~~                                                                                                                                                                                                                                                                                                                                                                                                                                                                                                                                                                                                                               These were an early Christmas gift for my son who has everything he wants, he literally does not want or need anything, so I am always far stretched when trying to figure out what to give him for birthdays and Christmas.I was relieved as heck when he said he wanted a set of these controllers. I could not wait for Christmas because he had the new Super Mario Party game and we were having a few people come to the house to play it.The controllers arrived just in time for our Mario Party , but my son and I played to practice the new game the day ahead. I usually am triple-thumbed when it comes to controlling the controllers but these were surprisingly easy for me to use.Note:I discovered that using a certain color controller gives that user certain controls over the game that the other users do not have. For instance, when using a particular color controller, I had the ability to click the game back to the previous screen, thus making everyone groan loudly and wait for me to click us back to the game at hand. :)~\n",
       "12408                                                                                                                                                                                                                                                                                                                                                                                                                          Did not purchase from Amazon as third party sellers were of course raising prices due to low stock and high demand. Managed to find these MSRP.I had purchased the Neon Blue/Red Switch and wanted these because I read they were opposite the set that came with the Neon Switch. This is true. Purchasing these will give you a complete set of Blue and Red. So if you want to throw them on your Switch and have matching colors, you can now!They are a little on the expensive side compared to a typical controller from other console makers, but I get it. They are individual controllers for Multiplayer games and are pretty sophisticated. The motion sending is great, the rumble feels nice, the colors really pop! And the batteries last a very long time. You will not have to charge these often!Speaking of charging you have two options: purchase a charging dock to charge them, or have them connected to your Switch. I never found keeping the extra pairs charged because you will probably just have them attached to the console anyway. I rotate them out so they are always charged. The fact that the battery life is ~20 hrs, you will have a hard time and rarely be low on battery. Plus having more joycons means more Multiplayer fun!!                                                                                                                                                                                                                                                                                                                                                                                                                    Did not purchase from Amazon as third party sellers were of course raising prices due to low stock and high demand. Managed to find these MSRP.I had purchased the Neon Blue/Red Switch and wanted these because I read they were opposite the set that came with the Neon Switch. This is true. Purchasing these will give you a complete set of Blue and Red. So if you want to throw them on your Switch and have matching colors, you can now!They are a little on the expensive side compared to a typical controller from other console makers, but I get it. They are individual controllers for Multiplayer games and are pretty sophisticated. The motion sending is great, the rumble feels nice, the colors really pop! And the batteries last a very long time. You will not have to charge these often!Speaking of charging you have two options: purchase a charging dock to charge them, or have them connected to your Switch. I never found keeping the extra pairs charged because you will probably just have them attached to the console anyway. I rotate them out so they are always charged. The fact that the battery life is ~20 hrs, you will have a hard time and rarely be low on battery. Plus having more joycons means more Multiplayer fun!\n",
       "12410                                                                                                                                                                                                                          I have been a Nintendo fan since the late 80's. I love their products for the most part. The Switch seems like a high water mark for innovation and functionality, with one caveat. The joy-con SUCKS!We have the blue and red joy-cons which came with the Switch. I bought the Pink & Green joy-cons so we could play Mario Party (which we LOVE). Initially, we had no problems with the controllers. I was not impressed with the range, but whatever. Also, the delay while playing wirelessly is pitiable. If you are playing any game which requires timed button presses (Mario Party, Smash Bro's, Hollow Knight...) you cannot depend on accuracy, which is downright silly. Latency is not an issue for any other system's controllers.Now, I have got a blue controller which will not hold a charge, a pink controller who is \"L\" button does not register and my green controller's \"X\" button sticks. Perhaps these issues are from maltreatment. I do have three kids. But I was their age when I got my NES and I abused the heck out of those controllers and they STILL work today!I want to love the Joy-cons. they are adorable. The ability to switch between two and one controller play is a great feat in system engineering. The Switch system itself is a GREAT system. To ask $70!!! for garbage controllers which have lower range and higher latency than any other controller is a poor business practice. You are better than this Nintendo.                                                                                                                                                                                                                       I have been a Nintendo fan since the late 80's. I love their products for the most part. The Switch seems like a high water mark for innovation and functionality, with one caveat. The joy-con SUCKS!We have the blue and red joy-cons which came with the Switch. I bought the Pink & Green joy-cons so we could play Mario Party (which we LOVE). Initially, we had no problems with the controllers. I was not impressed with the range, but whatever. Also, the delay while playing wirelessly is pitiable. If you are playing any game which requires timed button presses (Mario Party, Smash Bro's, Hollow Knight.) you cannot depend on accuracy, which is downright silly. Latency is not an issue for any other system's controllers.Now, I have got a blue controller which will not hold a charge, a pink controller who is \"L\" button does not register and my green controller's \"X\" button sticks. Perhaps these issues are from maltreatment. I do have three kids. But I was their age when I got my NES and I abused the heck out of those controllers and they STILL work today!I want to love the Joy-cons. they are adorable. The ability to switch between two and one controller play is a great feat in system engineering. The Switch system itself is a GREAT system. To ask $70! for garbage controllers which have lower range and higher latency than any other controller is a poor business practice. You are better than this Nintendo.\n",
       "12415  This is not so much a product review as a compliment, so here goes...Just wanted to give the Amazon delivery service a “Thank you”. I have had my Switch for almost 2 yrs and have logged many happy, sometimes frustrating hours on it. So last week when the Joy-Cons started gradually sticking I knew they needed replacing. The R stick was not actually “physically” sticking to the right, but was sending the message to the game to move right when I wanted to stand my ground. do not know if any of you have ever tried fighting Ice Lizalfos on a mountain top while Link keeps trying to creep off the cliff, but I would not recommend it. I would already searched to replace them, but due to the COVID pandemic Switch Joy-Cons are near impossible to get in regular grey here in Sacramento. EVERY store was wiped out. Even GameStop, Walmart, Best Buy and Fry’s could not provide via store OR online. Amazon said they could deliver, but not until August 1st... it was the best offer I could get. So when that beautiful little brown box showed up yesterday afternoon, July 28th, while I was actually playing Zelda BOTW no less, the feelings of relief that swept over me can only be understated. And just in time too. Yesterday, only an hour or so before delivery, the L stick was starting to stick to the right also. Whew!.... Thanks again, Amazon for that little extra “sumthin’” you always seem to provide.P.S. Oh, and the controllers were delivered, packaged, and function perfectly. The actual Nintendo Joy-Con box was untampered and had safety seals in tact - something I always look for, especially with electronics (and food, of course).  This is not so much a product review as a compliment, so here goes.Just wanted to give the Amazon delivery service a “Thank you”. I have had my Switch for almost 2 yrs and have logged many happy, sometimes frustrating hours on it. So last week when the Joy-Cons started gradually sticking I knew they needed replacing. The R stick was not actually “physically” sticking to the right, but was sending the message to the game to move right when I wanted to stand my ground. do not know if any of you have ever tried fighting Ice Lizalfos on a mountain top while Link keeps trying to creep off the cliff, but I would not recommend it. I would already searched to replace them, but due to the COVID pandemic Switch Joy-Cons are near impossible to get in regular grey here in Sacramento. EVERY store was wiped out. Even GameStop, Walmart, Best Buy and Fry’s could not provide via store OR online. Amazon said they could deliver, but not until August 1st. it was the best offer I could get. So when that beautiful little brown box showed up yesterday afternoon, July 28th, while I was actually playing Zelda BOTW no less, the feelings of relief that swept over me can only be understated. And just in time too. Yesterday, only an hour or so before delivery, the L stick was starting to stick to the right also. Whew!. Thanks again, Amazon for that little extra “sumthin’” you always seem to provide.P.S. Oh, and the controllers were delivered, packaged, and function perfectly. The actual Nintendo Joy-Con box was untampered and had safety seals in tact - something I always look for, especially with electronics (and food, of course).\n",
       "12418                                                                                                                                                                                                                                                                                                            Edit: 2yrs later. Today is april 24th 2021 and let me say i am still disappointed. These worked but were the first to start drifting after about i dunno 1 month not bad but still upsetting for full price \"new\" joycons... both drift and still do till this day simply bc i have not sent them out to be fixed.1. Not new joy cons2. colors were swaped (did not even match what the actual box stated; (L) red (R) Blue)3. They are USEDso to start off the box of the controllers itself seemed to be slightly bent as if something heavier was placed on top. The first thing that i noticed was the colors were switched than advertised on the box (i do not mind that at all).Then i decided to check the controllers individually; both have black scratch marks as if being constantly put on and taken off of the console. With that said it already tells me they were used; now i did not pay ‘full’ price for something to be used, i initially did not buy them used. I could see small chips on the paint where they slide on and off of the console.Now they work, yes they seemed to work when i put them on the console; however, i have not actually played using them yet.I gave this 3 stars mainly for the fact that technically i did not get what i paid for. All in all i do not mind, as long as they work but it is upsetting to not get a good presentation.                                                                                                                                                                                                                                                                                                       Edit: 2yrs later. Today is april 24th 2021 and let me say i am still disappointed. These worked but were the first to start drifting after about i dunno 1 month not bad but still upsetting for full price \"new\" joycons. both drift and still do till this day simply bc i have not sent them out to be fixed.1. Not new joy cons2. colors were swaped (did not even match what the actual box stated; (L) red (R) Blue)3. They are USEDso to start off the box of the controllers itself seemed to be slightly bent as if something heavier was placed on top. The first thing that i noticed was the colors were switched than advertised on the box (i do not mind that at all).Then i decided to check the controllers individually; both have black scratch marks as if being constantly put on and taken off of the console. With that said it already tells me they were used; now i did not pay ‘full’ price for something to be used, i initially did not buy them used. I could see small chips on the paint where they slide on and off of the console.Now they work, yes they seemed to work when i put them on the console; however, i have not actually played using them yet.I gave this 3 stars mainly for the fact that technically i did not get what i paid for. All in all i do not mind, as long as they work but it is upsetting to not get a good presentation.\n",
       "\n",
       "[1113 rows x 2 columns]"
      ]
     },
     "execution_count": 186,
     "metadata": {
      "tags": []
     },
     "output_type": "execute_result"
    }
   ],
   "source": [
    "df[df[\"expand_contractions\"] != df[\"no_consecutive_punc\"]][[\"expand_contractions\", \"no_consecutive_punc\"]]"
   ]
  },
  {
   "cell_type": "markdown",
   "metadata": {
    "id": "SNUn-frlmz2q"
   },
   "source": [
    "## Step 7: Filter Languages (English only)"
   ]
  },
  {
   "cell_type": "code",
   "execution_count": 252,
   "metadata": {
    "id": "Vi29NRD5nGD5"
   },
   "outputs": [],
   "source": [
    "nlp.add_pipe(LanguageDetector(), name='language_detector', last=True)"
   ]
  },
  {
   "cell_type": "code",
   "execution_count": 253,
   "metadata": {
    "id": "UR_SXIrqnizw"
   },
   "outputs": [],
   "source": [
    "def detect_lang(text):\n",
    "    doc = nlp(text)\n",
    "    lang = doc._.language['language']\n",
    "    return lang"
   ]
  },
  {
   "cell_type": "code",
   "execution_count": 254,
   "metadata": {
    "id": "UnCqAl6fnoo2"
   },
   "outputs": [],
   "source": [
    "df[\"lang\"] = df[\"no_consecutive_punc\"].apply(detect_lang)"
   ]
  },
  {
   "cell_type": "code",
   "execution_count": 255,
   "metadata": {
    "colab": {
     "base_uri": "https://localhost:8080/"
    },
    "id": "Zl4J9DWfyGhf",
    "outputId": "95386ff4-d67e-4a9f-e784-a7be56e5a1db"
   },
   "outputs": [
    {
     "name": "stdout",
     "output_type": "stream",
     "text": [
      "number of non english comments (2559, 2)\n"
     ]
    }
   ],
   "source": [
    "non_english_df = df[df.lang != \"en\"][[\"no_consecutive_punc\", \"lang\"]]\n",
    "print(\"number of non english comments\", non_english_df.shape)"
   ]
  },
  {
   "cell_type": "code",
   "execution_count": 256,
   "metadata": {
    "id": "hgHkdPQc2g4G"
   },
   "outputs": [],
   "source": [
    "df.to_csv(\"preprocessed.csv\")"
   ]
  },
  {
   "cell_type": "code",
   "execution_count": 258,
   "metadata": {
    "id": "GVffP5K2sexb"
   },
   "outputs": [],
   "source": [
    "filtered_df = df[df.lang == \"en\"]"
   ]
  },
  {
   "cell_type": "code",
   "execution_count": 260,
   "metadata": {
    "colab": {
     "base_uri": "https://localhost:8080/"
    },
    "id": "rPB-nmukzLoP",
    "outputId": "a20c150b-2e23-4ba3-f9e0-37165a6b35c8"
   },
   "outputs": [
    {
     "name": "stdout",
     "output_type": "stream",
     "text": [
      "Number of data before filter: 12416\n",
      "Number of data after filter: 9857\n"
     ]
    }
   ],
   "source": [
    "print(\"Number of data before filter:\", len(df))\n",
    "print(\"Number of data after filter:\", len(filtered_df))"
   ]
  },
  {
   "cell_type": "markdown",
   "metadata": {},
   "source": [
    "## Step 8: Lower case"
   ]
  },
  {
   "cell_type": "code",
   "execution_count": null,
   "metadata": {},
   "outputs": [],
   "source": [
    "df['lower_case'] = df[\"no_consecutive_punc\"].str.lower()"
   ]
  },
  {
   "cell_type": "code",
   "execution_count": null,
   "metadata": {},
   "outputs": [],
   "source": [
    "df.to_csv(\"preprocessed.csv\", index=False)"
   ]
  },
  {
   "cell_type": "markdown",
   "metadata": {},
   "source": [
    "# Discussion\n",
    "\n",
    "There some other techniques that can be considered depends on your task at hand. For example, remove numbers or convert text to number or vice versa."
   ]
  }
 ],
 "metadata": {
  "colab": {
   "collapsed_sections": [],
   "name": "NLP 7: Label Data.ipynb",
   "provenance": [],
   "toc_visible": true
  },
  "kernelspec": {
   "display_name": "Python 3",
   "language": "python",
   "name": "python3"
  },
  "language_info": {
   "codemirror_mode": {
    "name": "ipython",
    "version": 3
   },
   "file_extension": ".py",
   "mimetype": "text/x-python",
   "name": "python",
   "nbconvert_exporter": "python",
   "pygments_lexer": "ipython3",
   "version": "3.9.5"
  },
  "widgets": {
   "application/vnd.jupyter.widget-state+json": {
    "018b952fdb7c4eeebe5bf67f7197b8da": {
     "model_module": "@jupyter-widgets/base",
     "model_name": "LayoutModel",
     "state": {
      "_model_module": "@jupyter-widgets/base",
      "_model_module_version": "1.2.0",
      "_model_name": "LayoutModel",
      "_view_count": null,
      "_view_module": "@jupyter-widgets/base",
      "_view_module_version": "1.2.0",
      "_view_name": "LayoutView",
      "align_content": null,
      "align_items": null,
      "align_self": null,
      "border": null,
      "bottom": null,
      "display": null,
      "flex": null,
      "flex_flow": null,
      "grid_area": null,
      "grid_auto_columns": null,
      "grid_auto_flow": null,
      "grid_auto_rows": null,
      "grid_column": null,
      "grid_gap": null,
      "grid_row": null,
      "grid_template_areas": null,
      "grid_template_columns": null,
      "grid_template_rows": null,
      "height": null,
      "justify_content": null,
      "justify_items": null,
      "left": null,
      "margin": null,
      "max_height": null,
      "max_width": null,
      "min_height": null,
      "min_width": null,
      "object_fit": null,
      "object_position": null,
      "order": null,
      "overflow": null,
      "overflow_x": null,
      "overflow_y": null,
      "padding": null,
      "right": null,
      "top": null,
      "visibility": null,
      "width": null
     }
    },
    "045ab92764234b0c8ee692eeb8c7725e": {
     "model_module": "@jupyter-widgets/controls",
     "model_name": "DescriptionStyleModel",
     "state": {
      "_model_module": "@jupyter-widgets/controls",
      "_model_module_version": "1.5.0",
      "_model_name": "DescriptionStyleModel",
      "_view_count": null,
      "_view_module": "@jupyter-widgets/base",
      "_view_module_version": "1.2.0",
      "_view_name": "StyleView",
      "description_width": ""
     }
    },
    "0d4eaf43ee404ce9a4922db095feffd6": {
     "model_module": "@jupyter-widgets/controls",
     "model_name": "HBoxModel",
     "state": {
      "_dom_classes": [],
      "_model_module": "@jupyter-widgets/controls",
      "_model_module_version": "1.5.0",
      "_model_name": "HBoxModel",
      "_view_count": null,
      "_view_module": "@jupyter-widgets/controls",
      "_view_module_version": "1.5.0",
      "_view_name": "HBoxView",
      "box_style": "",
      "children": [
       "IPY_MODEL_819004fb66e547f2b8214d6b3f2af512",
       "IPY_MODEL_fd7e4cc5fc8943e49ffbabf44749b5ff"
      ],
      "layout": "IPY_MODEL_af19cff8710e46a1b63b3c1c772d5888"
     }
    },
    "238d82817c884f518534cdf521086937": {
     "model_module": "@jupyter-widgets/base",
     "model_name": "LayoutModel",
     "state": {
      "_model_module": "@jupyter-widgets/base",
      "_model_module_version": "1.2.0",
      "_model_name": "LayoutModel",
      "_view_count": null,
      "_view_module": "@jupyter-widgets/base",
      "_view_module_version": "1.2.0",
      "_view_name": "LayoutView",
      "align_content": null,
      "align_items": null,
      "align_self": null,
      "border": null,
      "bottom": null,
      "display": null,
      "flex": null,
      "flex_flow": null,
      "grid_area": null,
      "grid_auto_columns": null,
      "grid_auto_flow": null,
      "grid_auto_rows": null,
      "grid_column": null,
      "grid_gap": null,
      "grid_row": null,
      "grid_template_areas": null,
      "grid_template_columns": null,
      "grid_template_rows": null,
      "height": null,
      "justify_content": null,
      "justify_items": null,
      "left": null,
      "margin": null,
      "max_height": null,
      "max_width": null,
      "min_height": null,
      "min_width": null,
      "object_fit": null,
      "object_position": null,
      "order": null,
      "overflow": null,
      "overflow_x": null,
      "overflow_y": null,
      "padding": null,
      "right": null,
      "top": null,
      "visibility": null,
      "width": null
     }
    },
    "23d0c718553143ad9b0e2143f003bb24": {
     "model_module": "@jupyter-widgets/base",
     "model_name": "LayoutModel",
     "state": {
      "_model_module": "@jupyter-widgets/base",
      "_model_module_version": "1.2.0",
      "_model_name": "LayoutModel",
      "_view_count": null,
      "_view_module": "@jupyter-widgets/base",
      "_view_module_version": "1.2.0",
      "_view_name": "LayoutView",
      "align_content": null,
      "align_items": null,
      "align_self": null,
      "border": null,
      "bottom": null,
      "display": null,
      "flex": null,
      "flex_flow": null,
      "grid_area": null,
      "grid_auto_columns": null,
      "grid_auto_flow": null,
      "grid_auto_rows": null,
      "grid_column": null,
      "grid_gap": null,
      "grid_row": null,
      "grid_template_areas": null,
      "grid_template_columns": null,
      "grid_template_rows": null,
      "height": null,
      "justify_content": null,
      "justify_items": null,
      "left": null,
      "margin": null,
      "max_height": null,
      "max_width": null,
      "min_height": null,
      "min_width": null,
      "object_fit": null,
      "object_position": null,
      "order": null,
      "overflow": null,
      "overflow_x": null,
      "overflow_y": null,
      "padding": null,
      "right": null,
      "top": null,
      "visibility": null,
      "width": null
     }
    },
    "2510b9ab0fce4d19b7d241156672089d": {
     "model_module": "@jupyter-widgets/controls",
     "model_name": "HTMLModel",
     "state": {
      "_dom_classes": [],
      "_model_module": "@jupyter-widgets/controls",
      "_model_module_version": "1.5.0",
      "_model_name": "HTMLModel",
      "_view_count": null,
      "_view_module": "@jupyter-widgets/controls",
      "_view_module_version": "1.5.0",
      "_view_name": "HTMLView",
      "description": "",
      "description_tooltip": null,
      "layout": "IPY_MODEL_6819e7c6335f4e4287c633de91743095",
      "placeholder": "​",
      "style": "IPY_MODEL_6f911767fdd94f769a166b4b94672287",
      "value": " 232k/232k [00:02&lt;00:00, 113kB/s]"
     }
    },
    "4d75920e21914bf5a38d10057555f98d": {
     "model_module": "@jupyter-widgets/base",
     "model_name": "LayoutModel",
     "state": {
      "_model_module": "@jupyter-widgets/base",
      "_model_module_version": "1.2.0",
      "_model_name": "LayoutModel",
      "_view_count": null,
      "_view_module": "@jupyter-widgets/base",
      "_view_module_version": "1.2.0",
      "_view_name": "LayoutView",
      "align_content": null,
      "align_items": null,
      "align_self": null,
      "border": null,
      "bottom": null,
      "display": null,
      "flex": null,
      "flex_flow": null,
      "grid_area": null,
      "grid_auto_columns": null,
      "grid_auto_flow": null,
      "grid_auto_rows": null,
      "grid_column": null,
      "grid_gap": null,
      "grid_row": null,
      "grid_template_areas": null,
      "grid_template_columns": null,
      "grid_template_rows": null,
      "height": null,
      "justify_content": null,
      "justify_items": null,
      "left": null,
      "margin": null,
      "max_height": null,
      "max_width": null,
      "min_height": null,
      "min_width": null,
      "object_fit": null,
      "object_position": null,
      "order": null,
      "overflow": null,
      "overflow_x": null,
      "overflow_y": null,
      "padding": null,
      "right": null,
      "top": null,
      "visibility": null,
      "width": null
     }
    },
    "521591f84bf344a88eeabf1880752d76": {
     "model_module": "@jupyter-widgets/base",
     "model_name": "LayoutModel",
     "state": {
      "_model_module": "@jupyter-widgets/base",
      "_model_module_version": "1.2.0",
      "_model_name": "LayoutModel",
      "_view_count": null,
      "_view_module": "@jupyter-widgets/base",
      "_view_module_version": "1.2.0",
      "_view_name": "LayoutView",
      "align_content": null,
      "align_items": null,
      "align_self": null,
      "border": null,
      "bottom": null,
      "display": null,
      "flex": null,
      "flex_flow": null,
      "grid_area": null,
      "grid_auto_columns": null,
      "grid_auto_flow": null,
      "grid_auto_rows": null,
      "grid_column": null,
      "grid_gap": null,
      "grid_row": null,
      "grid_template_areas": null,
      "grid_template_columns": null,
      "grid_template_rows": null,
      "height": null,
      "justify_content": null,
      "justify_items": null,
      "left": null,
      "margin": null,
      "max_height": null,
      "max_width": null,
      "min_height": null,
      "min_width": null,
      "object_fit": null,
      "object_position": null,
      "order": null,
      "overflow": null,
      "overflow_x": null,
      "overflow_y": null,
      "padding": null,
      "right": null,
      "top": null,
      "visibility": null,
      "width": null
     }
    },
    "53c0f6ff4e3847e2866b160a709cbfdd": {
     "model_module": "@jupyter-widgets/controls",
     "model_name": "HTMLModel",
     "state": {
      "_dom_classes": [],
      "_model_module": "@jupyter-widgets/controls",
      "_model_module_version": "1.5.0",
      "_model_name": "HTMLModel",
      "_view_count": null,
      "_view_module": "@jupyter-widgets/controls",
      "_view_module_version": "1.5.0",
      "_view_name": "HTMLView",
      "description": "",
      "description_tooltip": null,
      "layout": "IPY_MODEL_df2356833d7f4d5e8173a4ba742187be",
      "placeholder": "​",
      "style": "IPY_MODEL_c4e722f894344af7be54033ac9e47941",
      "value": " 629/629 [00:14&lt;00:00, 43.0B/s]"
     }
    },
    "6127863f9cfa43b3a29dd30d91e8c963": {
     "model_module": "@jupyter-widgets/controls",
     "model_name": "ProgressStyleModel",
     "state": {
      "_model_module": "@jupyter-widgets/controls",
      "_model_module_version": "1.5.0",
      "_model_name": "ProgressStyleModel",
      "_view_count": null,
      "_view_module": "@jupyter-widgets/base",
      "_view_module_version": "1.2.0",
      "_view_name": "StyleView",
      "bar_color": null,
      "description_width": "initial"
     }
    },
    "6819e7c6335f4e4287c633de91743095": {
     "model_module": "@jupyter-widgets/base",
     "model_name": "LayoutModel",
     "state": {
      "_model_module": "@jupyter-widgets/base",
      "_model_module_version": "1.2.0",
      "_model_name": "LayoutModel",
      "_view_count": null,
      "_view_module": "@jupyter-widgets/base",
      "_view_module_version": "1.2.0",
      "_view_name": "LayoutView",
      "align_content": null,
      "align_items": null,
      "align_self": null,
      "border": null,
      "bottom": null,
      "display": null,
      "flex": null,
      "flex_flow": null,
      "grid_area": null,
      "grid_auto_columns": null,
      "grid_auto_flow": null,
      "grid_auto_rows": null,
      "grid_column": null,
      "grid_gap": null,
      "grid_row": null,
      "grid_template_areas": null,
      "grid_template_columns": null,
      "grid_template_rows": null,
      "height": null,
      "justify_content": null,
      "justify_items": null,
      "left": null,
      "margin": null,
      "max_height": null,
      "max_width": null,
      "min_height": null,
      "min_width": null,
      "object_fit": null,
      "object_position": null,
      "order": null,
      "overflow": null,
      "overflow_x": null,
      "overflow_y": null,
      "padding": null,
      "right": null,
      "top": null,
      "visibility": null,
      "width": null
     }
    },
    "68b2e481bed642618850f6e012a3c0ca": {
     "model_module": "@jupyter-widgets/base",
     "model_name": "LayoutModel",
     "state": {
      "_model_module": "@jupyter-widgets/base",
      "_model_module_version": "1.2.0",
      "_model_name": "LayoutModel",
      "_view_count": null,
      "_view_module": "@jupyter-widgets/base",
      "_view_module_version": "1.2.0",
      "_view_name": "LayoutView",
      "align_content": null,
      "align_items": null,
      "align_self": null,
      "border": null,
      "bottom": null,
      "display": null,
      "flex": null,
      "flex_flow": null,
      "grid_area": null,
      "grid_auto_columns": null,
      "grid_auto_flow": null,
      "grid_auto_rows": null,
      "grid_column": null,
      "grid_gap": null,
      "grid_row": null,
      "grid_template_areas": null,
      "grid_template_columns": null,
      "grid_template_rows": null,
      "height": null,
      "justify_content": null,
      "justify_items": null,
      "left": null,
      "margin": null,
      "max_height": null,
      "max_width": null,
      "min_height": null,
      "min_width": null,
      "object_fit": null,
      "object_position": null,
      "order": null,
      "overflow": null,
      "overflow_x": null,
      "overflow_y": null,
      "padding": null,
      "right": null,
      "top": null,
      "visibility": null,
      "width": null
     }
    },
    "6f911767fdd94f769a166b4b94672287": {
     "model_module": "@jupyter-widgets/controls",
     "model_name": "DescriptionStyleModel",
     "state": {
      "_model_module": "@jupyter-widgets/controls",
      "_model_module_version": "1.5.0",
      "_model_name": "DescriptionStyleModel",
      "_view_count": null,
      "_view_module": "@jupyter-widgets/base",
      "_view_module_version": "1.2.0",
      "_view_name": "StyleView",
      "description_width": ""
     }
    },
    "72ef4d8048a04eaa9503c761cbb9e07c": {
     "model_module": "@jupyter-widgets/base",
     "model_name": "LayoutModel",
     "state": {
      "_model_module": "@jupyter-widgets/base",
      "_model_module_version": "1.2.0",
      "_model_name": "LayoutModel",
      "_view_count": null,
      "_view_module": "@jupyter-widgets/base",
      "_view_module_version": "1.2.0",
      "_view_name": "LayoutView",
      "align_content": null,
      "align_items": null,
      "align_self": null,
      "border": null,
      "bottom": null,
      "display": null,
      "flex": null,
      "flex_flow": null,
      "grid_area": null,
      "grid_auto_columns": null,
      "grid_auto_flow": null,
      "grid_auto_rows": null,
      "grid_column": null,
      "grid_gap": null,
      "grid_row": null,
      "grid_template_areas": null,
      "grid_template_columns": null,
      "grid_template_rows": null,
      "height": null,
      "justify_content": null,
      "justify_items": null,
      "left": null,
      "margin": null,
      "max_height": null,
      "max_width": null,
      "min_height": null,
      "min_width": null,
      "object_fit": null,
      "object_position": null,
      "order": null,
      "overflow": null,
      "overflow_x": null,
      "overflow_y": null,
      "padding": null,
      "right": null,
      "top": null,
      "visibility": null,
      "width": null
     }
    },
    "789ec24fbc7f44d9b7dd4b347f9ebbf5": {
     "model_module": "@jupyter-widgets/controls",
     "model_name": "FloatProgressModel",
     "state": {
      "_dom_classes": [],
      "_model_module": "@jupyter-widgets/controls",
      "_model_module_version": "1.5.0",
      "_model_name": "FloatProgressModel",
      "_view_count": null,
      "_view_module": "@jupyter-widgets/controls",
      "_view_module_version": "1.5.0",
      "_view_name": "ProgressView",
      "bar_style": "success",
      "description": "Downloading: 100%",
      "description_tooltip": null,
      "layout": "IPY_MODEL_018b952fdb7c4eeebe5bf67f7197b8da",
      "max": 629,
      "min": 0,
      "orientation": "horizontal",
      "style": "IPY_MODEL_8235c4ee87cd4ef0baad5b1f19691ff9",
      "value": 629
     }
    },
    "7fefdb492ecd4905ab8703834777d2f4": {
     "model_module": "@jupyter-widgets/base",
     "model_name": "LayoutModel",
     "state": {
      "_model_module": "@jupyter-widgets/base",
      "_model_module_version": "1.2.0",
      "_model_name": "LayoutModel",
      "_view_count": null,
      "_view_module": "@jupyter-widgets/base",
      "_view_module_version": "1.2.0",
      "_view_name": "LayoutView",
      "align_content": null,
      "align_items": null,
      "align_self": null,
      "border": null,
      "bottom": null,
      "display": null,
      "flex": null,
      "flex_flow": null,
      "grid_area": null,
      "grid_auto_columns": null,
      "grid_auto_flow": null,
      "grid_auto_rows": null,
      "grid_column": null,
      "grid_gap": null,
      "grid_row": null,
      "grid_template_areas": null,
      "grid_template_columns": null,
      "grid_template_rows": null,
      "height": null,
      "justify_content": null,
      "justify_items": null,
      "left": null,
      "margin": null,
      "max_height": null,
      "max_width": null,
      "min_height": null,
      "min_width": null,
      "object_fit": null,
      "object_position": null,
      "order": null,
      "overflow": null,
      "overflow_x": null,
      "overflow_y": null,
      "padding": null,
      "right": null,
      "top": null,
      "visibility": null,
      "width": null
     }
    },
    "819004fb66e547f2b8214d6b3f2af512": {
     "model_module": "@jupyter-widgets/controls",
     "model_name": "FloatProgressModel",
     "state": {
      "_dom_classes": [],
      "_model_module": "@jupyter-widgets/controls",
      "_model_module_version": "1.5.0",
      "_model_name": "FloatProgressModel",
      "_view_count": null,
      "_view_module": "@jupyter-widgets/controls",
      "_view_module_version": "1.5.0",
      "_view_name": "ProgressView",
      "bar_style": "success",
      "description": "Downloading: 100%",
      "description_tooltip": null,
      "layout": "IPY_MODEL_23d0c718553143ad9b0e2143f003bb24",
      "max": 48,
      "min": 0,
      "orientation": "horizontal",
      "style": "IPY_MODEL_6127863f9cfa43b3a29dd30d91e8c963",
      "value": 48
     }
    },
    "8235c4ee87cd4ef0baad5b1f19691ff9": {
     "model_module": "@jupyter-widgets/controls",
     "model_name": "ProgressStyleModel",
     "state": {
      "_model_module": "@jupyter-widgets/controls",
      "_model_module_version": "1.5.0",
      "_model_name": "ProgressStyleModel",
      "_view_count": null,
      "_view_module": "@jupyter-widgets/base",
      "_view_module_version": "1.2.0",
      "_view_name": "StyleView",
      "bar_color": null,
      "description_width": "initial"
     }
    },
    "9839bd7cd0aa40c3827bcaeed7b9733a": {
     "model_module": "@jupyter-widgets/controls",
     "model_name": "ProgressStyleModel",
     "state": {
      "_model_module": "@jupyter-widgets/controls",
      "_model_module_version": "1.5.0",
      "_model_name": "ProgressStyleModel",
      "_view_count": null,
      "_view_module": "@jupyter-widgets/base",
      "_view_module_version": "1.2.0",
      "_view_name": "StyleView",
      "bar_color": null,
      "description_width": "initial"
     }
    },
    "9c90f2b380e242a5b69f8d158f9ea5f4": {
     "model_module": "@jupyter-widgets/controls",
     "model_name": "HBoxModel",
     "state": {
      "_dom_classes": [],
      "_model_module": "@jupyter-widgets/controls",
      "_model_module_version": "1.5.0",
      "_model_name": "HBoxModel",
      "_view_count": null,
      "_view_module": "@jupyter-widgets/controls",
      "_view_module_version": "1.5.0",
      "_view_name": "HBoxView",
      "box_style": "",
      "children": [
       "IPY_MODEL_ea01026ac24047cc970e6c79f0535920",
       "IPY_MODEL_d6ab2345b69f426d878a63b663e90ced"
      ],
      "layout": "IPY_MODEL_7fefdb492ecd4905ab8703834777d2f4"
     }
    },
    "9e3ce782ecca4f57926b16d5486406a0": {
     "model_module": "@jupyter-widgets/controls",
     "model_name": "DescriptionStyleModel",
     "state": {
      "_model_module": "@jupyter-widgets/controls",
      "_model_module_version": "1.5.0",
      "_model_name": "DescriptionStyleModel",
      "_view_count": null,
      "_view_module": "@jupyter-widgets/base",
      "_view_module_version": "1.2.0",
      "_view_name": "StyleView",
      "description_width": ""
     }
    },
    "adcaa1362d0148cca2a4a6c735e2730c": {
     "model_module": "@jupyter-widgets/controls",
     "model_name": "HBoxModel",
     "state": {
      "_dom_classes": [],
      "_model_module": "@jupyter-widgets/controls",
      "_model_module_version": "1.5.0",
      "_model_name": "HBoxModel",
      "_view_count": null,
      "_view_module": "@jupyter-widgets/controls",
      "_view_module_version": "1.5.0",
      "_view_name": "HBoxView",
      "box_style": "",
      "children": [
       "IPY_MODEL_ec913950659d498e917538b8f61f0be1",
       "IPY_MODEL_2510b9ab0fce4d19b7d241156672089d"
      ],
      "layout": "IPY_MODEL_bf92aeff4b9141bd886a29970281e310"
     }
    },
    "af19cff8710e46a1b63b3c1c772d5888": {
     "model_module": "@jupyter-widgets/base",
     "model_name": "LayoutModel",
     "state": {
      "_model_module": "@jupyter-widgets/base",
      "_model_module_version": "1.2.0",
      "_model_name": "LayoutModel",
      "_view_count": null,
      "_view_module": "@jupyter-widgets/base",
      "_view_module_version": "1.2.0",
      "_view_name": "LayoutView",
      "align_content": null,
      "align_items": null,
      "align_self": null,
      "border": null,
      "bottom": null,
      "display": null,
      "flex": null,
      "flex_flow": null,
      "grid_area": null,
      "grid_auto_columns": null,
      "grid_auto_flow": null,
      "grid_auto_rows": null,
      "grid_column": null,
      "grid_gap": null,
      "grid_row": null,
      "grid_template_areas": null,
      "grid_template_columns": null,
      "grid_template_rows": null,
      "height": null,
      "justify_content": null,
      "justify_items": null,
      "left": null,
      "margin": null,
      "max_height": null,
      "max_width": null,
      "min_height": null,
      "min_width": null,
      "object_fit": null,
      "object_position": null,
      "order": null,
      "overflow": null,
      "overflow_x": null,
      "overflow_y": null,
      "padding": null,
      "right": null,
      "top": null,
      "visibility": null,
      "width": null
     }
    },
    "bf92aeff4b9141bd886a29970281e310": {
     "model_module": "@jupyter-widgets/base",
     "model_name": "LayoutModel",
     "state": {
      "_model_module": "@jupyter-widgets/base",
      "_model_module_version": "1.2.0",
      "_model_name": "LayoutModel",
      "_view_count": null,
      "_view_module": "@jupyter-widgets/base",
      "_view_module_version": "1.2.0",
      "_view_name": "LayoutView",
      "align_content": null,
      "align_items": null,
      "align_self": null,
      "border": null,
      "bottom": null,
      "display": null,
      "flex": null,
      "flex_flow": null,
      "grid_area": null,
      "grid_auto_columns": null,
      "grid_auto_flow": null,
      "grid_auto_rows": null,
      "grid_column": null,
      "grid_gap": null,
      "grid_row": null,
      "grid_template_areas": null,
      "grid_template_columns": null,
      "grid_template_rows": null,
      "height": null,
      "justify_content": null,
      "justify_items": null,
      "left": null,
      "margin": null,
      "max_height": null,
      "max_width": null,
      "min_height": null,
      "min_width": null,
      "object_fit": null,
      "object_position": null,
      "order": null,
      "overflow": null,
      "overflow_x": null,
      "overflow_y": null,
      "padding": null,
      "right": null,
      "top": null,
      "visibility": null,
      "width": null
     }
    },
    "c4e722f894344af7be54033ac9e47941": {
     "model_module": "@jupyter-widgets/controls",
     "model_name": "DescriptionStyleModel",
     "state": {
      "_model_module": "@jupyter-widgets/controls",
      "_model_module_version": "1.5.0",
      "_model_name": "DescriptionStyleModel",
      "_view_count": null,
      "_view_module": "@jupyter-widgets/base",
      "_view_module_version": "1.2.0",
      "_view_name": "StyleView",
      "description_width": ""
     }
    },
    "d6ab2345b69f426d878a63b663e90ced": {
     "model_module": "@jupyter-widgets/controls",
     "model_name": "HTMLModel",
     "state": {
      "_dom_classes": [],
      "_model_module": "@jupyter-widgets/controls",
      "_model_module_version": "1.5.0",
      "_model_name": "HTMLModel",
      "_view_count": null,
      "_view_module": "@jupyter-widgets/controls",
      "_view_module_version": "1.5.0",
      "_view_name": "HTMLView",
      "description": "",
      "description_tooltip": null,
      "layout": "IPY_MODEL_4d75920e21914bf5a38d10057555f98d",
      "placeholder": "​",
      "style": "IPY_MODEL_045ab92764234b0c8ee692eeb8c7725e",
      "value": " 268M/268M [00:14&lt;00:00, 18.9MB/s]"
     }
    },
    "df2356833d7f4d5e8173a4ba742187be": {
     "model_module": "@jupyter-widgets/base",
     "model_name": "LayoutModel",
     "state": {
      "_model_module": "@jupyter-widgets/base",
      "_model_module_version": "1.2.0",
      "_model_name": "LayoutModel",
      "_view_count": null,
      "_view_module": "@jupyter-widgets/base",
      "_view_module_version": "1.2.0",
      "_view_name": "LayoutView",
      "align_content": null,
      "align_items": null,
      "align_self": null,
      "border": null,
      "bottom": null,
      "display": null,
      "flex": null,
      "flex_flow": null,
      "grid_area": null,
      "grid_auto_columns": null,
      "grid_auto_flow": null,
      "grid_auto_rows": null,
      "grid_column": null,
      "grid_gap": null,
      "grid_row": null,
      "grid_template_areas": null,
      "grid_template_columns": null,
      "grid_template_rows": null,
      "height": null,
      "justify_content": null,
      "justify_items": null,
      "left": null,
      "margin": null,
      "max_height": null,
      "max_width": null,
      "min_height": null,
      "min_width": null,
      "object_fit": null,
      "object_position": null,
      "order": null,
      "overflow": null,
      "overflow_x": null,
      "overflow_y": null,
      "padding": null,
      "right": null,
      "top": null,
      "visibility": null,
      "width": null
     }
    },
    "e9510a3628224e12b45d575eb66e8634": {
     "model_module": "@jupyter-widgets/controls",
     "model_name": "ProgressStyleModel",
     "state": {
      "_model_module": "@jupyter-widgets/controls",
      "_model_module_version": "1.5.0",
      "_model_name": "ProgressStyleModel",
      "_view_count": null,
      "_view_module": "@jupyter-widgets/base",
      "_view_module_version": "1.2.0",
      "_view_name": "StyleView",
      "bar_color": null,
      "description_width": "initial"
     }
    },
    "ea01026ac24047cc970e6c79f0535920": {
     "model_module": "@jupyter-widgets/controls",
     "model_name": "FloatProgressModel",
     "state": {
      "_dom_classes": [],
      "_model_module": "@jupyter-widgets/controls",
      "_model_module_version": "1.5.0",
      "_model_name": "FloatProgressModel",
      "_view_count": null,
      "_view_module": "@jupyter-widgets/controls",
      "_view_module_version": "1.5.0",
      "_view_name": "ProgressView",
      "bar_style": "success",
      "description": "Downloading: 100%",
      "description_tooltip": null,
      "layout": "IPY_MODEL_68b2e481bed642618850f6e012a3c0ca",
      "max": 267844284,
      "min": 0,
      "orientation": "horizontal",
      "style": "IPY_MODEL_e9510a3628224e12b45d575eb66e8634",
      "value": 267844284
     }
    },
    "eb4aa4e8a8d1440a9c47ee7a6d44ed29": {
     "model_module": "@jupyter-widgets/controls",
     "model_name": "HBoxModel",
     "state": {
      "_dom_classes": [],
      "_model_module": "@jupyter-widgets/controls",
      "_model_module_version": "1.5.0",
      "_model_name": "HBoxModel",
      "_view_count": null,
      "_view_module": "@jupyter-widgets/controls",
      "_view_module_version": "1.5.0",
      "_view_name": "HBoxView",
      "box_style": "",
      "children": [
       "IPY_MODEL_789ec24fbc7f44d9b7dd4b347f9ebbf5",
       "IPY_MODEL_53c0f6ff4e3847e2866b160a709cbfdd"
      ],
      "layout": "IPY_MODEL_238d82817c884f518534cdf521086937"
     }
    },
    "ec913950659d498e917538b8f61f0be1": {
     "model_module": "@jupyter-widgets/controls",
     "model_name": "FloatProgressModel",
     "state": {
      "_dom_classes": [],
      "_model_module": "@jupyter-widgets/controls",
      "_model_module_version": "1.5.0",
      "_model_name": "FloatProgressModel",
      "_view_count": null,
      "_view_module": "@jupyter-widgets/controls",
      "_view_module_version": "1.5.0",
      "_view_name": "ProgressView",
      "bar_style": "success",
      "description": "Downloading: 100%",
      "description_tooltip": null,
      "layout": "IPY_MODEL_521591f84bf344a88eeabf1880752d76",
      "max": 231508,
      "min": 0,
      "orientation": "horizontal",
      "style": "IPY_MODEL_9839bd7cd0aa40c3827bcaeed7b9733a",
      "value": 231508
     }
    },
    "fd7e4cc5fc8943e49ffbabf44749b5ff": {
     "model_module": "@jupyter-widgets/controls",
     "model_name": "HTMLModel",
     "state": {
      "_dom_classes": [],
      "_model_module": "@jupyter-widgets/controls",
      "_model_module_version": "1.5.0",
      "_model_name": "HTMLModel",
      "_view_count": null,
      "_view_module": "@jupyter-widgets/controls",
      "_view_module_version": "1.5.0",
      "_view_name": "HTMLView",
      "description": "",
      "description_tooltip": null,
      "layout": "IPY_MODEL_72ef4d8048a04eaa9503c761cbb9e07c",
      "placeholder": "​",
      "style": "IPY_MODEL_9e3ce782ecca4f57926b16d5486406a0",
      "value": " 48.0/48.0 [00:00&lt;00:00, 537B/s]"
     }
    }
   }
  }
 },
 "nbformat": 4,
 "nbformat_minor": 4
}
